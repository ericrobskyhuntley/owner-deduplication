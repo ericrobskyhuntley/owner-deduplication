{
 "cells": [
  {
   "cell_type": "code",
   "execution_count": 1,
   "metadata": {},
   "outputs": [],
   "source": [
    "import pandas as pd\n",
    "import geopandas as gpd\n",
    "from sqlalchemy import create_engine\n",
    "import numpy as np\n",
    "import dedupe\n",
    "import re\n",
    "from dotenv import load_dotenv\n",
    "import os"
   ]
  },
  {
   "cell_type": "code",
   "execution_count": 2,
   "metadata": {},
   "outputs": [],
   "source": [
    "load_dotenv()\n",
    "PG_CONNECT = os.getenv(\"PG_CONNECT\")"
   ]
  },
  {
   "cell_type": "code",
   "execution_count": 3,
   "metadata": {},
   "outputs": [],
   "source": [
    "# Residential Land Use Codes from MA Dept of Revenue\n",
    "# https://www.mass.gov/files/documents/2016/08/wr/classificationcodebook.pdf\n",
    "# Codes are 101*-109*, 031*, and 013*\n",
    "# Often include suffixes (letters, zeroes or no character), thus regex *?\n",
    "USE_CODES = '^1[0-1][1-9]*?|^013*?|^031*?'\n",
    "BOS_CODES = '^R[1-4]$|^RC$|^RL$|^CD$|^A$'\n",
    "\n",
    "medparse = lambda x: pd.datetime.strptime(x, '%Y%m%d')\n",
    "\n",
    "def read_res(file_dict):\n",
    "    df = pd.DataFrame()\n",
    "    for town, file, in file_dict.items():\n",
    "        town_df = gpd.read_file(file).drop('geometry', axis='columns')\n",
    "        town_df['town'] = town\n",
    "        df = df.append(town_df, ignore_index=True)\n",
    "    return df"
   ]
  },
  {
   "cell_type": "code",
   "execution_count": 4,
   "metadata": {},
   "outputs": [],
   "source": [
    "# Data from MassGIS Standardized Assessor's Parcels\n",
    "# https://docs.digital.mass.gov/dataset/massgis-data-standardized-assessors-parcels\n",
    "# Medford, Cambridge, and Somerville all last updated FY 2019"
   ]
  },
  {
   "cell_type": "code",
   "execution_count": 5,
   "metadata": {},
   "outputs": [],
   "source": [
    "# Medford processing.\n",
    "files = {'med': './data/assess/med_assess.dbf'}\n",
    "med = read_res(files)\n",
    "# Rename column to lower-case.\n",
    "med.columns = med.columns.str.lower()\n",
    "# Filter for residential paWorldrcels.\n",
    "med = med[med['use_code'].str.contains(USE_CODES, regex=True)]\n",
    "# Identify rows with co-owner names erroneously listed in address column.\n",
    "mask = med.own_addr.str.contains(pat = '|'.join(['^C/O', '^[A-Za-z]']), na=False) & ~med.own_addr.str.contains(pat = '|'.join(['^PO', '^P.O.', '^P. O.', '^P O ', '^ONE', '^BOX', '^ZERO']), na=False)\n",
    "# Add co-owners identified to co column.\n",
    "med['co'] = med.own_addr[mask]\n",
    "med.loc[~mask, 'co'] = None\n",
    "# Fill own_addr with none for above-identified rows.\n",
    "med.loc[mask, 'own_addr'] = None\n",
    "# Remame columns\n",
    "med = med.rename(columns = {\n",
    "    'prop_id': 'gisid',\n",
    "    'owner1': 'own',\n",
    "    'site_addr': 'prop_addr',\n",
    "    'total_val': 'ass_val',\n",
    "    'location': 'unit',\n",
    "    'ls_date': 'sale_d',\n",
    "    'ls_price': 'sale_p'\n",
    "})\n",
    "med.loc[:,'sale_d'] = pd.to_datetime(med['sale_d'], format='%Y%m%d')\n",
    "med.loc[:,'prop_addr'] = med.prop_addr.str.strip()\n",
    "# Replace underscores with hyphens.\n",
    "med.loc[:,'gisid'] = med.gisid.str.replace(r'_', '-', regex=True)\n",
    "# Concatenate address.\n",
    "med.loc[:,'own_addr'] = [', '.join((str(a), str(b), str(c))) for a, b, c in zip(med['own_addr'], med['own_city'], med['own_state'])]\n",
    "med.loc[:,'own_addr'] = [' '.join((str(a), str(b))) for a, b in zip(med['own_addr'], med['own_zip'])]\n",
    "# Remove concatenated Nones.\n",
    "med = med.replace({r'None, ': ''}, regex=True)\n",
    "med['year'] = 'FY2019'\n",
    "med.loc[:,'sale_p'] = med['sale_p'].replace(0, None)\n",
    "# Filter columns.\n",
    "med = med[['gisid', 'town', 'prop_addr', 'unit', 'own', 'co', 'own_addr', 'ass_val', 'year', 'sale_d', 'sale_p']]"
   ]
  },
  {
   "cell_type": "code",
   "execution_count": 6,
   "metadata": {},
   "outputs": [
    {
     "name": "stderr",
     "output_type": "stream",
     "text": [
      "/home/ericrobskyhuntley/.local/lib/python3.8/site-packages/IPython/core/interactiveshell.py:3062: DtypeWarning: Columns (13,20,53,54,59,60,61,62,63,64,65,66,67,68,69,70) have mixed types.Specify dtype option on import or set low_memory=False.\n",
      "  has_raised = await self.run_ast_nodes(code_ast.body, cell_name,\n"
     ]
    }
   ],
   "source": [
    "# Somerville processing.\n",
    "som = pd.read_csv('./data/assess/som_assess_FY14-FY19.csv',\n",
    "                  dtype={'HOUSE NO': str}) \n",
    "som.columns = som.columns.str.lower()\n",
    "\n",
    "# Filter for residential parcels.\n",
    "som = som[som['pcc'].str.contains(USE_CODES, regex=True)]\n",
    "\n",
    "som.loc[:,'prop_addr'] = [' '.join((str(a), str(b))) for a, b in zip(som['house no'], som['street'])]\n",
    "\n",
    "som = som.replace({r'^, ': '', r' ,': '', r', nan': '', r'nan': '', r'None, ': '', r', None': ''}, regex=True)\n",
    "som = som.replace({' ': None, '': None, np.nan: None})\n",
    "\n",
    "# Pad ZIP code with zeroes, remove 4-digit suffix.\n",
    "# Assessor appears to have overzealously corrected...\n",
    "som.loc[:,'owner zip'] = som['owner zip'].str[1:]\n",
    "som.loc[:,'own_addr'] = [', '.join((str(a), str(b), str(c), str(d))) for a, b, c, d in zip(som['owner add'], som['owner city'], som['owner state'], som['owner zip'])]\n",
    "\n",
    "som.loc[:,'gisid'] = ['-'.join((str(m), str(b), str(l))) for m, b, l in zip(som['map'], som['block'], som['lot'])]\n",
    "som['town'] = 'som'\n",
    "som = som.drop(['year'], axis=1)\n",
    "som = som.rename(columns = {\n",
    "    'commitment owner': 'own',\n",
    "    'current co-owner': 'co',\n",
    "    'parcel val': 'ass_val',\n",
    "    'fiscal_year': 'year'\n",
    "})\n",
    "\n",
    "# Assessor seems to have screwed up this column in the 2014-2019 data\n",
    "# but it appears that 2019 data is incrementally numbered (¯\\_(ツ)_/¯)\n",
    "som = som.loc[som['year'] >= 2019]\n",
    "som['year'] = 'FY2019'\n",
    "# Filter columns.\n",
    "som = som[['gisid', 'town', 'prop_addr', 'unit', 'own', 'co', 'own_addr', 'ass_val', 'year']]"
   ]
  },
  {
   "cell_type": "code",
   "execution_count": 7,
   "metadata": {},
   "outputs": [],
   "source": [
    "# Somerville 2019 assessor's table doesn't include sale date \n",
    "# (apparently by accident), so we collate with MassGIS source.\n",
    "files = {'som': './data/assess/som_massgis.dbf'}\n",
    "som_mg = read_res(files)\n",
    "# Rename column to lower-case.\n",
    "som_mg.columns = som_mg.columns.str.lower()\n",
    "# Remame columns\n",
    "som_mg = som_mg.rename(columns = {\n",
    "    'prop_id': 'gisid',\n",
    "    'ls_date': 'sale_d',\n",
    "    'ls_price': 'sale_p'\n",
    "})\n",
    "som_mg.loc[:,'sale_d'] = pd.to_datetime(som_mg['sale_d'], format='%Y%m%d')\n",
    "# Replace underscores with hyphens.\n",
    "som_mg.loc[:,'gisid'] = som_mg.gisid.str.replace(r'_', '-', regex=True)\n",
    "som_mg.loc[:,'sale_p'] = som_mg['sale_p'].replace(0, None)\n",
    "# Filter columns.\n",
    "som_mg = som_mg[['gisid', 'sale_d', 'sale_p']]"
   ]
  },
  {
   "cell_type": "code",
   "execution_count": 8,
   "metadata": {},
   "outputs": [],
   "source": [
    "som = som.merge(som_mg[['gisid', 'sale_d', 'sale_p']], how='left', on='gisid')"
   ]
  },
  {
   "cell_type": "code",
   "execution_count": 73,
   "metadata": {},
   "outputs": [],
   "source": [
    "bos = pd.read_csv('./data/assess/bos_assess.csv', dtype={'GIS_ID': str, 'MAIL_ZIPCODE': str, 'U_TOT_RMS': str})\n",
    "bos.columns = bos.columns.str.lower()\n",
    "bos = bos.rename(columns = {\n",
    "    'gis_id': 'gisid',\n",
    "    'owner': 'own',\n",
    "    'mail_addressee': 'co',\n",
    "    'unit_num': 'unit',\n",
    "    'av_total': 'ass_val'\n",
    "})\n",
    "bos['town'] = 'bos'\n",
    "# Filter by residential property types.\n",
    "bos = bos[bos['lu'].str.contains(BOS_CODES, regex=True)]\n",
    "bos.loc[:, 'gisid'] = bos.gisid.str.strip().str.pad(width=10, side='left', fillchar='0')\n",
    "# Pad ZIP code with zeroes, remove 4-digit suffix.\n",
    "bos.loc[:,'mail_zipcode'] = bos.mail_zipcode.astype(str).str.strip().str.pad(width=5, side='left', fillchar='0')\n",
    "# Add comma between city and state.\n",
    "bos.loc[:,'mail cs'] = bos['mail cs'].str.rsplit(' ', 1).apply(lambda x: ', '.join(x))\n",
    "# Concatenate property address components\n",
    "bos.loc[:,'prop_addr'] = [' '.join((str(a), str(b), str(c))) for a, b, c in zip(bos['st_num'], bos['st_name'], bos['st_name_suf'])]\n",
    "bos.loc[:,'prop_addr'] = bos.prop_addr.str.strip()\n",
    "# Concatenate owner address components.\n",
    "bos.loc[:,'own_addr'] = [', '.join((str(a), str(b))) for a, b in zip(bos['mail_address'], bos['mail cs'])]\n",
    "bos.loc[:,'own_addr'] = [' '.join((str(a), str(b))) for a, b in zip(bos['own_addr'], bos['mail_zipcode'])]\n",
    "bos.loc[:,'own_addr'] = bos.own_addr.str.strip()\n",
    "# Filter columns\n",
    "bos['year'] = 'FY2020'\n",
    "bos = bos[['gisid', 'town', 'prop_addr', 'unit', 'own', 'co', 'own_addr', 'ass_val', 'year']]\n",
    "# Replace blank strings with None (necessary for dedupe).\n",
    "bos = bos.replace({' ': None, '': None, r' #nan': None})\n",
    "bos = bos.replace({r' #nan': ''}, regex=True)"
   ]
  },
  {
   "cell_type": "code",
   "execution_count": 10,
   "metadata": {},
   "outputs": [],
   "source": [
    "cam = pd.read_csv('./data/assess/cam_assess.csv',\n",
    "                  parse_dates=['SaleDate'],\n",
    "                  dtype={'Owner_Zip': str, \n",
    "                         'SalePrice': float,\n",
    "                         'StateClassCode': str\n",
    "                        })\n",
    "# rename all columns to lowercase\n",
    "cam.columns = cam.columns.str.lower()\n",
    "# Filter for residential properties.\n",
    "cam = cam[cam['stateclasscode'].str.contains(USE_CODES, regex=True)]\n",
    "# Pad zip to five digits and remove 4-digit zip suffix.\n",
    "cam.loc[:,'owner_zip'] = cam['owner_zip'].str.rsplit('-', 1).str[0]\n",
    "# Identify rows with co-owner names erroneously listed in address column.\n",
    "mask = cam.owner_address.str.contains(pat = '|'.join(['^C/O', '^ATTN:']), na=False)\n",
    "cam.loc[mask, 'owner_address'] = None\n",
    "# Add co-owners identified to co column.\n",
    "cam.loc[mask, 'owner_coownername'] = [', '.join((str(a), str(b)))  for a, b in zip(cam.loc[mask, 'owner_coownername'], cam.loc[mask, 'owner_address'])]\n",
    "# Concatenate owner address components\n",
    "cam.loc[:,'own_addr'] = [', '.join((str(a), str(b), str(c), str(d))) for a, b, c, d in zip(cam['owner_address'], cam['owner_address2'], cam['owner_city'], cam['owner_state'])]\n",
    "cam.loc[:,'own_addr'] = [' '.join((str(a), str(b))) for a, b in zip(cam['own_addr'], cam['owner_zip'])]\n",
    "cam.loc[:,'own_addr'] = cam.own_addr.str.strip()\n",
    "# Clean property address column\n",
    "cam['prop_addr'] = cam['address'].str.rsplit('\\nCambridge, MA', 1).apply(lambda x: x[0].replace('\\n', ' ').strip())\n",
    "# Bring property address in line with others.\n",
    "cam['town'] = 'cam' \n",
    "cam = cam.rename(columns = {\n",
    "    'owner_name': 'own',\n",
    "    'owner_coownername': 'co',\n",
    "    'assessedvalue': 'ass_val',\n",
    "    'saleprice': 'sale_p',\n",
    "    'saledate': 'sale_d'\n",
    "})\n",
    "cam['year'] = 'FY2020'\n",
    "cam['sale_p'].values[cam['sale_p'].values < 1] = None\n",
    "cam = cam.replace({r'^, ': '', r' ,': '', r', nan': '', r'None, ': '', r', None': ''}, regex=True)\n",
    "cam = cam.replace({' ': None, '': None, np.nan: None})\n",
    "cam = cam[['gisid', 'town', 'prop_addr', 'unit', 'own', 'co', 'own_addr', 'ass_val', 'year', 'sale_d', 'sale_p']]"
   ]
  },
  {
   "cell_type": "code",
   "execution_count": 11,
   "metadata": {
    "scrolled": true
   },
   "outputs": [
    {
     "name": "stderr",
     "output_type": "stream",
     "text": [
      "/home/ericrobskyhuntley/.local/lib/python3.8/site-packages/IPython/core/interactiveshell.py:3062: DtypeWarning: Columns (20,134,136,137,138,139,140,141,143,152,154,155,156,161,165,173) have mixed types.Specify dtype option on import or set low_memory=False.\n",
      "  has_raised = await self.run_ast_nodes(code_ast.body, cell_name,\n",
      "<ipython-input-11-e3e36685ca37>:33: RuntimeWarning: invalid value encountered in less\n",
      "  brook['sale_p'].values[brook['sale_p'].values < 1] = None\n"
     ]
    }
   ],
   "source": [
    "brook = pd.read_csv('./data/assess/brook_assess.csv', \n",
    "                    dtype={'SALEPRICE': float,\n",
    "                          'USECD': str},\n",
    "                    parse_dates=['SALEDATE'])\n",
    "brook.columns = brook.columns.str.lower()\n",
    "brook = brook[brook['usecd'].str.contains(USE_CODES, regex=True)]\n",
    "\n",
    "brook.loc[:,'zip'] = brook['zip'].str.rsplit('-', 1).str[0]\n",
    "# Name town.\n",
    "brook['town'] = 'brk' \n",
    "# Concatenate address.\n",
    "brook.loc[:,'own_addr'] = [', '.join((str(a), str(b), str(c))) for a, b, c, in zip(brook['address'], brook['city'], brook['state'])]\n",
    "# Append zip to address with no comma.\n",
    "brook.loc[:,'own_addr'] = [' '.join((str(a), str(b))) for a, b in zip(brook['own_addr'], brook['zip'])]\n",
    "brook.loc[:,'own_addr'] = brook.own_addr.str.strip()\n",
    "# Concatenate property address components\n",
    "brook.loc[:,'prop_addr'] = [''.join((str(a), str(b))) for a, b in zip(brook['addno1'], brook['addno2'])]\n",
    "brook.loc[:,'prop_addr'] = [' '.join((str(a), str(b))) for a, b in zip(brook['prop_addr'], brook['addst1'])]\n",
    "brook.loc[:,'prop_addr'] = brook.prop_addr.str.strip()\n",
    "# Append \n",
    "brook.loc[:,'own'] = [' '.join((str (a), str(b))) for a, b in zip(brook['firstname1'], brook['lastname1'])]\n",
    "brook.loc[:,'co'] = [' '.join((str(a), str(b))) for a, b in zip(brook['firstname2'], brook['lastname2'])]\n",
    "brook = brook.replace({' ': None, '': None})\n",
    "brook = brook.rename(columns = {\n",
    "    'parcel-id': 'gisid',\n",
    "    'addst2': 'unit',\n",
    "    'restotlval': 'ass_val',\n",
    "    'saleprice': 'sale_p',\n",
    "    'saledate': 'sale_d'\n",
    "})\n",
    "brook = brook.replace({r'^, ': '', r' ,': '', r', nan': '', r'nan': '', r'None, ': '', r', None': ''}, regex=True)\n",
    "brook = brook.replace({' ': None, '': None})\n",
    "brook['sale_p'].values[brook['sale_p'].values < 1] = None\n",
    "brook['year'] = 'FY2020'\n",
    "brook = brook[['gisid', 'town', 'prop_addr', 'unit', 'own', 'co', 'own_addr', 'ass_val', 'year', 'sale_d', 'sale_p']]"
   ]
  },
  {
   "cell_type": "code",
   "execution_count": 75,
   "metadata": {},
   "outputs": [],
   "source": [
    "all_assess = pd.concat([som, med, cam, bos, brook], ignore_index=True)"
   ]
  },
  {
   "cell_type": "code",
   "execution_count": 76,
   "metadata": {},
   "outputs": [
    {
     "name": "stderr",
     "output_type": "stream",
     "text": [
      "<ipython-input-76-b5e407aef94e>:7: FutureWarning: The pandas.np module is deprecated and will be removed from pandas in a future version. Import numpy directly instead\n",
      "  all_assess = all_assess.replace({pd.np.nan: None})\n"
     ]
    }
   ],
   "source": [
    "all_assess.loc[:,'prop_addr'] = all_assess.prop_addr.str.lstrip('0').str.strip()\n",
    "all_assess.loc[:,'own_addr'] = all_assess.own_addr.str.lstrip('0').str.strip()\n",
    "all_assess.loc[:,'co'] = all_assess['co'].replace({r'C/O ': '', r'S/O ': '', r'ATTN: ': '', r'ATTN ': ''}, regex=True)\n",
    "all_assess = all_assess.replace({r'None': '', 'nan': ''}, regex=True)\n",
    "all_assess = all_assess.replace({' ': None, '': None})\n",
    "all_assess = all_assess[~pd.isnull(all_assess['gisid'])]\n",
    "all_assess = all_assess.replace({pd.np.nan: None})"
   ]
  },
  {
   "cell_type": "code",
   "execution_count": 77,
   "metadata": {},
   "outputs": [],
   "source": [
    "def tupleize(row):\n",
    "    if (row['co'] is not None) & (row['own'] is not None):\n",
    "        return tuple([row['own'], row['co']])\n",
    "    elif (row['co'] is None) & (row['own'] is not None):\n",
    "        return tuple([row['own']])\n",
    "    else:\n",
    "        return None\n",
    "    \n",
    "\n",
    "all_assess['owners'] = all_assess.apply(tupleize, axis=1)"
   ]
  },
  {
   "cell_type": "code",
   "execution_count": 47,
   "metadata": {},
   "outputs": [],
   "source": [
    "# Convert to dictionary (expected by Dedupe)\n",
    "all_assess_dict = all_assess[['owners','own_addr']].to_dict('index')"
   ]
  },
  {
   "cell_type": "code",
   "execution_count": 50,
   "metadata": {},
   "outputs": [
    {
     "name": "stderr",
     "output_type": "stream",
     "text": [
      "INFO:dedupe.training:Final predicate set:\n",
      "INFO:dedupe.training:(SimplePredicate: (sortedAcronym, own_addr), SimplePredicate: (wholeSetPredicate, owners))\n",
      "owners : ('HISTORIC SOUTH END LP', 'MARVIN F POER & COMPANY')\n",
      "own_addr : PO BOX 52427, ATLANTA, GA 30355\n",
      "\n",
      "owners : ('HISTORIC SOUTH END LP',)\n",
      "own_addr : PO BOX 52427, ATLANTA, GA 30355\n",
      "\n",
      "0/10 positive, 0/10 negative\n",
      "Do these records refer to the same thing?\n",
      "(y)es / (n)o / (u)nsure / (f)inished\n"
     ]
    },
    {
     "name": "stdout",
     "output_type": "stream",
     "text": [
      "y\n"
     ]
    },
    {
     "name": "stderr",
     "output_type": "stream",
     "text": [
      "owners : ('PRESIDENT & FELLOWS OF HARVARD COLLEGE', 'HARVARD REAL ESTATE INC.')\n",
      "own_addr : HOLYOKE CENTER - ROOM #1000, 1350 MASS AVE, CAMBRIDGE, MA 02138\n",
      "\n",
      "owners : ('PRESIDENT & FELLOWS OF HARVARD COLLEGE', 'HARVARD REAL ESTATE SEVICES')\n",
      "own_addr : 1350  MASS AVE,HOLYOKE CNTR #1017, CAMBRIDGE, MA 02138\n",
      "\n",
      "1/10 positive, 0/10 negative\n",
      "Do these records refer to the same thing?\n",
      "(y)es / (n)o / (u)nsure / (f)inished / (p)revious\n"
     ]
    },
    {
     "name": "stdout",
     "output_type": "stream",
     "text": [
      "y\n"
     ]
    },
    {
     "name": "stderr",
     "output_type": "stream",
     "text": [
      "INFO:dedupe.training:Final predicate set:\n",
      "INFO:dedupe.training:(SimplePredicate: (firstSetElementPredicate, owners), SimplePredicate: (wholeFieldPredicate, own_addr))\n",
      "owners : ('YOGEL, ERIC B. TRUSTEE OF', 'PEARL # 100-3 TRUST')\n",
      "own_addr : P.O. BOX 398063, CAMBRIDGE, MA 02139\n",
      "\n",
      "owners : ('YOGEL, ERIC B. TRUSTEE OF', 'PEARL #96-2 TRUSTE')\n",
      "own_addr : P.O. BOX 398063, CAMBRIDGE, MA 02139\n",
      "\n",
      "2/10 positive, 0/10 negative\n",
      "Do these records refer to the same thing?\n",
      "(y)es / (n)o / (u)nsure / (f)inished / (p)revious\n"
     ]
    },
    {
     "name": "stdout",
     "output_type": "stream",
     "text": [
      "y\n"
     ]
    },
    {
     "name": "stderr",
     "output_type": "stream",
     "text": [
      "INFO:dedupe.training:Final predicate set:\n",
      "INFO:dedupe.training:(SimplePredicate: (firstSetElementPredicate, owners), SimplePredicate: (wholeFieldPredicate, own_addr))\n",
      "INFO:dedupe.training:SimplePredicate: (lastSetElementPredicate, owners)\n",
      "owners : ('BUHS EDITH', 'FLEET MORTGAGE GROUP')\n",
      "own_addr : PO BOX 78347, PHOENIX, AZ 85062\n",
      "\n",
      "owners : ('PINO MARY FR1/3',)\n",
      "own_addr : 33 KENNEBEC, MATTAPAN, MA 02126\n",
      "\n",
      "3/10 positive, 0/10 negative\n",
      "Do these records refer to the same thing?\n",
      "(y)es / (n)o / (u)nsure / (f)inished / (p)revious\n"
     ]
    },
    {
     "name": "stdout",
     "output_type": "stream",
     "text": [
      "n\n"
     ]
    },
    {
     "name": "stderr",
     "output_type": "stream",
     "text": [
      "owners : ('HOLMES CORIANNE NICOLE & GEORGE B JR',)\n",
      "own_addr : P.O. BOX 3932, LISLE, IL 60532\n",
      "\n",
      "owners : ('DUNSTER HOUSE REALTY TRUST', 'XIAOMING SHENG ')\n",
      "own_addr : 67 WOODLAWN DR, CHESTNUT HILL, MA 02467\n",
      "\n",
      "3/10 positive, 1/10 negative\n",
      "Do these records refer to the same thing?\n",
      "(y)es / (n)o / (u)nsure / (f)inished / (p)revious\n"
     ]
    },
    {
     "name": "stdout",
     "output_type": "stream",
     "text": [
      "n\n"
     ]
    },
    {
     "name": "stderr",
     "output_type": "stream",
     "text": [
      "owners : ('CROMWELL, MRS. SEYMOUR L.', 'A/K AS GAIL PIERSON CROMWELL')\n",
      "own_addr : P.O. BOX 98, TEMPLE, NH 03084\n",
      "\n",
      "owners : ('DONALD ROSENFELD',)\n",
      "own_addr : P O BOX 10, BROOKLINE, MA 02446\n",
      "\n",
      "3/10 positive, 2/10 negative\n",
      "Do these records refer to the same thing?\n",
      "(y)es / (n)o / (u)nsure / (f)inished / (p)revious\n"
     ]
    },
    {
     "name": "stdout",
     "output_type": "stream",
     "text": [
      "n\n"
     ]
    },
    {
     "name": "stderr",
     "output_type": "stream",
     "text": [
      "owners : ('RPZ PROPERTY LAND TR LLC TS', 'RPZ PROPERTY LAND TR LLC')\n",
      "own_addr : PO BOX 35309, BRIGHTON, MA 02135\n",
      "\n",
      "owners : ('RPZ PROPERTY LAND TR LLC', 'RPZ PROPERTY LAND TR')\n",
      "own_addr : PO BOX 35309, BRIGHTON, MA 02135\n",
      "\n",
      "3/10 positive, 3/10 negative\n",
      "Do these records refer to the same thing?\n",
      "(y)es / (n)o / (u)nsure / (f)inished / (p)revious\n"
     ]
    },
    {
     "name": "stdout",
     "output_type": "stream",
     "text": [
      "y\n"
     ]
    },
    {
     "name": "stderr",
     "output_type": "stream",
     "text": [
      "owners : ('PARKVIEW HOUSING LLC', 'CARITAS COMMUNITIES INC')\n",
      "own_addr : 25 BRAINTREE HILL OFFICE PK , BRAINTREE, MA 02184\n",
      "\n",
      "owners : ('DUDLEY INN LP', 'CARITAS COMMUNITIES INC')\n",
      "own_addr : 25 BRAINTREE HL OFF PK #206, BRAINTREE, MA 02184\n",
      "\n",
      "4/10 positive, 3/10 negative\n",
      "Do these records refer to the same thing?\n",
      "(y)es / (n)o / (u)nsure / (f)inished / (p)revious\n"
     ]
    },
    {
     "name": "stdout",
     "output_type": "stream",
     "text": [
      "y\n"
     ]
    },
    {
     "name": "stderr",
     "output_type": "stream",
     "text": [
      "INFO:dedupe.training:Final predicate set:\n",
      "INFO:dedupe.training:SimplePredicate: (commonSetElementPredicate, owners)\n",
      "owners : ('ZIZZO NANCY M', 'ZIZZO PAUL & KEEGAN RENEE')\n",
      "own_addr : MEDFORD, MA 02155\n",
      "\n",
      "owners : ('CORREIA JOSE P & MARIA A', 'TRAVASSOS ELIZABETH')\n",
      "own_addr : MEDFORD, MA 02155\n",
      "\n",
      "5/10 positive, 3/10 negative\n",
      "Do these records refer to the same thing?\n",
      "(y)es / (n)o / (u)nsure / (f)inished / (p)revious\n"
     ]
    },
    {
     "name": "stdout",
     "output_type": "stream",
     "text": [
      "n\n"
     ]
    },
    {
     "name": "stderr",
     "output_type": "stream",
     "text": [
      "owners : ('TOWER BROOK PARK LLC', 'DAVID M NOBLE')\n",
      "own_addr : 4 WINTHROP PL, WAYLAND, MA 01778\n",
      "\n",
      "owners : ('DATTILO DANA',)\n",
      "own_addr : 4 FALKLAND ST #1, BRIGHTON, MA 02135\n",
      "\n",
      "5/10 positive, 4/10 negative\n",
      "Do these records refer to the same thing?\n",
      "(y)es / (n)o / (u)nsure / (f)inished / (p)revious\n"
     ]
    },
    {
     "name": "stdout",
     "output_type": "stream",
     "text": [
      "n\n"
     ]
    },
    {
     "name": "stderr",
     "output_type": "stream",
     "text": [
      "owners : ('LAM NHU',)\n",
      "own_addr : 9 SALISBURY PK, DORCHESTER, MA 02122\n",
      "\n",
      "owners : ('COLEMAN LEADELL', 'CLARISSA COLEMAN ')\n",
      "own_addr : 9 WEYBOSSET ST , HYDE PARK, MA 02136\n",
      "\n",
      "5/10 positive, 5/10 negative\n",
      "Do these records refer to the same thing?\n",
      "(y)es / (n)o / (u)nsure / (f)inished / (p)revious\n"
     ]
    },
    {
     "name": "stdout",
     "output_type": "stream",
     "text": [
      "n\n"
     ]
    },
    {
     "name": "stderr",
     "output_type": "stream",
     "text": [
      "owners : ('YOGEL, ERIC TRUSTEE', 'TRS OF BRIDGE #246-2 TRUST')\n",
      "own_addr : P.O. BOX 398063, CAMBRIDGE, MA 02139\n",
      "\n",
      "owners : ('YOGEL, ERIC B. TRUSTEE OF', 'PEARL # 108-2 TRUST')\n",
      "own_addr : P.O. BOX 398063, CAMBRIDGE, MA 02139\n",
      "\n",
      "5/10 positive, 6/10 negative\n",
      "Do these records refer to the same thing?\n",
      "(y)es / (n)o / (u)nsure / (f)inished / (p)revious\n"
     ]
    },
    {
     "name": "stdout",
     "output_type": "stream",
     "text": [
      "y\n"
     ]
    },
    {
     "name": "stderr",
     "output_type": "stream",
     "text": [
      "owners : ('JZ EZ PROPERTY LAND TR LLC', 'JOHN ZOFFREO')\n",
      "own_addr : PO BOX 35309, BRIGHTON, MA 02135\n",
      "\n",
      "owners : ('RPZ PROPERTY LAND TRUST LLC', 'RPZ PROPERTY LAND TR LLC')\n",
      "own_addr : PO BOX 35309, BRIGHTON, MA 02135\n",
      "\n",
      "6/10 positive, 6/10 negative\n",
      "Do these records refer to the same thing?\n",
      "(y)es / (n)o / (u)nsure / (f)inished / (p)revious\n"
     ]
    },
    {
     "name": "stdout",
     "output_type": "stream",
     "text": [
      "y\n"
     ]
    },
    {
     "name": "stderr",
     "output_type": "stream",
     "text": [
      "INFO:dedupe.training:Final predicate set:\n",
      "INFO:dedupe.training:(SimplePredicate: (sameSevenCharStartPredicate, own_addr), SimplePredicate: (twoGramFingerprint, own_addr))\n",
      "INFO:dedupe.training:(PartialPredicate: (sameFiveCharStartPredicate, own_addr, StreetName), SimplePredicate: (firstSetElementPredicate, owners))\n",
      "INFO:dedupe.training:SimplePredicate: (lastSetElementPredicate, owners)\n",
      "owners : ('CANNIFF MARY A', 'M L DONOVAN-GRANITE TRAD')\n",
      "own_addr : PO BOX 74, ROSLINDALE, MA 02131\n",
      "\n",
      "owners : ('LAU PANG C', 'PANG LAU')\n",
      "own_addr : P O BOX 74, NEWTON UPPER FALL, MA 02464\n",
      "\n",
      "7/10 positive, 6/10 negative\n",
      "Do these records refer to the same thing?\n",
      "(y)es / (n)o / (u)nsure / (f)inished / (p)revious\n"
     ]
    },
    {
     "name": "stdout",
     "output_type": "stream",
     "text": [
      "n\n"
     ]
    },
    {
     "name": "stderr",
     "output_type": "stream",
     "text": [
      "owners : ('NOBLE JOHN',)\n",
      "own_addr : 85 E INDIA ROW #15B, BOSTON, MA 02110\n",
      "\n",
      "owners : ('SOLLITTO LEONARD',)\n",
      "own_addr : 85 EAST INDIA ROW #33-A, BOSTON, MA 02110\n",
      "\n",
      "7/10 positive, 7/10 negative\n",
      "Do these records refer to the same thing?\n",
      "(y)es / (n)o / (u)nsure / (f)inished / (p)revious\n"
     ]
    },
    {
     "name": "stdout",
     "output_type": "stream",
     "text": [
      "n\n"
     ]
    },
    {
     "name": "stderr",
     "output_type": "stream",
     "text": [
      "owners : ('ERIC MARBERBLATT TRUSTEE', 'VERMONT REALTY TRUST')\n",
      "own_addr : 6 WHITTIER PLACE SUITE 3C, BOSTON, MA, 02114\n",
      "\n",
      "owners : ('MARBERBLATT ERIC G TRUSTEE', '208-210 WASHINGTON ST REALTY TRUST')\n",
      "own_addr : 6 WHITTIER PLACE STE 3C, BOSTON, MA, 02114\n",
      "\n",
      "7/10 positive, 8/10 negative\n",
      "Do these records refer to the same thing?\n",
      "(y)es / (n)o / (u)nsure / (f)inished / (p)revious\n"
     ]
    },
    {
     "name": "stdout",
     "output_type": "stream",
     "text": [
      "y\n"
     ]
    },
    {
     "name": "stderr",
     "output_type": "stream",
     "text": [
      "owners : ('LI JANE LIOU',)\n",
      "own_addr : 151 TREMONT ST #18-B, BOSTON, MA 02111\n",
      "\n",
      "owners : ('KARGMAN WILLIAM M TS', 'FIRST REALTY MANAGEMENT')\n",
      "own_addr : 151 TREMONT ST PH, BOSTON, MA 02111\n",
      "\n",
      "8/10 positive, 8/10 negative\n",
      "Do these records refer to the same thing?\n",
      "(y)es / (n)o / (u)nsure / (f)inished / (p)revious\n"
     ]
    },
    {
     "name": "stdout",
     "output_type": "stream",
     "text": [
      "n\n"
     ]
    },
    {
     "name": "stderr",
     "output_type": "stream",
     "text": [
      "INFO:dedupe.training:Final predicate set:\n",
      "INFO:dedupe.training:(SimplePredicate: (sameSevenCharStartPredicate, own_addr), SimplePredicate: (sortedAcronym, own_addr))\n",
      "INFO:dedupe.training:(PartialPredicate: (sameFiveCharStartPredicate, own_addr, StreetName), SimplePredicate: (firstSetElementPredicate, owners))\n",
      "INFO:dedupe.training:SimplePredicate: (lastSetElementPredicate, owners)\n",
      "owners : ('MAVERICK STREET REALTY LLC',)\n",
      "own_addr : 50 FRANKLIN ST, BOSTON, MA 02110\n",
      "\n",
      "owners : ('DOHERTY GRAMPIAN LLC',)\n",
      "own_addr : 50 FRANKLIN ST 3RD FL, BOSTON, MA 02110\n",
      "\n",
      "8/10 positive, 9/10 negative\n",
      "Do these records refer to the same thing?\n",
      "(y)es / (n)o / (u)nsure / (f)inished / (p)revious\n"
     ]
    },
    {
     "name": "stdout",
     "output_type": "stream",
     "text": [
      "u\n"
     ]
    },
    {
     "name": "stderr",
     "output_type": "stream",
     "text": [
      "owners : ('CACCIOLA ANTHONY L JR TRUSTEE', 'FRANKLIN STREET REALTY TRUST')\n",
      "own_addr : PO BOX 390030, CAMBRIDGE, MA, 02139\n",
      "\n",
      "owners : ('VILLAGE MANOR LLC',)\n",
      "own_addr : PO BOX 396, CHESTNUT HILL MA,  02467\n",
      "\n",
      "8/10 positive, 9/10 negative\n",
      "Do these records refer to the same thing?\n",
      "(y)es / (n)o / (u)nsure / (f)inished / (p)revious\n"
     ]
    },
    {
     "name": "stdout",
     "output_type": "stream",
     "text": [
      "n\n"
     ]
    },
    {
     "name": "stderr",
     "output_type": "stream",
     "text": [
      "owners : ('RIST EDWARD B JR TS', 'EDWARD B RIST JR ')\n",
      "own_addr : PO BOX 307, JAMAICA PLAIN, MA 02130\n",
      "\n",
      "owners : ('LIU HUIHA', 'BOSTON PROPERTY CARE')\n",
      "own_addr : PO BOX 302191, BOSTON, MA 02130\n",
      "\n",
      "8/10 positive, 10/10 negative\n",
      "Do these records refer to the same thing?\n",
      "(y)es / (n)o / (u)nsure / (f)inished / (p)revious\n"
     ]
    },
    {
     "name": "stdout",
     "output_type": "stream",
     "text": [
      "n\n"
     ]
    },
    {
     "name": "stderr",
     "output_type": "stream",
     "text": [
      "owners : ('CHARNEY GREGORY ETAL', 'GREGORY CHARNEY')\n",
      "own_addr : 80 HAMMOND ST, CHESTNUT HILL, MA 02467\n",
      "\n",
      "owners : ('GRIGORY & POLINA CHARNEY',)\n",
      "own_addr : 80 HAMMOND ST, NEWTON, MA 02467\n",
      "\n",
      "8/10 positive, 11/10 negative\n",
      "Do these records refer to the same thing?\n",
      "(y)es / (n)o / (u)nsure / (f)inished / (p)revious\n"
     ]
    },
    {
     "name": "stdout",
     "output_type": "stream",
     "text": [
      "n\n"
     ]
    },
    {
     "name": "stderr",
     "output_type": "stream",
     "text": [
      "owners : ('CALDERON OSCAR A',)\n",
      "own_addr : 21 LAWTON ST, HYDE PARK, MA 02136\n",
      "\n",
      "owners : ('MICHELLE S  AN', 'SHEUNG CHEE THOMAS NG')\n",
      "own_addr : 21 LAWTON ST #2, BROOKLINE, MA 02446\n",
      "\n",
      "8/10 positive, 12/10 negative\n",
      "Do these records refer to the same thing?\n",
      "(y)es / (n)o / (u)nsure / (f)inished / (p)revious\n"
     ]
    },
    {
     "name": "stdout",
     "output_type": "stream",
     "text": [
      "n\n"
     ]
    },
    {
     "name": "stderr",
     "output_type": "stream",
     "text": [
      "owners : ('BROICH ALEXANDER H. & BARBARA THIMM',)\n",
      "own_addr : 144 UPLAND RD, CAMBRIDGE, MA 02140\n",
      "\n",
      "owners : ('ABEND TOBY TS', 'TOBY ABEND')\n",
      "own_addr : 144 UPLAND AV, NEWTON, MA 02461\n",
      "\n",
      "8/10 positive, 13/10 negative\n",
      "Do these records refer to the same thing?\n",
      "(y)es / (n)o / (u)nsure / (f)inished / (p)revious\n"
     ]
    },
    {
     "name": "stdout",
     "output_type": "stream",
     "text": [
      "n\n"
     ]
    },
    {
     "name": "stderr",
     "output_type": "stream",
     "text": [
      "owners : ('CSOH PROPERTIES LLC', 'HEATH PROPERTIES')\n",
      "own_addr : 74 CLARENDON ST SUITE A, BOSTON, MA 02116\n",
      "\n",
      "owners : ('ROIFF PAUL G', 'PAUL ROIFF/HEATH PROP')\n",
      "own_addr : 74 CLARENDON STREET SUITE A, BOSTON, MA 02116\n",
      "\n",
      "8/10 positive, 14/10 negative\n",
      "Do these records refer to the same thing?\n",
      "(y)es / (n)o / (u)nsure / (f)inished / (p)revious\n"
     ]
    },
    {
     "name": "stdout",
     "output_type": "stream",
     "text": [
      "y\n"
     ]
    },
    {
     "name": "stderr",
     "output_type": "stream",
     "text": [
      "owners : ('PHIL C BRADLEY HOUSING', 'ADAM AMEDEN ')\n",
      "own_addr : 75 FEDERAL ST 4TH FL, BOSTON, MA 02110\n",
      "\n",
      "owners : ('TRINITY TERRACE LP', 'ELIZABETH LAWRENCE')\n",
      "own_addr : 75 FEDERAL ST 4TH FL, BOSTON, MA 02110\n",
      "\n",
      "9/10 positive, 14/10 negative\n",
      "Do these records refer to the same thing?\n",
      "(y)es / (n)o / (u)nsure / (f)inished / (p)revious\n"
     ]
    },
    {
     "name": "stdout",
     "output_type": "stream",
     "text": [
      "y\n"
     ]
    },
    {
     "name": "stderr",
     "output_type": "stream",
     "text": [
      "owners : ('121 PORTLAND LLC',)\n",
      "own_addr : 197 PORTLAND ST , BOSTON, MA 02114\n",
      "\n",
      "owners : ('121 PORTLAND LLC',)\n",
      "own_addr : 121 PORTLAND ST #703, BOSTON, MA 02114\n",
      "\n",
      "10/10 positive, 14/10 negative\n",
      "Do these records refer to the same thing?\n",
      "(y)es / (n)o / (u)nsure / (f)inished / (p)revious\n"
     ]
    },
    {
     "name": "stdout",
     "output_type": "stream",
     "text": [
      "y\n"
     ]
    },
    {
     "name": "stderr",
     "output_type": "stream",
     "text": [
      "owners : ('WALSH MATTHEW M',)\n",
      "own_addr : 19 CORTES ST #1, BOSTON, MA 02116\n",
      "\n",
      "owners : ('PATTEN WILLIAM S',)\n",
      "own_addr : 19 CORTES ST #10, BOSTON, MA 02116\n",
      "\n",
      "11/10 positive, 14/10 negative\n",
      "Do these records refer to the same thing?\n",
      "(y)es / (n)o / (u)nsure / (f)inished / (p)revious\n"
     ]
    },
    {
     "name": "stdout",
     "output_type": "stream",
     "text": [
      "n\n"
     ]
    },
    {
     "name": "stderr",
     "output_type": "stream",
     "text": [
      "owners : ('POWNALL JAY RONALD',)\n",
      "own_addr : 1 FITCHBURG ST UNIT 104E, SOMERVILLE, MA, 02143\n",
      "\n",
      "owners : ('STEINBERGH ALEX M TRUSTEE', 'PARK STREET LOFTS TRUST')\n",
      "own_addr : 17 IVALOO ST  SUITE 100, SOMERVILLE, MA, 02143\n",
      "\n",
      "11/10 positive, 15/10 negative\n",
      "Do these records refer to the same thing?\n",
      "(y)es / (n)o / (u)nsure / (f)inished / (p)revious\n"
     ]
    },
    {
     "name": "stdout",
     "output_type": "stream",
     "text": [
      "n\n"
     ]
    },
    {
     "name": "stderr",
     "output_type": "stream",
     "text": [
      "owners : ('MURRAY MICHAEL',)\n",
      "own_addr : 542 DORCHESTER AV #203, SOUTH BOSTON, MA 02127\n",
      "\n",
      "owners : ('MURRAY MICHAEL',)\n",
      "own_addr : 329 PARK, WEST ROXBURY, MA 02132\n",
      "\n",
      "11/10 positive, 16/10 negative\n",
      "Do these records refer to the same thing?\n",
      "(y)es / (n)o / (u)nsure / (f)inished / (p)revious\n"
     ]
    },
    {
     "name": "stdout",
     "output_type": "stream",
     "text": [
      "n\n"
     ]
    },
    {
     "name": "stderr",
     "output_type": "stream",
     "text": [
      "owners : ('SUSAN M DOBBINS REVOCABLE TRUST', 'DOBBINS THOMAS P & SUSAN M')\n",
      "own_addr : MEDFORD, MA 02155\n",
      "\n",
      "owners : ('WAAD KHAYAT NOMINEE TRUST', 'KULKITAWI NAJAH JAMAL A')\n",
      "own_addr : MEDFORD, MA 02155\n",
      "\n",
      "11/10 positive, 17/10 negative\n",
      "Do these records refer to the same thing?\n",
      "(y)es / (n)o / (u)nsure / (f)inished / (p)revious\n"
     ]
    },
    {
     "name": "stdout",
     "output_type": "stream",
     "text": [
      "n\n"
     ]
    },
    {
     "name": "stderr",
     "output_type": "stream",
     "text": [
      "owners : ('DEPAULIS ROSEMARY A  LE', 'DEPAULIS MICHELLE & TINA MARIE')\n",
      "own_addr : MEDFORD, MA 02155\n",
      "\n",
      "owners : ('ARDIZZONI JODY E',)\n",
      "own_addr : MEDFORD, MA 02155\n",
      "\n",
      "11/10 positive, 18/10 negative\n",
      "Do these records refer to the same thing?\n",
      "(y)es / (n)o / (u)nsure / (f)inished / (p)revious\n"
     ]
    },
    {
     "name": "stdout",
     "output_type": "stream",
     "text": [
      "n\n"
     ]
    },
    {
     "name": "stderr",
     "output_type": "stream",
     "text": [
      "owners : ('RELATED LOVEJOY RESIDENTIAL',)\n",
      "own_addr : 100 LOVEJOY WHARF UNIT 4H, BOSTON, MA 02114\n",
      "\n",
      "owners : ('RELATED LOVEJOY RESIDENTIAL',)\n",
      "own_addr : 100 LOVEJOY WHARF #10-Q, BOSTON, MA 02114\n",
      "\n",
      "11/10 positive, 19/10 negative\n",
      "Do these records refer to the same thing?\n",
      "(y)es / (n)o / (u)nsure / (f)inished / (p)revious\n"
     ]
    },
    {
     "name": "stdout",
     "output_type": "stream",
     "text": [
      "y\n"
     ]
    },
    {
     "name": "stderr",
     "output_type": "stream",
     "text": [
      "owners : ('CAISIDE LLC',)\n",
      "own_addr : 4006 WASHINGTON ST #101, ROSLINDALE, MA 02131\n",
      "\n",
      "owners : ('CASSIDY MICHAEL',)\n",
      "own_addr : 4006 WASHINGTON ST #101, ROSLINDALE, MA 02131\n",
      "\n",
      "12/10 positive, 19/10 negative\n",
      "Do these records refer to the same thing?\n",
      "(y)es / (n)o / (u)nsure / (f)inished / (p)revious\n"
     ]
    },
    {
     "name": "stdout",
     "output_type": "stream",
     "text": [
      "y\n"
     ]
    },
    {
     "name": "stderr",
     "output_type": "stream",
     "text": [
      "owners : ('LEVINSON RADMILA',)\n",
      "own_addr : 130 UNIVERSITY RD #2, BROOKLINE, MA 02445\n",
      "\n",
      "owners : ('YURIY & RADMILA LEVINSON',)\n",
      "own_addr : 130 UNIVERSITY RD #2, BROOKLINE, MA 02445\n",
      "\n",
      "13/10 positive, 19/10 negative\n",
      "Do these records refer to the same thing?\n",
      "(y)es / (n)o / (u)nsure / (f)inished / (p)revious\n"
     ]
    },
    {
     "name": "stdout",
     "output_type": "stream",
     "text": [
      "y\n"
     ]
    },
    {
     "name": "stderr",
     "output_type": "stream",
     "text": [
      "owners : ('HE, WEI & ZHAOHUA PENG',)\n",
      "own_addr : 12 PRINCE ST., #2, CAMBRIDGE, MA 02139\n",
      "\n",
      "owners : ('ERIC & KARA BEASLEY TRS',)\n",
      "own_addr : 12 PRINCE ST #2, BROOKLINE, MA 02445\n",
      "\n",
      "14/10 positive, 19/10 negative\n",
      "Do these records refer to the same thing?\n",
      "(y)es / (n)o / (u)nsure / (f)inished / (p)revious\n"
     ]
    },
    {
     "name": "stdout",
     "output_type": "stream",
     "text": [
      "n\n"
     ]
    },
    {
     "name": "stderr",
     "output_type": "stream",
     "text": [
      "owners : ('BAR-YOSEF, DANIELLA & OFER BAR-YOSEF', 'TRUSTEES, THE BAR-YOSEF FAM TR')\n",
      "own_addr : 44 CONCORD AVE., #103, CAMBRIDGE, MA 02138\n",
      "\n",
      "owners : (\"O'CONNELL, ROBERT M.\",)\n",
      "own_addr : 44 CONCORD AVE. UNIT#100, CAMBRIDGE, MA 02138\n",
      "\n",
      "14/10 positive, 20/10 negative\n",
      "Do these records refer to the same thing?\n",
      "(y)es / (n)o / (u)nsure / (f)inished / (p)revious\n"
     ]
    },
    {
     "name": "stdout",
     "output_type": "stream",
     "text": [
      "n\n"
     ]
    },
    {
     "name": "stderr",
     "output_type": "stream",
     "text": [
      "owners : ('LIANG NAN',)\n",
      "own_addr : 30 PETERBOROUGH ST #30-27, BOSTON, MA 02215\n",
      "\n",
      "owners : ('GUZOVSKY LEE J',)\n",
      "own_addr : 30 PETERBOROUGH ST # 30-34, BOSTON, MA 02215\n",
      "\n",
      "14/10 positive, 21/10 negative\n",
      "Do these records refer to the same thing?\n",
      "(y)es / (n)o / (u)nsure / (f)inished / (p)revious\n"
     ]
    },
    {
     "name": "stdout",
     "output_type": "stream",
     "text": [
      "n\n"
     ]
    },
    {
     "name": "stderr",
     "output_type": "stream",
     "text": [
      "owners : ('RANA ASSOCIATES LPS', 'ADMINS INC ')\n",
      "own_addr : 28 ATLANTIC AVE #219, BOSTON, MA 02110\n",
      "\n",
      "owners : ('KETABI MAHMOUD', 'ADMINS INC')\n",
      "own_addr : 28 ATLANTIC AVE #219, BOSTON, MA 02110\n",
      "\n",
      "14/10 positive, 22/10 negative\n",
      "Do these records refer to the same thing?\n",
      "(y)es / (n)o / (u)nsure / (f)inished / (p)revious\n"
     ]
    },
    {
     "name": "stdout",
     "output_type": "stream",
     "text": [
      "y\n"
     ]
    },
    {
     "name": "stderr",
     "output_type": "stream",
     "text": [
      "owners : ('PARK EDWARD K', 'EDWARD PARKS')\n",
      "own_addr : 60 CALUMET ST #1, BOSTON, MA 02120\n",
      "\n",
      "owners : (' ERK REALTY TRUST',)\n",
      "own_addr : 60 CALUMET ST #1, BOSTON, MA 02120\n",
      "\n",
      "15/10 positive, 22/10 negative\n",
      "Do these records refer to the same thing?\n",
      "(y)es / (n)o / (u)nsure / (f)inished / (p)revious\n"
     ]
    },
    {
     "name": "stdout",
     "output_type": "stream",
     "text": [
      "y\n"
     ]
    },
    {
     "name": "stderr",
     "output_type": "stream",
     "text": [
      "owners : ('SHAHRIAR SHIRAZEH',)\n",
      "own_addr : 9 HAWTHORNE PL UNIT 9-5J, BOSTON, MA 02114\n",
      "\n",
      "owners : ('GARTLAND MATTHEW',)\n",
      "own_addr : 9 HAWTHORNE PL UNIT 9-16H, BOSTON, MA 02114\n",
      "\n",
      "16/10 positive, 22/10 negative\n",
      "Do these records refer to the same thing?\n",
      "(y)es / (n)o / (u)nsure / (f)inished / (p)revious\n"
     ]
    },
    {
     "name": "stdout",
     "output_type": "stream",
     "text": [
      "n\n"
     ]
    },
    {
     "name": "stderr",
     "output_type": "stream",
     "text": [
      "owners : ('1008 MASSACHUSETTS AVENUE LLC.', 'BOSTON RESIDENTIAL GRP')\n",
      "own_addr : 221 221 MASS AVE #402, BOSTON, MA 02115\n",
      "\n",
      "owners : ('1008 MASSACHUSETTS AVENUE LLC.', 'BOSTON RESIDENTIAL GRP')\n",
      "own_addr : 221 MASS AVE STE #402, BOSTON, MA 02115\n",
      "\n",
      "16/10 positive, 23/10 negative\n",
      "Do these records refer to the same thing?\n",
      "(y)es / (n)o / (u)nsure / (f)inished / (p)revious\n"
     ]
    },
    {
     "name": "stdout",
     "output_type": "stream",
     "text": [
      "y\n"
     ]
    },
    {
     "name": "stderr",
     "output_type": "stream",
     "text": [
      "owners : ('SECRETARY OF HOUSING', 'WINN RESIDENTIAL-G GRAZI')\n",
      "own_addr : 6 FANEUIL HALL MARKETPLACE, BOSTON, MA 02109\n",
      "\n",
      "owners : ('BROWN KAPLAN LPS', 'WINN MGT CO INC')\n",
      "own_addr : 6 FANEUIL HALL MARKETPLACE, BOSTON, MA 02109\n",
      "\n",
      "17/10 positive, 23/10 negative\n",
      "Do these records refer to the same thing?\n",
      "(y)es / (n)o / (u)nsure / (f)inished / (p)revious\n"
     ]
    },
    {
     "name": "stdout",
     "output_type": "stream",
     "text": [
      "y\n"
     ]
    },
    {
     "name": "stderr",
     "output_type": "stream",
     "text": [
      "owners : ('NEW ACADEMY ESTATES LLC', 'WINN RESIDENTIAL')\n",
      "own_addr : 6 FANEUIL HALL MARKETPLACE, BOSTON, MA 02109\n",
      "\n",
      "owners : ('J P HOUSING LP', 'WINN RESIDENTIAL-G GRAZI')\n",
      "own_addr : 6 FANEUIL HALL MARKETPLACE, BOSTON, MA 02109\n",
      "\n",
      "18/10 positive, 23/10 negative\n",
      "Do these records refer to the same thing?\n",
      "(y)es / (n)o / (u)nsure / (f)inished / (p)revious\n"
     ]
    },
    {
     "name": "stdout",
     "output_type": "stream",
     "text": [
      "y\n"
     ]
    },
    {
     "name": "stderr",
     "output_type": "stream",
     "text": [
      "owners : ('NEW ACADEMY ESTATES LLC', 'WINN RESIDENTIAL ')\n",
      "own_addr : 6 FANEUIL HALL MARKETPLACE, BOSTON, MA 02109\n",
      "\n",
      "owners : ('HOPE IN DORCHESTER LPS', 'WINN RES/ACCOUNTING DEPT')\n",
      "own_addr : 6 FANEUIL HALL , BOSTON, MA 02109\n",
      "\n",
      "19/10 positive, 23/10 negative\n",
      "Do these records refer to the same thing?\n",
      "(y)es / (n)o / (u)nsure / (f)inished / (p)revious\n"
     ]
    },
    {
     "name": "stdout",
     "output_type": "stream",
     "text": [
      "y\n"
     ]
    },
    {
     "name": "stderr",
     "output_type": "stream",
     "text": [
      "owners : ('WILLIAMSON OZA B JR',)\n",
      "own_addr : 144 RUTHVEN ST, DORCHESTER, MA 02121\n",
      "\n",
      "owners : ('EUBANKS JOSEPH ETAL',)\n",
      "own_addr : 14 RUTHVEN, DORCHESTER, MA 02121\n",
      "\n",
      "20/10 positive, 23/10 negative\n",
      "Do these records refer to the same thing?\n",
      "(y)es / (n)o / (u)nsure / (f)inished / (p)revious\n"
     ]
    },
    {
     "name": "stdout",
     "output_type": "stream",
     "text": [
      "n\n"
     ]
    },
    {
     "name": "stderr",
     "output_type": "stream",
     "text": [
      "INFO:dedupe.training:Final predicate set:\n",
      "INFO:dedupe.training:(SimplePredicate: (sameSevenCharStartPredicate, own_addr), SimplePredicate: (twoGramFingerprint, own_addr))\n",
      "INFO:dedupe.training:(PartialPredicate: (sameSevenCharStartPredicate, own_addr, StreetName), SimplePredicate: (sameFiveCharStartPredicate, own_addr))\n",
      "INFO:dedupe.training:SimplePredicate: (lastSetElementPredicate, owners)\n",
      "owners : ('PLUNKETT JOSEPH P',)\n",
      "own_addr : P O BOX 35846, BRIGHTON, MA 02135\n",
      "\n",
      "owners : ('THIRTEEN 25 LLC', 'EARL HENRY')\n",
      "own_addr : PO BOX 35846, BRIGHTON, MA 02135\n",
      "\n",
      "20/10 positive, 24/10 negative\n",
      "Do these records refer to the same thing?\n",
      "(y)es / (n)o / (u)nsure / (f)inished / (p)revious\n"
     ]
    },
    {
     "name": "stdout",
     "output_type": "stream",
     "text": [
      "y\n"
     ]
    },
    {
     "name": "stderr",
     "output_type": "stream",
     "text": [
      "owners : ('FITZGERALD JOHN P',)\n",
      "own_addr : 832 DORCHESTER AVE, DORCHESTER, MA 02125\n",
      "\n",
      "owners : ('ALVAN-MORA LLC', 'DOUGLAS GEORGE')\n",
      "own_addr : 832 DORCHESTER AV, DORCHESTER, MA 02125\n",
      "\n",
      "21/10 positive, 24/10 negative\n",
      "Do these records refer to the same thing?\n",
      "(y)es / (n)o / (u)nsure / (f)inished / (p)revious\n"
     ]
    },
    {
     "name": "stdout",
     "output_type": "stream",
     "text": [
      "u\n"
     ]
    },
    {
     "name": "stderr",
     "output_type": "stream",
     "text": [
      "owners : ('GLENSHANE IV LLC', 'GLENSHANE IV LLC-P MCKEN')\n",
      "own_addr : 28 BROOKS STREET, BRIGHTON, MA 02135\n",
      "\n",
      "owners : ('GLENSHANE VI LLC',)\n",
      "own_addr : 28 BROOKS ST, BRIGHTON, MA 02135\n",
      "\n",
      "21/10 positive, 24/10 negative\n",
      "Do these records refer to the same thing?\n",
      "(y)es / (n)o / (u)nsure / (f)inished / (p)revious\n"
     ]
    },
    {
     "name": "stdout",
     "output_type": "stream",
     "text": [
      "p\n"
     ]
    },
    {
     "name": "stderr",
     "output_type": "stream",
     "text": [
      "owners : ('FITZGERALD JOHN P',)\n",
      "own_addr : 832 DORCHESTER AVE, DORCHESTER, MA 02125\n",
      "\n",
      "owners : ('ALVAN-MORA LLC', 'DOUGLAS GEORGE')\n",
      "own_addr : 832 DORCHESTER AV, DORCHESTER, MA 02125\n",
      "\n",
      "21/10 positive, 24/10 negative\n",
      "Do these records refer to the same thing?\n",
      "(y)es / (n)o / (u)nsure / (f)inished\n"
     ]
    },
    {
     "name": "stdout",
     "output_type": "stream",
     "text": [
      "u\n"
     ]
    },
    {
     "name": "stderr",
     "output_type": "stream",
     "text": [
      "owners : ('GLENSHANE IV LLC', 'GLENSHANE IV LLC-P MCKEN')\n",
      "own_addr : 28 BROOKS STREET, BRIGHTON, MA 02135\n",
      "\n",
      "owners : ('GLENSHANE VI LLC',)\n",
      "own_addr : 28 BROOKS ST, BRIGHTON, MA 02135\n",
      "\n",
      "21/10 positive, 24/10 negative\n",
      "Do these records refer to the same thing?\n",
      "(y)es / (n)o / (u)nsure / (f)inished / (p)revious\n"
     ]
    },
    {
     "name": "stdout",
     "output_type": "stream",
     "text": [
      "y\n"
     ]
    },
    {
     "name": "stderr",
     "output_type": "stream",
     "text": [
      "owners : ('EH LAND TRUST LLC',)\n",
      "own_addr : 404 S HUNTINGTON AV, JAMAICA PLAIN, MA 02130\n",
      "\n",
      "owners : ('TS LAND TRUST LLC TS', 'TS LAND TRUST LLC')\n",
      "own_addr : 404 S HUNTINGTON AV, JAMAICA PLAIN, MA 02130\n",
      "\n",
      "22/10 positive, 24/10 negative\n",
      "Do these records refer to the same thing?\n",
      "(y)es / (n)o / (u)nsure / (f)inished / (p)revious\n"
     ]
    },
    {
     "name": "stdout",
     "output_type": "stream",
     "text": [
      "y\n"
     ]
    },
    {
     "name": "stderr",
     "output_type": "stream",
     "text": [
      "owners : ('DIRENZO KAREN',)\n",
      "own_addr : 357 COMMERCIAL #113, BOSTON, MA 02109\n",
      "\n",
      "owners : ('TAM JEANNETTE',)\n",
      "own_addr : 357 COMMERCIAL ST #118, BOSTON, MA 02109\n",
      "\n",
      "23/10 positive, 24/10 negative\n",
      "Do these records refer to the same thing?\n",
      "(y)es / (n)o / (u)nsure / (f)inished / (p)revious\n"
     ]
    },
    {
     "name": "stdout",
     "output_type": "stream",
     "text": [
      "n\n"
     ]
    },
    {
     "name": "stderr",
     "output_type": "stream",
     "text": [
      "owners : ('EVANGELISTA THOMAS',)\n",
      "own_addr : 27 HOOKER ST, ALLSTON, MA 02134\n",
      "\n",
      "owners : ('EVANGELISTA THOMAS',)\n",
      "own_addr : 31 HOOKER ST, ALLSTON, MA 02134\n",
      "\n",
      "23/10 positive, 25/10 negative\n",
      "Do these records refer to the same thing?\n",
      "(y)es / (n)o / (u)nsure / (f)inished / (p)revious\n"
     ]
    },
    {
     "name": "stdout",
     "output_type": "stream",
     "text": [
      "y\n"
     ]
    },
    {
     "name": "stderr",
     "output_type": "stream",
     "text": [
      "owners : ('OKEEFE FRANCES E',)\n",
      "own_addr : 8 MILL ST, DORCHESTER, MA 02122\n",
      "\n",
      "owners : ('HAILE RENE',)\n",
      "own_addr : 82 MILLET ST, DORCHESTER, MA 02124\n",
      "\n",
      "24/10 positive, 25/10 negative\n",
      "Do these records refer to the same thing?\n",
      "(y)es / (n)o / (u)nsure / (f)inished / (p)revious\n"
     ]
    },
    {
     "name": "stdout",
     "output_type": "stream",
     "text": [
      "n\n"
     ]
    },
    {
     "name": "stderr",
     "output_type": "stream",
     "text": [
      "owners : ('CAMBRIDGE COMMUNITY HOUSING DEVELOPMENT', 'WINN COMPANIES')\n",
      "own_addr : 6 FANEUIL HALL MARKETPLACE, BOSTON, MA 02109\n",
      "\n",
      "owners : ('COTTAGE BROOK APARTMENTS', 'WINN COMPANIES')\n",
      "own_addr : 126 JOHN ST #10, LOWELL, MA 01852\n",
      "\n",
      "24/10 positive, 26/10 negative\n",
      "Do these records refer to the same thing?\n",
      "(y)es / (n)o / (u)nsure / (f)inished / (p)revious\n"
     ]
    },
    {
     "name": "stdout",
     "output_type": "stream",
     "text": [
      "y\n"
     ]
    },
    {
     "name": "stderr",
     "output_type": "stream",
     "text": [
      "owners : ('ROSENTHAL LLOYD',)\n",
      "own_addr : 75 STEDMAN ST, BROOKLINE, MA 02446\n",
      "\n",
      "owners : ('ROSENTHAL LLOYD',)\n",
      "own_addr : 71 FOSTER ST, BRIGHTON, MA 02135\n",
      "\n",
      "25/10 positive, 26/10 negative\n",
      "Do these records refer to the same thing?\n",
      "(y)es / (n)o / (u)nsure / (f)inished / (p)revious\n"
     ]
    },
    {
     "name": "stdout",
     "output_type": "stream",
     "text": [
      "u\n"
     ]
    },
    {
     "name": "stderr",
     "output_type": "stream",
     "text": [
      "owners : ('SCIMEMI ENRICO J & VIRGINIA M', 'SCIMEMI ENRICO J JR')\n",
      "own_addr : MEDFORD, MA 02155\n",
      "\n",
      "owners : ('VALENTI EVELYN', 'PARADISO RALPH R')\n",
      "own_addr : MEDFORD, MA 02155\n",
      "\n",
      "25/10 positive, 26/10 negative\n",
      "Do these records refer to the same thing?\n",
      "(y)es / (n)o / (u)nsure / (f)inished / (p)revious\n"
     ]
    },
    {
     "name": "stdout",
     "output_type": "stream",
     "text": [
      "n\n"
     ]
    },
    {
     "name": "stderr",
     "output_type": "stream",
     "text": [
      "owners : ('GUTIERREZ MEYNARDO A & CRISPINA E', 'GUTIERREZ ERIK NIKO')\n",
      "own_addr : MEDFORD, MA 02155\n",
      "\n",
      "owners : ('THE AMITAVA MITRA AND SRIRUPA MITRA', 'AMITAVA & SRIRUPA MITRA TRS')\n",
      "own_addr : MEDFORD, MA 02155\n",
      "\n",
      "25/10 positive, 27/10 negative\n",
      "Do these records refer to the same thing?\n",
      "(y)es / (n)o / (u)nsure / (f)inished / (p)revious\n"
     ]
    },
    {
     "name": "stdout",
     "output_type": "stream",
     "text": [
      "n\n"
     ]
    },
    {
     "name": "stderr",
     "output_type": "stream",
     "text": [
      "owners : ('GALASSO CARL L & ROSEMARY', 'ROSEMARY GALASSO IRREVOCABLE T')\n",
      "own_addr : MEDFORD, MA 02155\n",
      "\n",
      "owners : ('RODRIGUES JOAQUIM S', 'RODRIGUES TERESA T& KEEFE EDNA')\n",
      "own_addr : MEDFORD, MA 02155\n",
      "\n",
      "25/10 positive, 28/10 negative\n",
      "Do these records refer to the same thing?\n",
      "(y)es / (n)o / (u)nsure / (f)inished / (p)revious\n"
     ]
    },
    {
     "name": "stdout",
     "output_type": "stream",
     "text": [
      "n\n"
     ]
    },
    {
     "name": "stderr",
     "output_type": "stream",
     "text": [
      "owners : ('ANDERSON MARC',)\n",
      "own_addr : 1000 CENTRE ST #4, JAMAICA PLAIN, MA 02130\n",
      "\n",
      "owners : ('MILLER R SCOTT JR',)\n",
      "own_addr : 1000 CENTRE ST #10, JAMAICA PLAIN, MA 02130\n",
      "\n",
      "25/10 positive, 29/10 negative\n",
      "Do these records refer to the same thing?\n",
      "(y)es / (n)o / (u)nsure / (f)inished / (p)revious\n"
     ]
    },
    {
     "name": "stdout",
     "output_type": "stream",
     "text": [
      "n\n"
     ]
    },
    {
     "name": "stderr",
     "output_type": "stream",
     "text": [
      "owners : ('SIN YIU',)\n",
      "own_addr : 35 GARDEN ST #6, BOSTON, MA 02114\n",
      "\n",
      "owners : ('ANDERSON MARK C',)\n",
      "own_addr : 35 GARDEN ST #10, BOSTON, MA 02114\n",
      "\n",
      "25/10 positive, 30/10 negative\n",
      "Do these records refer to the same thing?\n",
      "(y)es / (n)o / (u)nsure / (f)inished / (p)revious\n"
     ]
    },
    {
     "name": "stdout",
     "output_type": "stream",
     "text": [
      "n\n"
     ]
    },
    {
     "name": "stderr",
     "output_type": "stream",
     "text": [
      "owners : ('BAIROS SARA C',)\n",
      "own_addr : 7 MORTIMER PL  #7, SOMERVILLE, MA, 02145\n",
      "\n",
      "owners : ('EPSTEIN DANIEL',)\n",
      "own_addr : 7 MORTIMER PL #12, SOMERVILLE, MA, 02145\n",
      "\n",
      "25/10 positive, 31/10 negative\n",
      "Do these records refer to the same thing?\n",
      "(y)es / (n)o / (u)nsure / (f)inished / (p)revious\n"
     ]
    },
    {
     "name": "stdout",
     "output_type": "stream",
     "text": [
      "n\n"
     ]
    },
    {
     "name": "stderr",
     "output_type": "stream",
     "text": [
      "owners : ('YOSHIO OKADA',)\n",
      "own_addr : 20 CHAPEL ST #B907, BROOKLINE, MA 02446\n",
      "\n",
      "owners : ('RONALD ARKY',)\n",
      "own_addr : 20 CHAPEL ST #B1011, BROOKLINE, MA 02446\n",
      "\n",
      "25/10 positive, 32/10 negative\n",
      "Do these records refer to the same thing?\n",
      "(y)es / (n)o / (u)nsure / (f)inished / (p)revious\n"
     ]
    },
    {
     "name": "stdout",
     "output_type": "stream",
     "text": [
      "n\n"
     ]
    },
    {
     "name": "stderr",
     "output_type": "stream",
     "text": [
      "owners : ('329 COMMONWEALTH LLC',)\n",
      "own_addr : 267 COMMONWEALTH AV SUITE #A, BOSTON, MA 02115\n",
      "\n",
      "owners : ('329 COMMONWEALTH LLC',)\n",
      "own_addr : 267 COMMONWEALTH AV SUITE A, BOSTON, MA 02116\n",
      "\n",
      "25/10 positive, 33/10 negative\n",
      "Do these records refer to the same thing?\n",
      "(y)es / (n)o / (u)nsure / (f)inished / (p)revious\n"
     ]
    },
    {
     "name": "stdout",
     "output_type": "stream",
     "text": [
      "y\n"
     ]
    },
    {
     "name": "stderr",
     "output_type": "stream",
     "text": [
      "owners : ('ATHERTON HOLDINGS LLC',)\n",
      "own_addr : 100 HALLET ST STE #201, BOSTON, MA 02124\n",
      "\n",
      "owners : ('ATHERTON HOLDINGS LLC',)\n",
      "own_addr : 100 HALLET ST STE 201, DORCHESTER, MA 02124\n",
      "\n",
      "26/10 positive, 33/10 negative\n",
      "Do these records refer to the same thing?\n",
      "(y)es / (n)o / (u)nsure / (f)inished / (p)revious\n"
     ]
    },
    {
     "name": "stdout",
     "output_type": "stream",
     "text": [
      "y\n"
     ]
    },
    {
     "name": "stderr",
     "output_type": "stream",
     "text": [
      "owners : ('DOYLE JOSEPH B JR', 'JOSEPH B DOYLE JR')\n",
      "own_addr : 45 PROVINCE ST #1705, BOSTON, MA 02108\n",
      "\n",
      "owners : ('AL-KHODARI MAYYADA',)\n",
      "own_addr : 45 PROVINCE ST #1904, BOSTON, MA 02108\n",
      "\n",
      "27/10 positive, 33/10 negative\n",
      "Do these records refer to the same thing?\n",
      "(y)es / (n)o / (u)nsure / (f)inished / (p)revious\n"
     ]
    },
    {
     "name": "stdout",
     "output_type": "stream",
     "text": [
      "n\n"
     ]
    },
    {
     "name": "stderr",
     "output_type": "stream",
     "text": [
      "owners : ('FRANKLIN 1007 REALTY NOMINEE', 'JOHN D MCMAHON')\n",
      "own_addr : 1 FRANKLIN ST #1007 , BOSTON, MA 02110\n",
      "\n",
      "owners : ('ELENKO ERIC',)\n",
      "own_addr : 1 FRANKLIN ST #1903 , BOSTON, MA 02110\n",
      "\n",
      "27/10 positive, 34/10 negative\n",
      "Do these records refer to the same thing?\n",
      "(y)es / (n)o / (u)nsure / (f)inished / (p)revious\n"
     ]
    },
    {
     "name": "stdout",
     "output_type": "stream",
     "text": [
      "n\n"
     ]
    },
    {
     "name": "stderr",
     "output_type": "stream",
     "text": [
      "owners : ('PRATAP SINGH', 'TAM NGUYEN')\n",
      "own_addr : 6 PERRY ST #2, BROOKLINE, MA 02445\n",
      "\n",
      "owners : ('LIA N  MARINO', 'SEAN N  HOLBROOK')\n",
      "own_addr : 6 PERRY ST #6, BROOKLINE, MA 02445\n",
      "\n",
      "27/10 positive, 35/10 negative\n",
      "Do these records refer to the same thing?\n",
      "(y)es / (n)o / (u)nsure / (f)inished / (p)revious\n"
     ]
    },
    {
     "name": "stdout",
     "output_type": "stream",
     "text": [
      "n\n"
     ]
    },
    {
     "name": "stderr",
     "output_type": "stream",
     "text": [
      "owners : ('PL PROPERTIES III LLC',)\n",
      "own_addr : 212 MARINA DR #16, QUINCY, MA 02171\n",
      "\n",
      "owners : ('PL PROPERTIES III LLC',)\n",
      "own_addr : 80 NEPONSET AVENUE, DORCHESTER, MA 02122\n",
      "\n",
      "27/10 positive, 36/10 negative\n",
      "Do these records refer to the same thing?\n",
      "(y)es / (n)o / (u)nsure / (f)inished / (p)revious\n"
     ]
    },
    {
     "name": "stdout",
     "output_type": "stream",
     "text": [
      "y\n"
     ]
    },
    {
     "name": "stderr",
     "output_type": "stream",
     "text": [
      "owners : ('DOBBERFUHL ADAM P',)\n",
      "own_addr : 10 JAMAICAWAY ST #5, JAMAICA PLAIN, MA 02130\n",
      "\n",
      "owners : ('PARZYCH AMY',)\n",
      "own_addr : 10 JAMAICAWAY ST #8, JAMAICA PLAIN, MA 02130\n",
      "\n",
      "28/10 positive, 36/10 negative\n",
      "Do these records refer to the same thing?\n",
      "(y)es / (n)o / (u)nsure / (f)inished / (p)revious\n"
     ]
    },
    {
     "name": "stdout",
     "output_type": "stream",
     "text": [
      "n\n"
     ]
    },
    {
     "name": "stderr",
     "output_type": "stream",
     "text": [
      "owners : ('BELLMAN REALTY TRUST', 'ALICE L KIRANGA')\n",
      "own_addr : 33 THEODORE ST #1, DORCHESTER, MA 02124\n",
      "\n",
      "owners : ('KIRANGA ALICE L',)\n",
      "own_addr : 33 THEODORE ST #1, DORCHESTER, MA 02124\n",
      "\n",
      "28/10 positive, 37/10 negative\n",
      "Do these records refer to the same thing?\n",
      "(y)es / (n)o / (u)nsure / (f)inished / (p)revious\n"
     ]
    },
    {
     "name": "stdout",
     "output_type": "stream",
     "text": [
      "y\n"
     ]
    },
    {
     "name": "stderr",
     "output_type": "stream",
     "text": [
      "owners : ('JAS HOMEOWNERSHIP LLC,',)\n",
      "own_addr : 1035 CAMBRIDGE ST. #12, CAMBRIDGE, MA 02141\n",
      "\n",
      "owners : ('PRADHAN, SHREEJANA &', 'SUNIL TULADHR')\n",
      "own_addr : 1035 CAMBRIDGE ST. #12, CAMBRIDGE, MA 02141\n",
      "\n",
      "29/10 positive, 37/10 negative\n",
      "Do these records refer to the same thing?\n",
      "(y)es / (n)o / (u)nsure / (f)inished / (p)revious\n"
     ]
    },
    {
     "name": "stdout",
     "output_type": "stream",
     "text": [
      "y\n"
     ]
    },
    {
     "name": "stderr",
     "output_type": "stream",
     "text": [
      "owners : ('TS LAND TRUST LLC',)\n",
      "own_addr : 404 S HUNTINGTON AV, JAMAICA PLAIN, MA 02130\n",
      "\n",
      "owners : ('TS LAND TRUST LLC',)\n",
      "own_addr : 330 ADAMS ST, QUINCY, MA 02169\n",
      "\n",
      "30/10 positive, 37/10 negative\n",
      "Do these records refer to the same thing?\n",
      "(y)es / (n)o / (u)nsure / (f)inished / (p)revious\n"
     ]
    },
    {
     "name": "stdout",
     "output_type": "stream",
     "text": [
      "y\n"
     ]
    },
    {
     "name": "stderr",
     "output_type": "stream",
     "text": [
      "owners : ('MURRAY MARGARET',)\n",
      "own_addr : 34 ROOSEVELT RD, MEDFORD, MA 02155\n",
      "\n",
      "owners : ('MURRAY MARGARET',)\n",
      "own_addr : 52 GARDENA ST, BRIGHTON, MA 02135\n",
      "\n",
      "31/10 positive, 37/10 negative\n",
      "Do these records refer to the same thing?\n",
      "(y)es / (n)o / (u)nsure / (f)inished / (p)revious\n"
     ]
    },
    {
     "name": "stdout",
     "output_type": "stream",
     "text": [
      "u\n"
     ]
    },
    {
     "name": "stderr",
     "output_type": "stream",
     "text": [
      "owners : ('MULLINS KEVIN M JR', 'KEVIN M MULLINS JR')\n",
      "own_addr : 257 W THIRD ST # 1 , SOUTH BOSTON, MA 02127\n",
      "\n",
      "owners : ('BATCHELOR BRIAN',)\n",
      "own_addr : 619 E THIRD ST #1 , SOUTH BOSTON, MA 02127\n",
      "\n",
      "31/10 positive, 37/10 negative\n",
      "Do these records refer to the same thing?\n",
      "(y)es / (n)o / (u)nsure / (f)inished / (p)revious\n"
     ]
    },
    {
     "name": "stdout",
     "output_type": "stream",
     "text": [
      "n\n"
     ]
    },
    {
     "name": "stderr",
     "output_type": "stream",
     "text": [
      "owners : ('CAMIEL STUART ARTHUR & SVETLANA',)\n",
      "own_addr : 1 FITCHBURG ST #B453, SOMERVILLE, MA, 02143\n",
      "\n",
      "owners : ('TOFFOLI LUCAS RITZ',)\n",
      "own_addr : 1 FITCHBURG ST #C403, SOMERVILLE, MA, 02143\n",
      "\n",
      "31/10 positive, 38/10 negative\n",
      "Do these records refer to the same thing?\n",
      "(y)es / (n)o / (u)nsure / (f)inished / (p)revious\n"
     ]
    },
    {
     "name": "stdout",
     "output_type": "stream",
     "text": [
      "n\n"
     ]
    },
    {
     "name": "stderr",
     "output_type": "stream",
     "text": [
      "owners : ('BENSON JAMES M',)\n",
      "own_addr : 1 FRANKLIN ST #5003, BOSTON, MA 02110\n",
      "\n",
      "owners : ('CHAHINE CHADI',)\n",
      "own_addr : 1 FRANKLIN ST #5305, BOSTON, MA 02110\n",
      "\n",
      "31/10 positive, 39/10 negative\n",
      "Do these records refer to the same thing?\n",
      "(y)es / (n)o / (u)nsure / (f)inished / (p)revious\n"
     ]
    },
    {
     "name": "stdout",
     "output_type": "stream",
     "text": [
      "n\n"
     ]
    },
    {
     "name": "stderr",
     "output_type": "stream",
     "text": [
      "owners : ('FAMA JEANNE M',)\n",
      "own_addr : 6 WHITTIER PL #17-J, BOSTON, MA 02114\n",
      "\n",
      "owners : ('AL-KHATIB MALEK',)\n",
      "own_addr : 6 WHITTIER PL #12A, BOSTON, MA 02114\n",
      "\n",
      "31/10 positive, 40/10 negative\n",
      "Do these records refer to the same thing?\n",
      "(y)es / (n)o / (u)nsure / (f)inished / (p)revious\n"
     ]
    },
    {
     "name": "stdout",
     "output_type": "stream",
     "text": [
      "n\n"
     ]
    },
    {
     "name": "stderr",
     "output_type": "stream",
     "text": [
      "owners : ('TINGLEY ADELAIDE M',)\n",
      "own_addr : 534 BEACON ST #204, BOSTON, MA 02215\n",
      "\n",
      "owners : ('NEELEY ANDRENA C',)\n",
      "own_addr : 534 BEACON ST #1007, BOSTON, MA 02215\n",
      "\n",
      "31/10 positive, 41/10 negative\n",
      "Do these records refer to the same thing?\n",
      "(y)es / (n)o / (u)nsure / (f)inished / (p)revious\n"
     ]
    },
    {
     "name": "stdout",
     "output_type": "stream",
     "text": [
      "n\n"
     ]
    },
    {
     "name": "stderr",
     "output_type": "stream",
     "text": [
      "owners : ('HEIMLICH GIA',)\n",
      "own_addr : 234 CAUSEWAY ST #803, BOSTON, MA 02114\n",
      "\n",
      "owners : ('DENISE A DOYLE 2016 TRUST', 'DENISE DOYLE')\n",
      "own_addr : 234 CAUSEWAY ST #818, BOSTON, MA 02114\n",
      "\n",
      "31/10 positive, 42/10 negative\n",
      "Do these records refer to the same thing?\n",
      "(y)es / (n)o / (u)nsure / (f)inished / (p)revious\n"
     ]
    },
    {
     "name": "stdout",
     "output_type": "stream",
     "text": [
      "n\n"
     ]
    },
    {
     "name": "stderr",
     "output_type": "stream",
     "text": [
      "owners : ('JAMIJIAN KRISTEN',)\n",
      "own_addr : 150 ORLEANS ST # 102, EAST BOSTON, MA 02128\n",
      "\n",
      "owners : ('ELIZABETH M FERGUSON',)\n",
      "own_addr : 150 ORLEANS ST #404, EAST BOSTON, MA 02128\n",
      "\n",
      "31/10 positive, 43/10 negative\n",
      "Do these records refer to the same thing?\n",
      "(y)es / (n)o / (u)nsure / (f)inished / (p)revious\n"
     ]
    },
    {
     "name": "stdout",
     "output_type": "stream",
     "text": [
      "n\n"
     ]
    },
    {
     "name": "stderr",
     "output_type": "stream",
     "text": [
      "owners : ('KONG, JACK K. W.',)\n",
      "own_addr : 169 MONSIGNOR OBRIEN HWY., #415, CAMBRIDGE, MA 02141\n",
      "\n",
      "owners : ('ABDELAHAD, KATHRYN M.',)\n",
      "own_addr : 169 MONSIGNOR OBRIEN HWY., #810, CAMBRIDGE, MA 02141\n",
      "\n",
      "31/10 positive, 44/10 negative\n",
      "Do these records refer to the same thing?\n",
      "(y)es / (n)o / (u)nsure / (f)inished / (p)revious\n"
     ]
    },
    {
     "name": "stdout",
     "output_type": "stream",
     "text": [
      "n\n"
     ]
    },
    {
     "name": "stderr",
     "output_type": "stream",
     "text": [
      "owners : ('APTEKMAN SVETLANA TS', 'SVETLANA APTEKMAN')\n",
      "own_addr : 500 ATLANTIC AV #16A, BOSTON, MA 02210\n",
      "\n",
      "owners : ('CROWE STEVEN J ',)\n",
      "own_addr : 500 ATLANTIC AV #17C, BOSTON, MA 02210\n",
      "\n",
      "31/10 positive, 45/10 negative\n",
      "Do these records refer to the same thing?\n",
      "(y)es / (n)o / (u)nsure / (f)inished / (p)revious\n"
     ]
    },
    {
     "name": "stdout",
     "output_type": "stream",
     "text": [
      "n\n"
     ]
    },
    {
     "name": "stderr",
     "output_type": "stream",
     "text": [
      "owners : ('MORRIS AMY',)\n",
      "own_addr : 160 COMMONWEALTH AV #518, BOSTON, MA 02116\n",
      "\n",
      "owners : ('BRITTON PETER',)\n",
      "own_addr : 160 COMMONWEALTH AV #712, BOSTON, MA 02116\n",
      "\n",
      "31/10 positive, 46/10 negative\n",
      "Do these records refer to the same thing?\n",
      "(y)es / (n)o / (u)nsure / (f)inished / (p)revious\n"
     ]
    },
    {
     "name": "stdout",
     "output_type": "stream",
     "text": [
      "n\n"
     ]
    },
    {
     "name": "stderr",
     "output_type": "stream",
     "text": [
      "owners : ('JUDITH E SHER',)\n",
      "own_addr : 19 WINCHESTER ST #505, BROOKLINE, MA 02446\n",
      "\n",
      "owners : ('JEAN-PIERRE & ROSA LEE',)\n",
      "own_addr : 19 WINCHESTER ST # 902, BROOKLINE, MA 02446\n",
      "\n",
      "31/10 positive, 47/10 negative\n",
      "Do these records refer to the same thing?\n",
      "(y)es / (n)o / (u)nsure / (f)inished / (p)revious\n"
     ]
    },
    {
     "name": "stdout",
     "output_type": "stream",
     "text": [
      "n\n"
     ]
    },
    {
     "name": "stderr",
     "output_type": "stream",
     "text": [
      "owners : ('LYNCH EDWARD T',)\n",
      "own_addr : 21 BEACON ST #3-E, BOSTON, MA 02108\n",
      "\n",
      "owners : ('NARAMORE MERRIDETH ANN',)\n",
      "own_addr : 21 BEACON ST #5-J, BOSTON, MA 02108\n",
      "\n",
      "31/10 positive, 48/10 negative\n",
      "Do these records refer to the same thing?\n",
      "(y)es / (n)o / (u)nsure / (f)inished / (p)revious\n"
     ]
    },
    {
     "name": "stdout",
     "output_type": "stream",
     "text": [
      "n\n"
     ]
    },
    {
     "name": "stderr",
     "output_type": "stream",
     "text": [
      "owners : ('EFFENSON ELYSE R',)\n",
      "own_addr : 50 BROADLAWN PK #114, CHESTNUT HILL, MA 02467\n",
      "\n",
      "owners : ('JOAN AMY ZABARSKY TRUST 2016',)\n",
      "own_addr : 50 BROADLAWN PARK #212, CHESTNUT HILL, MA 02467\n",
      "\n",
      "31/10 positive, 49/10 negative\n",
      "Do these records refer to the same thing?\n",
      "(y)es / (n)o / (u)nsure / (f)inished / (p)revious\n"
     ]
    },
    {
     "name": "stdout",
     "output_type": "stream",
     "text": [
      "n\n"
     ]
    },
    {
     "name": "stderr",
     "output_type": "stream",
     "text": [
      "owners : ('LEONE JOSEPH P',)\n",
      "own_addr : 9 HAWTHORNE PL #2-O, BOSTON, MA 02114\n",
      "\n",
      "owners : ('ARLENE E CRONK TRUST', 'RANDALL D CRONK')\n",
      "own_addr : 9 HAWTHORNE PL #7M, BOSTON, MA 02114\n",
      "\n",
      "31/10 positive, 50/10 negative\n",
      "Do these records refer to the same thing?\n",
      "(y)es / (n)o / (u)nsure / (f)inished / (p)revious\n"
     ]
    },
    {
     "name": "stdout",
     "output_type": "stream",
     "text": [
      "n\n"
     ]
    },
    {
     "name": "stderr",
     "output_type": "stream",
     "text": [
      "owners : ('EYUBOGLU CENK',)\n",
      "own_addr : 1 FRANKLIN ST #2610 , BOSTON, MA 02110\n",
      "\n",
      "owners : ('ZHENG HANG',)\n",
      "own_addr : 1 FRANKLIN ST #2809 , BOSTON, MA 02110\n",
      "\n",
      "31/10 positive, 51/10 negative\n",
      "Do these records refer to the same thing?\n",
      "(y)es / (n)o / (u)nsure / (f)inished / (p)revious\n"
     ]
    },
    {
     "name": "stdout",
     "output_type": "stream",
     "text": [
      "n\n"
     ]
    },
    {
     "name": "stderr",
     "output_type": "stream",
     "text": [
      "owners : ('ROSSETTI CHARLES P',)\n",
      "own_addr : 1 FRANKLIN ST #1001 , BOSTON, MA 02110\n",
      "\n",
      "owners : ('GARD HOLDINGS LLC',)\n",
      "own_addr : 1 FRANKLIN ST #5206 , BOSTON, MA 02110\n",
      "\n",
      "31/10 positive, 52/10 negative\n",
      "Do these records refer to the same thing?\n",
      "(y)es / (n)o / (u)nsure / (f)inished / (p)revious\n"
     ]
    },
    {
     "name": "stdout",
     "output_type": "stream",
     "text": [
      "n\n"
     ]
    },
    {
     "name": "stderr",
     "output_type": "stream",
     "text": [
      "owners : ('CASALE JEAN F',)\n",
      "own_addr : 100 FULTON ST #5P, BOSTON, MA 02109\n",
      "\n",
      "owners : ('IOCOLA PASQUALE',)\n",
      "own_addr : 100 FULTON ST #3H, BOSTON, MA 02109\n",
      "\n",
      "31/10 positive, 53/10 negative\n",
      "Do these records refer to the same thing?\n",
      "(y)es / (n)o / (u)nsure / (f)inished / (p)revious\n"
     ]
    },
    {
     "name": "stdout",
     "output_type": "stream",
     "text": [
      "n\n"
     ]
    },
    {
     "name": "stderr",
     "output_type": "stream",
     "text": [
      "owners : ('BERTRAND JOSEPH D',)\n",
      "own_addr : 42 EIGHTH ST #1308, CHARLESTOWN, MA 02129\n",
      "\n",
      "owners : ('KELLY RACHEL D',)\n",
      "own_addr : 42 EIGHTH ST #4407, CHARLESTOWN, MA 02129\n",
      "\n",
      "31/10 positive, 54/10 negative\n",
      "Do these records refer to the same thing?\n",
      "(y)es / (n)o / (u)nsure / (f)inished / (p)revious\n"
     ]
    },
    {
     "name": "stdout",
     "output_type": "stream",
     "text": [
      "n\n"
     ]
    },
    {
     "name": "stderr",
     "output_type": "stream",
     "text": [
      "owners : ('ASPINALL BRITTANY ',)\n",
      "own_addr : 110 STUART ST #17-E, BOSTON, MA 02116\n",
      "\n",
      "owners : ('AHMED SULMAN',)\n",
      "own_addr : 110 STUART ST #20-I, BOSTON, MA 02116\n",
      "\n",
      "31/10 positive, 55/10 negative\n",
      "Do these records refer to the same thing?\n",
      "(y)es / (n)o / (u)nsure / (f)inished / (p)revious\n"
     ]
    },
    {
     "name": "stdout",
     "output_type": "stream",
     "text": [
      "n\n"
     ]
    },
    {
     "name": "stderr",
     "output_type": "stream",
     "text": [
      "owners : ('BUI IRENE DIEUTRANG', 'IRENE BUI')\n",
      "own_addr : 170 TREMONT ST # 1403, BOSTON, MA 02111\n",
      "\n",
      "owners : ('LOWELL J GRAY REVOCABLE ',)\n",
      "own_addr : 170 TREMONT ST #601, BOSTON, MA 02111\n",
      "\n",
      "31/10 positive, 56/10 negative\n",
      "Do these records refer to the same thing?\n",
      "(y)es / (n)o / (u)nsure / (f)inished / (p)revious\n"
     ]
    },
    {
     "name": "stdout",
     "output_type": "stream",
     "text": [
      "n\n"
     ]
    },
    {
     "name": "stderr",
     "output_type": "stream",
     "text": [
      "owners : ('BIGGS PETER G JR', 'PETER G BIGGS JR')\n",
      "own_addr : 580 WASHINGTON ST #910, BOSTON, MA 02111\n",
      "\n",
      "owners : ('DRZYMALSKI DAN',)\n",
      "own_addr : 580 WASHINGTON ST #15-E, BOSTON, MA 02111\n",
      "\n",
      "31/10 positive, 57/10 negative\n",
      "Do these records refer to the same thing?\n",
      "(y)es / (n)o / (u)nsure / (f)inished / (p)revious\n"
     ]
    },
    {
     "name": "stdout",
     "output_type": "stream",
     "text": [
      "n\n"
     ]
    },
    {
     "name": "stderr",
     "output_type": "stream",
     "text": [
      "owners : ('BETSY BRUHA FAIN',)\n",
      "own_addr : 1731 BEACON ST #504, BROOKLINE, MA 02445\n",
      "\n",
      "owners : ('E MELVIN NASH', 'SUSAN COLLINS')\n",
      "own_addr : 1731 BEACON ST #710, BROOKLINE, MA 02445\n",
      "\n",
      "31/10 positive, 58/10 negative\n",
      "Do these records refer to the same thing?\n",
      "(y)es / (n)o / (u)nsure / (f)inished / (p)revious\n"
     ]
    },
    {
     "name": "stdout",
     "output_type": "stream",
     "text": [
      "n\n"
     ]
    },
    {
     "name": "stderr",
     "output_type": "stream",
     "text": [
      "owners : ('HAZEL RACHEL',)\n",
      "own_addr : 150 DORCHESTER AV # 206, SOUTH BOSTON, MA 02127\n",
      "\n",
      "owners : ('SLADE LAURA',)\n",
      "own_addr : 150 DORCHESTER AV #613, SOUTH BOSTON, MA 02127\n",
      "\n",
      "31/10 positive, 59/10 negative\n",
      "Do these records refer to the same thing?\n",
      "(y)es / (n)o / (u)nsure / (f)inished / (p)revious\n"
     ]
    },
    {
     "name": "stdout",
     "output_type": "stream",
     "text": [
      "n\n"
     ]
    },
    {
     "name": "stderr",
     "output_type": "stream",
     "text": [
      "owners : ('NASSEH ALLEN ALI', 'ALLEN A NASSEH ')\n",
      "own_addr : 151 TREMONT ST # 8-M, BOSTON, MA 02111\n",
      "\n",
      "owners : ('HALMKIN WILLIAM E ETAL',)\n",
      "own_addr : 151 TREMONT ST #18R, BOSTON, MA 02111\n",
      "\n",
      "31/10 positive, 60/10 negative\n",
      "Do these records refer to the same thing?\n",
      "(y)es / (n)o / (u)nsure / (f)inished / (p)revious\n"
     ]
    },
    {
     "name": "stdout",
     "output_type": "stream",
     "text": [
      "n\n"
     ]
    },
    {
     "name": "stderr",
     "output_type": "stream",
     "text": [
      "owners : ('JMH FAMILY TRUST',)\n",
      "own_addr : 700 HARRISON AV #216, BOSTON, MA 02118\n",
      "\n",
      "owners : ('PAYNE MARTHA M',)\n",
      "own_addr : 700 HARRISON AV #504, BOSTON, MA 02118\n",
      "\n",
      "31/10 positive, 61/10 negative\n",
      "Do these records refer to the same thing?\n",
      "(y)es / (n)o / (u)nsure / (f)inished / (p)revious\n"
     ]
    },
    {
     "name": "stdout",
     "output_type": "stream",
     "text": [
      "n\n"
     ]
    },
    {
     "name": "stderr",
     "output_type": "stream",
     "text": [
      "owners : ('MATTHEWS LAUREL M',)\n",
      "own_addr : 1313 WASHINGTON ST #332, BOSTON, MA 02118\n",
      "\n",
      "owners : ('KECK MARTIN W II', 'MARTIN W KECK II')\n",
      "own_addr : 1313 WASHINGTON ST #423, BOSTON, MA 02118\n",
      "\n",
      "31/10 positive, 62/10 negative\n",
      "Do these records refer to the same thing?\n",
      "(y)es / (n)o / (u)nsure / (f)inished / (p)revious\n"
     ]
    },
    {
     "name": "stdout",
     "output_type": "stream",
     "text": [
      "n\n"
     ]
    },
    {
     "name": "stderr",
     "output_type": "stream",
     "text": [
      "owners : ('ORTIZ, ADRIAN',)\n",
      "own_addr : 27 WHEELER ST, #221, CAMBRIDGE, MA 02138\n",
      "\n",
      "owners : ('NARAYAN, RADHA & SRIDHAR NARAYAN',)\n",
      "own_addr : 27 WHEELER ST., #119, CAMBRIDGE, MA 02138\n",
      "\n",
      "31/10 positive, 63/10 negative\n",
      "Do these records refer to the same thing?\n",
      "(y)es / (n)o / (u)nsure / (f)inished / (p)revious\n"
     ]
    },
    {
     "name": "stdout",
     "output_type": "stream",
     "text": [
      "n\n"
     ]
    },
    {
     "name": "stderr",
     "output_type": "stream",
     "text": [
      "owners : ('OBRIEN ELIZABETH M', 'EDWARD W OBRIEN ')\n",
      "own_addr : 42 EIGHTH ST #3408, CHARLESTOWN, MA 02129\n",
      "\n",
      "owners : ('ANDERSON ROBERT J',)\n",
      "own_addr : 42 EIGHTH ST #5511, CHARLESTOWN, MA 02129\n",
      "\n",
      "31/10 positive, 64/10 negative\n",
      "Do these records refer to the same thing?\n",
      "(y)es / (n)o / (u)nsure / (f)inished / (p)revious\n"
     ]
    },
    {
     "name": "stdout",
     "output_type": "stream",
     "text": [
      "n\n"
     ]
    },
    {
     "name": "stderr",
     "output_type": "stream",
     "text": [
      "owners : ('BROWNE DUNCAN H', 'PIVER BROWNE SUSAN')\n",
      "own_addr : 1 FITCHBURG ST #B160, SOMERVILLE, MA, 02143\n",
      "\n",
      "owners : ('HOLTZMAN KAREN',)\n",
      "own_addr : 1 FITCHBURG ST  #C523, SOMERVILLE, MA, 02143\n",
      "\n",
      "31/10 positive, 65/10 negative\n",
      "Do these records refer to the same thing?\n",
      "(y)es / (n)o / (u)nsure / (f)inished / (p)revious\n"
     ]
    },
    {
     "name": "stdout",
     "output_type": "stream",
     "text": [
      "n\n"
     ]
    },
    {
     "name": "stderr",
     "output_type": "stream",
     "text": [
      "owners : ('RCG CEDAR SMITH LLC',)\n",
      "own_addr : 17 IVALOO ST #100, SOMERVILLE, MA, 02143\n",
      "\n",
      "owners : ('WFB FUTURAMA RENTALS LLC',)\n",
      "own_addr : 17 IVALOO ST., STE100, SOMERVILLE, MA 02143\n",
      "\n",
      "31/10 positive, 66/10 negative\n",
      "Do these records refer to the same thing?\n",
      "(y)es / (n)o / (u)nsure / (f)inished / (p)revious\n"
     ]
    },
    {
     "name": "stdout",
     "output_type": "stream",
     "text": [
      "y\n"
     ]
    },
    {
     "name": "stderr",
     "output_type": "stream",
     "text": [
      "owners : ('MARBERBLATT ERIC', 'ERIC MARBERBLATT TS')\n",
      "own_addr : 6 WHITTIER PL STE 3C, BOSTON, MA 02114\n",
      "\n",
      "owners : ('MARBERBLATT ERIC TS',)\n",
      "own_addr : 6 WHITTIER PL #3C, BOSTON, MA 02114\n",
      "\n",
      "32/10 positive, 66/10 negative\n",
      "Do these records refer to the same thing?\n",
      "(y)es / (n)o / (u)nsure / (f)inished / (p)revious\n"
     ]
    },
    {
     "name": "stdout",
     "output_type": "stream",
     "text": [
      "y\n"
     ]
    },
    {
     "name": "stderr",
     "output_type": "stream",
     "text": [
      "owners : ('DESANTAREN MANUEL',)\n",
      "own_addr : 21 WORMWOOD ST #308, BOSTON, MA 02210\n",
      "\n",
      "owners : ('SKALKOS ANASTASIOS G',)\n",
      "own_addr : 21 WORMWOOD ST UNIT 316 , BOSTON, MA 02116\n",
      "\n",
      "33/10 positive, 66/10 negative\n",
      "Do these records refer to the same thing?\n",
      "(y)es / (n)o / (u)nsure / (f)inished / (p)revious\n"
     ]
    },
    {
     "name": "stdout",
     "output_type": "stream",
     "text": [
      "n\n"
     ]
    },
    {
     "name": "stderr",
     "output_type": "stream",
     "text": [
      "owners : ('SVETLANA ABRAMOVA IRREVOCABLE TRUST',)\n",
      "own_addr : 3920 MYSTIC VLLY PKWY, MEDFORD, MA 02155\n",
      "\n",
      "owners : ('SHAH KHALID & SABBA',)\n",
      "own_addr : 3920 MYSTIC VLLY PKWY, MEDFORD, MA 02155\n",
      "\n",
      "33/10 positive, 67/10 negative\n",
      "Do these records refer to the same thing?\n",
      "(y)es / (n)o / (u)nsure / (f)inished / (p)revious\n"
     ]
    },
    {
     "name": "stdout",
     "output_type": "stream",
     "text": [
      "u\n"
     ]
    },
    {
     "name": "stderr",
     "output_type": "stream",
     "text": [
      "owners : ('GIURGIUTIU, VICTOR & DANA M. GIURGIUTIU', 'OXFORD  ST.  REALTY')\n",
      "own_addr : 1644 MASS AVE, CAMBRIDGE, MA 02138\n",
      "\n",
      "owners : ('DOEBELE, JUSTIN W., SAMUEL K. DOEBELE', 'WILLIAM L. DOEBELE AND')\n",
      "own_addr : 1644 MASS AVE, CAMBRIDGE, MA 02138\n",
      "\n",
      "33/10 positive, 67/10 negative\n",
      "Do these records refer to the same thing?\n",
      "(y)es / (n)o / (u)nsure / (f)inished / (p)revious\n"
     ]
    },
    {
     "name": "stdout",
     "output_type": "stream",
     "text": [
      "u\n"
     ]
    },
    {
     "name": "stderr",
     "output_type": "stream",
     "text": [
      "owners : ('ROMAIN NAIKE R',)\n",
      "own_addr : 39-41 BISHOP JOE L SMITH WY , DORCHESTER, MA 02121\n",
      "\n",
      "owners : ('SUCHKOVA OLGA S',)\n",
      "own_addr : 39-41 BISHOP JOE L SMITH WY , DORCHESTER, MA 02121\n",
      "\n",
      "33/10 positive, 67/10 negative\n",
      "Do these records refer to the same thing?\n",
      "(y)es / (n)o / (u)nsure / (f)inished / (p)revious\n"
     ]
    },
    {
     "name": "stdout",
     "output_type": "stream",
     "text": [
      "u\n"
     ]
    },
    {
     "name": "stderr",
     "output_type": "stream",
     "text": [
      "owners : ('JATA JASMIN',)\n",
      "own_addr : 48 FOREST ST, MEDFORD, MA 02155\n",
      "\n",
      "owners : ('GISO CHRISTOPHER A & FRANK III',)\n",
      "own_addr : 48 FOREST ST, MEDFORD, MA 02155\n",
      "\n",
      "33/10 positive, 67/10 negative\n",
      "Do these records refer to the same thing?\n",
      "(y)es / (n)o / (u)nsure / (f)inished / (p)revious\n"
     ]
    },
    {
     "name": "stdout",
     "output_type": "stream",
     "text": [
      "u\n"
     ]
    },
    {
     "name": "stderr",
     "output_type": "stream",
     "text": [
      "owners : ('SHILOH BAPTIST CHURCH',)\n",
      "own_addr : 146 ARLINGTON ST, MEDFORD, MA 02155\n",
      "\n",
      "owners : ('146-148 ARLINGTON STREET REALTY TRUST',)\n",
      "own_addr : 146  ARLINGTON ST, MEDFORD, MA 02155\n",
      "\n",
      "33/10 positive, 67/10 negative\n",
      "Do these records refer to the same thing?\n",
      "(y)es / (n)o / (u)nsure / (f)inished / (p)revious\n"
     ]
    },
    {
     "name": "stdout",
     "output_type": "stream",
     "text": [
      "u\n"
     ]
    },
    {
     "name": "stderr",
     "output_type": "stream",
     "text": [
      "owners : ('HONE BRENDAN F',)\n",
      "own_addr : 54 FOREST ST, MEDFORD, MA 02155\n",
      "\n",
      "owners : ('SCHOLZ MANFRED & LI-MA',)\n",
      "own_addr : 54 FOREST ST, MEDFORD, MA 02155\n",
      "\n",
      "33/10 positive, 67/10 negative\n",
      "Do these records refer to the same thing?\n",
      "(y)es / (n)o / (u)nsure / (f)inished / (p)revious\n"
     ]
    },
    {
     "name": "stdout",
     "output_type": "stream",
     "text": [
      "u\n"
     ]
    },
    {
     "name": "stderr",
     "output_type": "stream",
     "text": [
      "owners : ('CLAYTON FREDERIC S',)\n",
      "own_addr : 94 BEACONSFIELD RD, BROOKLINE, MA 02445\n",
      "\n",
      "owners : ('CLAYTON FREDERIC S TRST',)\n",
      "own_addr : 94 BEACONSFIELD RD, BROOKLINE, MA 02445\n",
      "\n",
      "33/10 positive, 67/10 negative\n",
      "Do these records refer to the same thing?\n",
      "(y)es / (n)o / (u)nsure / (f)inished / (p)revious\n"
     ]
    },
    {
     "name": "stdout",
     "output_type": "stream",
     "text": [
      "y\n"
     ]
    },
    {
     "name": "stderr",
     "output_type": "stream",
     "text": [
      "owners : ('TRIO ENTERPRISES LLC', 'TONY MADAN')\n",
      "own_addr : 60 HIGHLAND RD, SOMERVILLE, MA, 02144\n",
      "\n",
      "owners : ('HAMPSHIRE LLC',)\n",
      "own_addr : 60 HIGHLAND RD, SOMERVILLE, MA, 02144\n",
      "\n",
      "34/10 positive, 67/10 negative\n",
      "Do these records refer to the same thing?\n",
      "(y)es / (n)o / (u)nsure / (f)inished / (p)revious\n"
     ]
    },
    {
     "name": "stdout",
     "output_type": "stream",
     "text": [
      "y\n"
     ]
    },
    {
     "name": "stderr",
     "output_type": "stream",
     "text": [
      "owners : ('SHAH, HETAL',)\n",
      "own_addr : 2 EARHART ST UNIT #205, CAMBRIDGE, MA 02141\n",
      "\n",
      "owners : ('KOCHHAR, SHWETA',)\n",
      "own_addr : 2 EARHART ST T805, CAMBRIDGE, MA 02141\n",
      "\n",
      "35/10 positive, 67/10 negative\n",
      "Do these records refer to the same thing?\n",
      "(y)es / (n)o / (u)nsure / (f)inished / (p)revious\n"
     ]
    },
    {
     "name": "stdout",
     "output_type": "stream",
     "text": [
      "n\n"
     ]
    },
    {
     "name": "stderr",
     "output_type": "stream",
     "text": [
      "owners : ('WENDY N GABEL LIVING TRUST', 'RICHARD GABEL')\n",
      "own_addr : 110 STUART ST 16-H, BOSTON, MA 02116\n",
      "\n",
      "owners : ('ZHANG TIEDAN',)\n",
      "own_addr : 110 STUART ST #25-F, BOSTON, MA 02116\n",
      "\n",
      "35/10 positive, 68/10 negative\n",
      "Do these records refer to the same thing?\n",
      "(y)es / (n)o / (u)nsure / (f)inished / (p)revious\n"
     ]
    },
    {
     "name": "stdout",
     "output_type": "stream",
     "text": [
      "n\n"
     ]
    },
    {
     "name": "stderr",
     "output_type": "stream",
     "text": [
      "owners : ('RAMU SENTHIL KUMAR',)\n",
      "own_addr : 6 WHITTIER PLACE UNIT 2E-6, BOSTON, MA 02114\n",
      "\n",
      "owners : ('ASHFORD RONALD',)\n",
      "own_addr : 6 WHITTIER PL #9M, BOSTON, MA 02114\n",
      "\n",
      "35/10 positive, 69/10 negative\n",
      "Do these records refer to the same thing?\n",
      "(y)es / (n)o / (u)nsure / (f)inished / (p)revious\n"
     ]
    },
    {
     "name": "stdout",
     "output_type": "stream",
     "text": [
      "n\n"
     ]
    },
    {
     "name": "stderr",
     "output_type": "stream",
     "text": [
      "owners : ('80 COMMONWEALTH AVE',)\n",
      "own_addr : 360 NEWBURY ST #510, BOSTON, MA 02116\n",
      "\n",
      "owners : ('80 COMMONWEALTH AVE', '80 COMMONWEALTH AVE DEVE')\n",
      "own_addr : 891 CENTRE ST LOWER LEVEL, JAMAICA PLAIN, MA 00213\n",
      "\n",
      "35/10 positive, 70/10 negative\n",
      "Do these records refer to the same thing?\n",
      "(y)es / (n)o / (u)nsure / (f)inished / (p)revious\n"
     ]
    },
    {
     "name": "stdout",
     "output_type": "stream",
     "text": [
      "y\n"
     ]
    },
    {
     "name": "stderr",
     "output_type": "stream",
     "text": [
      "owners : ('KHOURY PATRICK W & PEGGY LEGRAND',)\n",
      "own_addr : 101 PEARL ST, SOMERVILLE, MA, 02145\n",
      "\n",
      "owners : ('PINO MARLENE G TRUSTEE', 'PINO REALTY TRUST')\n",
      "own_addr : 151 PEARL ST, SOMERVILLE, MA, 02145\n",
      "\n",
      "36/10 positive, 70/10 negative\n",
      "Do these records refer to the same thing?\n",
      "(y)es / (n)o / (u)nsure / (f)inished / (p)revious\n"
     ]
    },
    {
     "name": "stdout",
     "output_type": "stream",
     "text": [
      "n\n"
     ]
    },
    {
     "name": "stderr",
     "output_type": "stream",
     "text": [
      "INFO:dedupe.training:Final predicate set:\n",
      "INFO:dedupe.training:(PartialPredicate: (sameSevenCharStartPredicate, own_addr, StreetName), SimplePredicate: (sameFiveCharStartPredicate, own_addr))\n",
      "INFO:dedupe.training:SimplePredicate: (commonSetElementPredicate, owners)\n",
      "INFO:dedupe.training:(SimplePredicate: (sameSevenCharStartPredicate, own_addr), SimplePredicate: (twoGramFingerprint, own_addr))\n",
      "owners : ('MURPHY ERIC J',)\n",
      "own_addr : 164 SHERIDAN AVE, MEDFORD, MA 02155\n",
      "\n",
      "owners : ('JEAN MARIE LEONE',)\n",
      "own_addr : 194 SHERIDAN AVE, MEDFORD, MA 02155\n",
      "\n",
      "36/10 positive, 71/10 negative\n",
      "Do these records refer to the same thing?\n",
      "(y)es / (n)o / (u)nsure / (f)inished / (p)revious\n"
     ]
    },
    {
     "name": "stdout",
     "output_type": "stream",
     "text": [
      "n\n"
     ]
    },
    {
     "name": "stderr",
     "output_type": "stream",
     "text": [
      "owners : ('BANDARRA, JAMES B.', 'A LIFE ESTATE')\n",
      "own_addr : 64 BERKSHIRE ST, CAMBRIDGE, MA 02141\n",
      "\n",
      "owners : ('DYNAN, RICHARD W. & MARY T. DYNAN,', 'A LIFE ESTATE')\n",
      "own_addr : 410 WALDEN STREET, CAMBRIDGE, MA 02138\n",
      "\n",
      "36/10 positive, 72/10 negative\n",
      "Do these records refer to the same thing?\n",
      "(y)es / (n)o / (u)nsure / (f)inished / (p)revious\n"
     ]
    },
    {
     "name": "stdout",
     "output_type": "stream",
     "text": [
      "n\n"
     ]
    },
    {
     "name": "stderr",
     "output_type": "stream",
     "text": [
      "owners : ('ANTOCI, VALENTIN &', 'CITY OF CAMBRIDGE TAX TITLE')\n",
      "own_addr : 8 BERKSHIRE PL, CAMBRIDGE, MA 02141\n",
      "\n",
      "owners : ('THOMPSON, AMY &', 'CITY OF CAMBRIDGE TAX TITLE')\n",
      "own_addr : 57 JAY ST, CAMBRIDGE, MA 02139\n",
      "\n",
      "36/10 positive, 73/10 negative\n",
      "Do these records refer to the same thing?\n",
      "(y)es / (n)o / (u)nsure / (f)inished / (p)revious\n"
     ]
    },
    {
     "name": "stdout",
     "output_type": "stream",
     "text": [
      "n\n"
     ]
    },
    {
     "name": "stderr",
     "output_type": "stream",
     "text": [
      "owners : ('ESSEX STREET MANAGEMENT,INC.,', 'CAMBRIDGE HOUSING AUTHORITY')\n",
      "own_addr : 5 TEMPLE ST, CAMBRIDGE, MA 02138\n",
      "\n",
      "owners : ('ESSEX STREET MANAGEMENT, INC.', 'CAMBRIDGE HOUSING AUTHORITY')\n",
      "own_addr : 362 GREEN ST., 3RD FLOOR, CAMBRIDGE, MA 02139\n",
      "\n",
      "36/10 positive, 74/10 negative\n",
      "Do these records refer to the same thing?\n",
      "(y)es / (n)o / (u)nsure / (f)inished / (p)revious\n"
     ]
    },
    {
     "name": "stdout",
     "output_type": "stream",
     "text": [
      "y\n"
     ]
    },
    {
     "name": "stderr",
     "output_type": "stream",
     "text": [
      "owners : ('CHANG LIU',)\n",
      "own_addr : 20 CHAPEL ST #C709, BROOKLINE, MA 02446\n",
      "\n",
      "owners : ('XING ZENG', 'CHANG LIU')\n",
      "own_addr : 22 CHESTNUT PL #201, BROOKLINE, MA 02445\n",
      "\n",
      "37/10 positive, 74/10 negative\n",
      "Do these records refer to the same thing?\n",
      "(y)es / (n)o / (u)nsure / (f)inished / (p)revious\n"
     ]
    },
    {
     "name": "stdout",
     "output_type": "stream",
     "text": [
      "n\n"
     ]
    },
    {
     "name": "stderr",
     "output_type": "stream",
     "text": [
      "owners : ('FOX ERIC M',)\n",
      "own_addr : 10 REVERE PL, MEDFORD, MA 02155\n",
      "\n",
      "owners : ('FOURTEEN-04 ROWES WHARF', 'ROBERT MARR')\n",
      "own_addr : 10 ROWES WHARF UNIT 1404, BOSTON, MA 02110\n",
      "\n",
      "37/10 positive, 75/10 negative\n",
      "Do these records refer to the same thing?\n",
      "(y)es / (n)o / (u)nsure / (f)inished / (p)revious\n"
     ]
    },
    {
     "name": "stdout",
     "output_type": "stream",
     "text": [
      "n\n"
     ]
    },
    {
     "name": "stderr",
     "output_type": "stream",
     "text": [
      "owners : ('OLIVER KARL E',)\n",
      "own_addr : 10 JOHNSON AVE, MEDFORD, MA 02155\n",
      "\n",
      "owners : ('MACKLIN MICHAEL E',)\n",
      "own_addr : 10 ROWES WHARF UNIT 803, BOSTON, MA 02110\n",
      "\n",
      "37/10 positive, 76/10 negative\n",
      "Do these records refer to the same thing?\n",
      "(y)es / (n)o / (u)nsure / (f)inished / (p)revious\n"
     ]
    },
    {
     "name": "stdout",
     "output_type": "stream",
     "text": [
      "n\n"
     ]
    },
    {
     "name": "stderr",
     "output_type": "stream",
     "text": [
      "owners : ('NEW ACADEMY ESTATES LLC', 'WINN RESIDENTIAL')\n",
      "own_addr : 6 FANEUIL HALL MARKETPLACE, BOSTON, MA 02109\n",
      "\n",
      "owners : ('WASHINGTON COLUMBIA II',)\n",
      "own_addr : 6 FANEUIL HALL MRKTPLC, BOSTON, MA 02109\n",
      "\n",
      "37/10 positive, 77/10 negative\n",
      "Do these records refer to the same thing?\n",
      "(y)es / (n)o / (u)nsure / (f)inished / (p)revious\n"
     ]
    },
    {
     "name": "stdout",
     "output_type": "stream",
     "text": [
      "y\n"
     ]
    },
    {
     "name": "stderr",
     "output_type": "stream",
     "text": [
      "owners : ('CAMBRIDGE COMMUNITY HOUSING DEVP INC', 'WINN COMPANIES')\n",
      "own_addr : 6 FANEUIL HALL MARKETPLACE, BOSTON, MA 02109\n",
      "\n",
      "owners : ('Q-G II HOUSING', 'WINN MGT CO INC')\n",
      "own_addr : 6 FANEUIL HALL MRKTPLC, BOSTON, MA 02109\n",
      "\n",
      "38/10 positive, 77/10 negative\n",
      "Do these records refer to the same thing?\n",
      "(y)es / (n)o / (u)nsure / (f)inished / (p)revious\n"
     ]
    },
    {
     "name": "stdout",
     "output_type": "stream",
     "text": [
      "y\n"
     ]
    },
    {
     "name": "stderr",
     "output_type": "stream",
     "text": [
      "owners : ('SPARKS JAMIE & JESSICA',)\n",
      "own_addr : 22 NINTH ST, MEDFORD, MA 02155\n",
      "\n",
      "owners : ('XU XIAOQING',)\n",
      "own_addr : 22 NINTH ST, MEDFORD, MA 02155\n",
      "\n",
      "39/10 positive, 77/10 negative\n",
      "Do these records refer to the same thing?\n",
      "(y)es / (n)o / (u)nsure / (f)inished / (p)revious\n"
     ]
    },
    {
     "name": "stdout",
     "output_type": "stream",
     "text": [
      "u\n"
     ]
    },
    {
     "name": "stderr",
     "output_type": "stream",
     "text": [
      "owners : ('BOYLSTON 1078 LIM PTR', 'HAMILTON CO')\n",
      "own_addr : 39 BRIGHTON AV, ALLSTON, MA 02134\n",
      "\n",
      "owners : ('BRIGHTON AV ASSOCIATES LLC',)\n",
      "own_addr : 39 BRIGHTON AV, ALLSTON, MA 02134\n",
      "\n",
      "39/10 positive, 77/10 negative\n",
      "Do these records refer to the same thing?\n",
      "(y)es / (n)o / (u)nsure / (f)inished / (p)revious\n"
     ]
    },
    {
     "name": "stdout",
     "output_type": "stream",
     "text": [
      "y\n"
     ]
    },
    {
     "name": "stderr",
     "output_type": "stream",
     "text": [
      "owners : ('LACOURT FOUNDATION LLC',)\n",
      "own_addr : 30 COLLEGE AVE, SOMERVILLE, MA, 02144\n",
      "\n",
      "owners : ('RIZKALLAH MOUHAB',)\n",
      "own_addr : 30 COLLEGE AVE, SOMERVILLE, MA, 02144\n",
      "\n",
      "40/10 positive, 77/10 negative\n",
      "Do these records refer to the same thing?\n",
      "(y)es / (n)o / (u)nsure / (f)inished / (p)revious\n"
     ]
    },
    {
     "name": "stdout",
     "output_type": "stream",
     "text": [
      "y\n"
     ]
    },
    {
     "name": "stderr",
     "output_type": "stream",
     "text": [
      "owners : ('COSTAS HELEN K',)\n",
      "own_addr : 109 F STREET #2, SOUTH BOSTON, MA 02127\n",
      "\n",
      "owners : ('BRASFIELD MICHELLE',)\n",
      "own_addr : 109 ARLINGTON ST, HYDE PARK, MA 02136\n",
      "\n",
      "41/10 positive, 77/10 negative\n",
      "Do these records refer to the same thing?\n",
      "(y)es / (n)o / (u)nsure / (f)inished / (p)revious\n"
     ]
    },
    {
     "name": "stdout",
     "output_type": "stream",
     "text": [
      "n\n"
     ]
    },
    {
     "name": "stderr",
     "output_type": "stream",
     "text": [
      "owners : ('METAIS ALBERT',)\n",
      "own_addr : 106 BOSTON AV, MEDFORD, MA 02155\n",
      "\n",
      "owners : ('DESCILIEN WILLIAM',)\n",
      "own_addr : 116 BOSTON AV, MEDFORD, MA 02155\n",
      "\n",
      "41/10 positive, 78/10 negative\n",
      "Do these records refer to the same thing?\n",
      "(y)es / (n)o / (u)nsure / (f)inished / (p)revious\n"
     ]
    },
    {
     "name": "stdout",
     "output_type": "stream",
     "text": [
      "n\n"
     ]
    },
    {
     "name": "stderr",
     "output_type": "stream",
     "text": [
      "owners : ('WARD WILLIAM F',)\n",
      "own_addr : 140 SPRING ST, MEDFORD, MA 02155\n",
      "\n",
      "owners : ('WANG YONG QIANG',)\n",
      "own_addr : 145 SPRING ST, MEDFORD, MA 02155\n",
      "\n",
      "41/10 positive, 79/10 negative\n",
      "Do these records refer to the same thing?\n",
      "(y)es / (n)o / (u)nsure / (f)inished / (p)revious\n"
     ]
    },
    {
     "name": "stdout",
     "output_type": "stream",
     "text": [
      "n\n"
     ]
    },
    {
     "name": "stderr",
     "output_type": "stream",
     "text": [
      "owners : ('DEMERJIAN JOHN M ETAL',)\n",
      "own_addr : 230 ROSLINDALE AVE, ROSLINDALE, MA 02131\n",
      "\n",
      "owners : ('MANTAS ARTHUR',)\n",
      "own_addr : 231 ROSLINDALE AVE, ROSLINDALE, MA 02131\n",
      "\n",
      "41/10 positive, 80/10 negative\n",
      "Do these records refer to the same thing?\n",
      "(y)es / (n)o / (u)nsure / (f)inished / (p)revious\n"
     ]
    },
    {
     "name": "stdout",
     "output_type": "stream",
     "text": [
      "n\n"
     ]
    },
    {
     "name": "stderr",
     "output_type": "stream",
     "text": [
      "owners : ('LOLASTAR LLC',)\n",
      "own_addr : 370 CHESTNUT HILL AV, BRIGHTON, MA 02135\n",
      "\n",
      "owners : ('ABIGAIL PROPERTIES LLC',)\n",
      "own_addr : 370 CHESTNUT HILL AV, BRIGHTON, MA 02135\n",
      "\n",
      "41/10 positive, 81/10 negative\n",
      "Do these records refer to the same thing?\n",
      "(y)es / (n)o / (u)nsure / (f)inished / (p)revious\n"
     ]
    },
    {
     "name": "stdout",
     "output_type": "stream",
     "text": [
      "y\n"
     ]
    },
    {
     "name": "stderr",
     "output_type": "stream",
     "text": [
      "owners : ('ROXSE RESIDENCES LP', 'PEABODY PROPERTIES')\n",
      "own_addr : 536 GRANITE ST, BRAINTREE, MA 02184\n",
      "\n",
      "owners : (' ST AIDANS LLC', ' PEABODY PROPERTIES')\n",
      "own_addr : 536 GRANITE ST, BRAINTREE, MA 02184\n",
      "\n",
      "42/10 positive, 81/10 negative\n",
      "Do these records refer to the same thing?\n",
      "(y)es / (n)o / (u)nsure / (f)inished / (p)revious\n"
     ]
    },
    {
     "name": "stdout",
     "output_type": "stream",
     "text": [
      "y\n"
     ]
    },
    {
     "name": "stderr",
     "output_type": "stream",
     "text": [
      "owners : ('SCHMAHMANN REALTY LLC',)\n",
      "own_addr : 1577 BEACON ST, BROOKLINE, MA 02446\n",
      "\n",
      "owners : ('STRATHMORE-JAMAICA LLC',)\n",
      "own_addr : 1577 BEACON ST, BROOKLINE, MA 02446\n",
      "\n",
      "43/10 positive, 81/10 negative\n",
      "Do these records refer to the same thing?\n",
      "(y)es / (n)o / (u)nsure / (f)inished / (p)revious\n"
     ]
    },
    {
     "name": "stdout",
     "output_type": "stream",
     "text": [
      "y\n"
     ]
    },
    {
     "name": "stderr",
     "output_type": "stream",
     "text": [
      "owners : ('COLON MILENA S',)\n",
      "own_addr : 14 WESLEY ST, SOMERVILLE, MA, 02143\n",
      "\n",
      "owners : ('POLES LIVIO',)\n",
      "own_addr : 14 WESTMORELAND ST, DORCHESTER, MA 02124\n",
      "\n",
      "44/10 positive, 81/10 negative\n",
      "Do these records refer to the same thing?\n",
      "(y)es / (n)o / (u)nsure / (f)inished / (p)revious\n"
     ]
    },
    {
     "name": "stdout",
     "output_type": "stream",
     "text": [
      "n\n"
     ]
    },
    {
     "name": "stderr",
     "output_type": "stream",
     "text": [
      "owners : ('MACDONALD, AMY E. & EDWARD J. KRUPINSKY',)\n",
      "own_addr : 87 NORFOLK ST, CAMBRIDGE, MA 02139\n",
      "\n",
      "owners : ('VITAL YOLANDE',)\n",
      "own_addr : 87 NORWELL ST, DORCHESTER, MA 02121\n",
      "\n",
      "44/10 positive, 82/10 negative\n",
      "Do these records refer to the same thing?\n",
      "(y)es / (n)o / (u)nsure / (f)inished / (p)revious\n"
     ]
    },
    {
     "name": "stdout",
     "output_type": "stream",
     "text": [
      "n\n"
     ]
    },
    {
     "name": "stderr",
     "output_type": "stream",
     "text": [
      "owners : ('AUDI CHERYL L',)\n",
      "own_addr : 179 PARK ST, MEDFORD, MA 02155\n",
      "\n",
      "owners : ('16 CONNECTICUT AVENUE REALTY TRUST',)\n",
      "own_addr : 179 PARK ST, MEDFORD, MA 02155\n",
      "\n",
      "44/10 positive, 83/10 negative\n",
      "Do these records refer to the same thing?\n",
      "(y)es / (n)o / (u)nsure / (f)inished / (p)revious\n"
     ]
    },
    {
     "name": "stdout",
     "output_type": "stream",
     "text": [
      "n\n"
     ]
    },
    {
     "name": "stderr",
     "output_type": "stream",
     "text": [
      "owners : ('GUARINO RUDOLFO',)\n",
      "own_addr : 145 FANEUIL ST, BRIGHTON, MA 02135\n",
      "\n",
      "owners : ('GUARINO RODOLFO', 'RODOLFO & MARIA GUARINO')\n",
      "own_addr : 145 FANEUIL ST, BRIGHTON, MA 02135\n",
      "\n",
      "44/10 positive, 84/10 negative\n",
      "Do these records refer to the same thing?\n",
      "(y)es / (n)o / (u)nsure / (f)inished / (p)revious\n"
     ]
    },
    {
     "name": "stdout",
     "output_type": "stream",
     "text": [
      "y\n"
     ]
    },
    {
     "name": "stderr",
     "output_type": "stream",
     "text": [
      "owners : ('WAYNE AT SCHUYLER LLC', 'CRUZ DEVELOPMENT CORP ')\n",
      "own_addr : 1 JOHN ELIOT SQ, ROXBURY, MA 02119\n",
      "\n",
      "owners : ('CRUZ HARVARD LLC', 'CRUZ DEVELOPMENT CORP')\n",
      "own_addr : 1 JOHN ELIOT SQ, ROXBURY, MA 02119\n",
      "\n",
      "45/10 positive, 84/10 negative\n",
      "Do these records refer to the same thing?\n",
      "(y)es / (n)o / (u)nsure / (f)inished / (p)revious\n"
     ]
    },
    {
     "name": "stdout",
     "output_type": "stream",
     "text": [
      "y\n"
     ]
    },
    {
     "name": "stderr",
     "output_type": "stream",
     "text": [
      "owners : ('SMITH ARTHUR & DENISE',)\n",
      "own_addr : 12 NINTH ST, MEDFORD, MA 02155\n",
      "\n",
      "owners : ('KATZMAN SIDNEY',)\n",
      "own_addr : 12 NINTH ST, MEDFORD, MA 02155\n",
      "\n",
      "46/10 positive, 84/10 negative\n",
      "Do these records refer to the same thing?\n",
      "(y)es / (n)o / (u)nsure / (f)inished / (p)revious\n"
     ]
    },
    {
     "name": "stdout",
     "output_type": "stream",
     "text": [
      "u\n"
     ]
    },
    {
     "name": "stderr",
     "output_type": "stream",
     "text": [
      "owners : ('JOINT VENTURE CAPITAL LLC',)\n",
      "own_addr : 330 ADAMS ST, QUINCY, MA 02169\n",
      "\n",
      "owners : ('CUONG VU',)\n",
      "own_addr : 330 ADAMS ST, QUINCY, MA 02169\n",
      "\n",
      "46/10 positive, 84/10 negative\n",
      "Do these records refer to the same thing?\n",
      "(y)es / (n)o / (u)nsure / (f)inished / (p)revious\n"
     ]
    },
    {
     "name": "stdout",
     "output_type": "stream",
     "text": [
      "y\n"
     ]
    },
    {
     "name": "stderr",
     "output_type": "stream",
     "text": [
      "owners : ('CIOFFI AMY E',)\n",
      "own_addr : 215 HARVARD ST, MEDFORD, MA 02155\n",
      "\n",
      "owners : ('OSLON RICHARD L',)\n",
      "own_addr : 215 HARVARD ST, MEDFORD, MA 02155\n",
      "\n",
      "47/10 positive, 84/10 negative\n",
      "Do these records refer to the same thing?\n",
      "(y)es / (n)o / (u)nsure / (f)inished / (p)revious\n"
     ]
    },
    {
     "name": "stdout",
     "output_type": "stream",
     "text": [
      "u\n"
     ]
    },
    {
     "name": "stderr",
     "output_type": "stream",
     "text": [
      "owners : ('MAT SUMOTO YOSHIKO',)\n",
      "own_addr : 1223 WALNUT ST, NEWTON HIGHLANDS, MA 02461\n",
      "\n",
      "owners : ('MATSUMOTO YOSHIKO',)\n",
      "own_addr : 1223 WALNUT ST, NEWTON HIGHLANDS, MA 02461\n",
      "\n",
      "47/10 positive, 84/10 negative\n",
      "Do these records refer to the same thing?\n",
      "(y)es / (n)o / (u)nsure / (f)inished / (p)revious\n"
     ]
    },
    {
     "name": "stdout",
     "output_type": "stream",
     "text": [
      "y\n"
     ]
    },
    {
     "name": "stderr",
     "output_type": "stream",
     "text": [
      "owners : ('MCGREGOR 1 LLC',)\n",
      "own_addr : 12 BANTON ST, DORCHESTER, MA 02124\n",
      "\n",
      "owners : ('MCGREGOR 2 LLC',)\n",
      "own_addr : 12 BANTON ST, DORCHESTER, MA 02124\n",
      "\n",
      "48/10 positive, 84/10 negative\n",
      "Do these records refer to the same thing?\n",
      "(y)es / (n)o / (u)nsure / (f)inished / (p)revious\n"
     ]
    },
    {
     "name": "stdout",
     "output_type": "stream",
     "text": [
      "y\n"
     ]
    },
    {
     "name": "stderr",
     "output_type": "stream",
     "text": [
      "owners : ('ENG MICHELLE',)\n",
      "own_addr : 3920 MYSTIC VLLY PKWY, MEDFORD, MA 02155\n",
      "\n",
      "owners : ('COLE JANICE',)\n",
      "own_addr : 3920 MYSTIC VLLY PY  U805, MEDFORD, MA 02155\n",
      "\n",
      "49/10 positive, 84/10 negative\n",
      "Do these records refer to the same thing?\n",
      "(y)es / (n)o / (u)nsure / (f)inished / (p)revious\n"
     ]
    },
    {
     "name": "stdout",
     "output_type": "stream",
     "text": [
      "u\n"
     ]
    },
    {
     "name": "stderr",
     "output_type": "stream",
     "text": [
      "owners : ('LEE BOB JR', 'BOB LEE JR')\n",
      "own_addr : 486-488 BEACON ST #18, BOSTON, MA 02115\n",
      "\n",
      "owners : ('LEVENSON NORMAN A TRST',)\n",
      "own_addr : 896 BEACON ST, BOSTON, MA 02215\n",
      "\n",
      "49/10 positive, 84/10 negative\n",
      "Do these records refer to the same thing?\n",
      "(y)es / (n)o / (u)nsure / (f)inished / (p)revious\n"
     ]
    },
    {
     "name": "stdout",
     "output_type": "stream",
     "text": [
      "n\n"
     ]
    },
    {
     "name": "stderr",
     "output_type": "stream",
     "text": [
      "owners : ('MALCOLMSON LAURIE',)\n",
      "own_addr : 212 GROVE ST, MEDFORD, MA 02155\n",
      "\n",
      "owners : ('WESLEY LISA',)\n",
      "own_addr : 20 GROVE ST, MEDFORD, MA 02155\n",
      "\n",
      "49/10 positive, 85/10 negative\n",
      "Do these records refer to the same thing?\n",
      "(y)es / (n)o / (u)nsure / (f)inished / (p)revious\n"
     ]
    },
    {
     "name": "stdout",
     "output_type": "stream",
     "text": [
      "n\n"
     ]
    },
    {
     "name": "stderr",
     "output_type": "stream",
     "text": [
      "owners : ('BLAKE THOMAS JR', 'THOMAS BLAKE JR ')\n",
      "own_addr : 63 NORTHBOURNE RD, JAMAICA PLAIN, MA 02130\n",
      "\n",
      "owners : ('ANAND DEVAIAH', 'MANJU SUBRAMANIAN')\n",
      "own_addr : 63 NORFOLK RD, CHESTNUT HILL, MA 02467\n",
      "\n",
      "49/10 positive, 86/10 negative\n",
      "Do these records refer to the same thing?\n",
      "(y)es / (n)o / (u)nsure / (f)inished / (p)revious\n"
     ]
    },
    {
     "name": "stdout",
     "output_type": "stream",
     "text": [
      "n\n"
     ]
    },
    {
     "name": "stderr",
     "output_type": "stream",
     "text": [
      "owners : ('GIOTOPOULOS GREGORY C',)\n",
      "own_addr : 25 WALNUT ST #3, SOMERVILLE, MA, 02143\n",
      "\n",
      "owners : ('GENDE AURELIO F',)\n",
      "own_addr : 25 WALDECK ST, DORCHESTER, MA 02124\n",
      "\n",
      "49/10 positive, 87/10 negative\n",
      "Do these records refer to the same thing?\n",
      "(y)es / (n)o / (u)nsure / (f)inished / (p)revious\n"
     ]
    },
    {
     "name": "stdout",
     "output_type": "stream",
     "text": [
      "n\n"
     ]
    },
    {
     "name": "stderr",
     "output_type": "stream",
     "text": [
      "owners : ('HON WAI KWONG HAROLD',)\n",
      "own_addr : 28 NINTH ST, MEDFORD, MA 02155\n",
      "\n",
      "owners : ('SALINES ERIC T & LAUREN N',)\n",
      "own_addr : 28 NINTH ST, MEDFORD, MA 02155\n",
      "\n",
      "49/10 positive, 88/10 negative\n",
      "Do these records refer to the same thing?\n",
      "(y)es / (n)o / (u)nsure / (f)inished / (p)revious\n"
     ]
    },
    {
     "name": "stdout",
     "output_type": "stream",
     "text": [
      "n\n"
     ]
    },
    {
     "name": "stderr",
     "output_type": "stream",
     "text": [
      "owners : ('FULHAM REALTY LLC',)\n",
      "own_addr : 7 CHARLES RIVER SQ, BOSTON, MA 02114\n",
      "\n",
      "owners : ('LAROSA PAULA', 'J M ZUROMSKIS')\n",
      "own_addr : 7 CHARLES RIVER SQ, BOSTON, MA 02114\n",
      "\n",
      "49/10 positive, 89/10 negative\n",
      "Do these records refer to the same thing?\n",
      "(y)es / (n)o / (u)nsure / (f)inished / (p)revious\n"
     ]
    },
    {
     "name": "stdout",
     "output_type": "stream",
     "text": [
      "u\n"
     ]
    },
    {
     "name": "stderr",
     "output_type": "stream",
     "text": [
      "owners : ('RICHARDSON, MARGARET P.', 'ROPES & GRAY - BRENDA S. DIANA')\n",
      "own_addr : 800 BOYLSTON ST, BOSTON, MA 02199\n",
      "\n",
      "owners : ('AAZ LLC', 'ROPES & GRAY LLP ')\n",
      "own_addr : 800 BOYLSTON ST, BOSTON, MA 02199\n",
      "\n",
      "49/10 positive, 89/10 negative\n",
      "Do these records refer to the same thing?\n",
      "(y)es / (n)o / (u)nsure / (f)inished / (p)revious\n"
     ]
    },
    {
     "name": "stdout",
     "output_type": "stream",
     "text": [
      "y\n"
     ]
    },
    {
     "name": "stderr",
     "output_type": "stream",
     "text": [
      "owners : ('ROSA TERESA F',)\n",
      "own_addr : 5 ALVAH KITTREDGE PK, ROXBURY, MA 02119\n",
      "\n",
      "owners : ('CORREIA JONATHAN',)\n",
      "own_addr : 5 ALVAH KITTREDGE PK, ROXBURY, MA 02119\n",
      "\n",
      "50/10 positive, 89/10 negative\n",
      "Do these records refer to the same thing?\n",
      "(y)es / (n)o / (u)nsure / (f)inished / (p)revious\n"
     ]
    },
    {
     "name": "stdout",
     "output_type": "stream",
     "text": [
      "u\n"
     ]
    },
    {
     "name": "stderr",
     "output_type": "stream",
     "text": [
      "owners : ('REAL ESTATE BOSTON LLC',)\n",
      "own_addr : 58 GAINSBOROUGH ST, BOSTON, MA 02115\n",
      "\n",
      "owners : ('ALPGENE LLC',)\n",
      "own_addr : 58 GAINSBOROUGH ST, BOSTON, MA 02115\n",
      "\n",
      "50/10 positive, 89/10 negative\n",
      "Do these records refer to the same thing?\n",
      "(y)es / (n)o / (u)nsure / (f)inished / (p)revious\n"
     ]
    },
    {
     "name": "stdout",
     "output_type": "stream",
     "text": [
      "y\n"
     ]
    },
    {
     "name": "stderr",
     "output_type": "stream",
     "text": [
      "owners : ('WILLIAM AND JEANNE MCCORMACK FAMILY TRUS',)\n",
      "own_addr : 30 REVERE BEACH PKWY, MEDFORD, MA 02155\n",
      "\n",
      "owners : ('GALLIANI ANDREA P',)\n",
      "own_addr : 30 REVERE BEACH PKWY, MEDFORD, MA 02155\n",
      "\n",
      "51/10 positive, 89/10 negative\n",
      "Do these records refer to the same thing?\n",
      "(y)es / (n)o / (u)nsure / (f)inished / (p)revious\n"
     ]
    },
    {
     "name": "stdout",
     "output_type": "stream",
     "text": [
      "u\n"
     ]
    },
    {
     "name": "stderr",
     "output_type": "stream",
     "text": [
      "owners : ('CARABINERIS GLORIA M',)\n",
      "own_addr : 3920 MYSTIC VLLY PKWY, MEDFORD, MA 02155\n",
      "\n",
      "owners : ('VIVIANNA DEVELOPMENT LLC',)\n",
      "own_addr : 3920 MYSTIC VLLY PKWY, MEDFORD, MA 02155\n",
      "\n",
      "51/10 positive, 89/10 negative\n",
      "Do these records refer to the same thing?\n",
      "(y)es / (n)o / (u)nsure / (f)inished / (p)revious\n"
     ]
    },
    {
     "name": "stdout",
     "output_type": "stream",
     "text": [
      "u\n"
     ]
    },
    {
     "name": "stderr",
     "output_type": "stream",
     "text": [
      "owners : ('MEHTA DILIP D',)\n",
      "own_addr : 8 NINTH ST, MEDFORD, MA 02155\n",
      "\n",
      "owners : ('THE MICHAEL F DEADY REVOCABLE TRUST',)\n",
      "own_addr : 8 NINTH ST, MEDFORD, MA 02155\n",
      "\n",
      "51/10 positive, 89/10 negative\n",
      "Do these records refer to the same thing?\n",
      "(y)es / (n)o / (u)nsure / (f)inished / (p)revious\n"
     ]
    },
    {
     "name": "stdout",
     "output_type": "stream",
     "text": [
      "u\n"
     ]
    },
    {
     "name": "stderr",
     "output_type": "stream",
     "text": [
      "owners : ('WASHINGTON COLUMBIA II',)\n",
      "own_addr : 6 FANEUIL HALL MRKTPLC, BOSTON, MA 02109\n",
      "\n",
      "owners : ('GRANITE LENA PARK', 'WINN MANAGEMENT CO INC')\n",
      "own_addr : 6 FANEUIL HALL MRKTPLC, BOSTON, MA 02109\n",
      "\n",
      "51/10 positive, 89/10 negative\n",
      "Do these records refer to the same thing?\n",
      "(y)es / (n)o / (u)nsure / (f)inished / (p)revious\n"
     ]
    },
    {
     "name": "stdout",
     "output_type": "stream",
     "text": [
      "y\n"
     ]
    },
    {
     "name": "stderr",
     "output_type": "stream",
     "text": [
      "owners : ('LEOVOFS LLC',)\n",
      "own_addr : 370 CHESTNUT HILL AV, BRIGHTON, MA 02135\n",
      "\n",
      "owners : ('KAUFMAN ESTERA',)\n",
      "own_addr : 370 CHESTNUT HILL AV, BRIGHTON, MA 02135\n",
      "\n",
      "52/10 positive, 89/10 negative\n",
      "Do these records refer to the same thing?\n",
      "(y)es / (n)o / (u)nsure / (f)inished / (p)revious\n"
     ]
    },
    {
     "name": "stdout",
     "output_type": "stream",
     "text": [
      "y\n"
     ]
    },
    {
     "name": "stderr",
     "output_type": "stream",
     "text": [
      "owners : ('MAMULASHVILI MALA',)\n",
      "own_addr : 100 STATION LANDING, MEDFORD, MA 02155\n",
      "\n",
      "owners : (' 119 ELIOT STREET LLC', ' MERRILL & MCGEARY')\n",
      "own_addr : 100 STATE ST #200, BOSTON, MA 02109\n",
      "\n",
      "53/10 positive, 89/10 negative\n",
      "Do these records refer to the same thing?\n",
      "(y)es / (n)o / (u)nsure / (f)inished / (p)revious\n"
     ]
    },
    {
     "name": "stdout",
     "output_type": "stream",
     "text": [
      "n\n"
     ]
    },
    {
     "name": "stderr",
     "output_type": "stream",
     "text": [
      "owners : ('RPZ PROPERTY LAND TR LLC',)\n",
      "own_addr : PO BOX 35309, BRIGHTON, MA 02135\n",
      "\n",
      "owners : ('RPZ RLTY LAND TRUST LLC TS', 'ROBERT ZOFFREO')\n",
      "own_addr : PO BOX 35309, BRIGHTON, MA 02135\n",
      "\n",
      "53/10 positive, 90/10 negative\n",
      "Do these records refer to the same thing?\n",
      "(y)es / (n)o / (u)nsure / (f)inished / (p)revious\n"
     ]
    },
    {
     "name": "stdout",
     "output_type": "stream",
     "text": [
      "y\n"
     ]
    },
    {
     "name": "stderr",
     "output_type": "stream",
     "text": [
      "owners : ('FRENCH ANDREW',)\n",
      "own_addr : 30 REVERE BEACH PKWY, MEDFORD, MA 02155\n",
      "\n",
      "owners : ('FENG JIANGNAN',)\n",
      "own_addr : 30 REVERE BEACH PKWY, MEDFORD, MA 02155\n",
      "\n",
      "54/10 positive, 90/10 negative\n",
      "Do these records refer to the same thing?\n",
      "(y)es / (n)o / (u)nsure / (f)inished / (p)revious\n"
     ]
    },
    {
     "name": "stdout",
     "output_type": "stream",
     "text": [
      "u\n"
     ]
    },
    {
     "name": "stderr",
     "output_type": "stream",
     "text": [
      "owners : ('WALTER HUNTINGTON LLC', 'DOUGLAS R GEORGE')\n",
      "own_addr : 832 DORCHESTER AV, DORCHESTER, MA 02125\n",
      "\n",
      "owners : ('STITCH HOUSE REAL ESTATE LLC',)\n",
      "own_addr : 832 DORCHESTER AV, DORCHESTER, MA 02125\n",
      "\n",
      "54/10 positive, 90/10 negative\n",
      "Do these records refer to the same thing?\n",
      "(y)es / (n)o / (u)nsure / (f)inished / (p)revious\n"
     ]
    },
    {
     "name": "stdout",
     "output_type": "stream",
     "text": [
      "y\n"
     ]
    },
    {
     "name": "stderr",
     "output_type": "stream",
     "text": [
      "owners : ('XINQIAO (USA) CORP', 'FUNG AND HAU ASSOCIATES ')\n",
      "own_addr : 169 NAPLES RD, BROOKLINE, MA 02446\n",
      "\n",
      "owners : ('JACKSON C  & MING C SLOMIAK TRS', 'VICTORIA FUNG')\n",
      "own_addr : 169 NAPLES RD, BROOKLINE, MA 02446\n",
      "\n",
      "55/10 positive, 90/10 negative\n",
      "Do these records refer to the same thing?\n",
      "(y)es / (n)o / (u)nsure / (f)inished / (p)revious\n"
     ]
    },
    {
     "name": "stdout",
     "output_type": "stream",
     "text": [
      "y\n"
     ]
    },
    {
     "name": "stderr",
     "output_type": "stream",
     "text": [
      "owners : ('FORINA JOSEPH A',)\n",
      "own_addr : 106 BREMEN ST, E BOSTON, MA 02128\n",
      "\n",
      "owners : ('MAIULLO LORRI',)\n",
      "own_addr : 16 BREMEN ST, EAST BOSTON, MA 02128\n",
      "\n",
      "56/10 positive, 90/10 negative\n",
      "Do these records refer to the same thing?\n",
      "(y)es / (n)o / (u)nsure / (f)inished / (p)revious\n"
     ]
    },
    {
     "name": "stdout",
     "output_type": "stream",
     "text": [
      "n\n"
     ]
    },
    {
     "name": "stderr",
     "output_type": "stream",
     "text": [
      "owners : ('PEREA CARLOS GUSTAVO & AMY GRUNBECK',)\n",
      "own_addr : 16 WILDWOOD RD, MEDFORD, MA 02155\n",
      "\n",
      "owners : ('CHAMPA GUY L JR',)\n",
      "own_addr : 15 WILDWOOD RD, MEDFORD, MA 02155\n",
      "\n",
      "56/10 positive, 91/10 negative\n",
      "Do these records refer to the same thing?\n",
      "(y)es / (n)o / (u)nsure / (f)inished / (p)revious\n"
     ]
    },
    {
     "name": "stdout",
     "output_type": "stream",
     "text": [
      "n\n"
     ]
    },
    {
     "name": "stderr",
     "output_type": "stream",
     "text": [
      "owners : ('KENNEY JOHN J JR',)\n",
      "own_addr : 207 I STREET, SOUTH BOSTON, MA 02127\n",
      "\n",
      "owners : ('TOMASZYCKI EDWARD',)\n",
      "own_addr : 20 WILLIS ST, DORCHESTER, MA 02125\n",
      "\n",
      "56/10 positive, 92/10 negative\n",
      "Do these records refer to the same thing?\n",
      "(y)es / (n)o / (u)nsure / (f)inished / (p)revious\n"
     ]
    },
    {
     "name": "stdout",
     "output_type": "stream",
     "text": [
      "n\n"
     ]
    },
    {
     "name": "stderr",
     "output_type": "stream",
     "text": [
      "owners : ('HOMER APARTMENTS LIMITED PARTNERSHIP',)\n",
      "own_addr : 39 BRIGHTON AVE, ALLSTON, MA 02134\n",
      "\n",
      "owners : ('HAMILTON RLTY LP',)\n",
      "own_addr : 39 BRIGHTON AVE, ALLSTON, MA 02134\n",
      "\n",
      "56/10 positive, 93/10 negative\n",
      "Do these records refer to the same thing?\n",
      "(y)es / (n)o / (u)nsure / (f)inished / (p)revious\n"
     ]
    },
    {
     "name": "stdout",
     "output_type": "stream",
     "text": [
      "y\n"
     ]
    },
    {
     "name": "stderr",
     "output_type": "stream",
     "text": [
      "owners : ('POWELL, MARTHA',)\n",
      "own_addr : 17 IVALOO ST, SOMERVILLE, MA 02143\n",
      "\n",
      "owners : ('URBAN RENEWAL X LLC',)\n",
      "own_addr : 17 IVALOO ST, SOMERVILLE, MA 02143\n",
      "\n",
      "57/10 positive, 93/10 negative\n",
      "Do these records refer to the same thing?\n",
      "(y)es / (n)o / (u)nsure / (f)inished / (p)revious\n"
     ]
    },
    {
     "name": "stdout",
     "output_type": "stream",
     "text": [
      "y\n"
     ]
    },
    {
     "name": "stderr",
     "output_type": "stream",
     "text": [
      "owners : ('MARKETPLACE LOFTS LIMITED',)\n",
      "own_addr : 10 THACHER ST, BOSTON, MA 02113\n",
      "\n",
      "owners : ('STONE HILL ASSOCS', 'PROPERTY RESOURCES INC')\n",
      "own_addr : 10 THACHER ST, BOSTON, MA 02113\n",
      "\n",
      "58/10 positive, 93/10 negative\n",
      "Do these records refer to the same thing?\n",
      "(y)es / (n)o / (u)nsure / (f)inished / (p)revious\n"
     ]
    },
    {
     "name": "stdout",
     "output_type": "stream",
     "text": [
      "y\n"
     ]
    },
    {
     "name": "stderr",
     "output_type": "stream",
     "text": [
      "owners : ('WARDMAN UE LPS', 'WINN RESIDENTIAL-G GRAZI')\n",
      "own_addr : 6 FANEUIL HALL MARKETPLACE, BOSTON, MA 02109\n",
      "\n",
      "owners : ('WASHINGTON COLUMBIA LPS', 'WINN MANAGEMENT CO INC')\n",
      "own_addr : 6 FANEUIL HALL MRKTPLC, BOSTON, MA 02109\n",
      "\n",
      "59/10 positive, 93/10 negative\n",
      "Do these records refer to the same thing?\n",
      "(y)es / (n)o / (u)nsure / (f)inished / (p)revious\n"
     ]
    },
    {
     "name": "stdout",
     "output_type": "stream",
     "text": [
      "y\n"
     ]
    },
    {
     "name": "stderr",
     "output_type": "stream",
     "text": [
      "owners : ('FIRST THWING STREET LLC', 'FIRST TWING STREET LLC')\n",
      "own_addr : 17 GRANT ST, DORCHESTER, MA 02125\n",
      "\n",
      "owners : ('WRIGHT KATE G', 'DAVID J WRIGHT')\n",
      "own_addr : 17 BRAINARD ST, HYDE PARK, MA 02136\n",
      "\n",
      "60/10 positive, 93/10 negative\n",
      "Do these records refer to the same thing?\n",
      "(y)es / (n)o / (u)nsure / (f)inished / (p)revious\n"
     ]
    },
    {
     "name": "stdout",
     "output_type": "stream",
     "text": [
      "n\n"
     ]
    },
    {
     "name": "stderr",
     "output_type": "stream",
     "text": [
      "owners : ('WALNUT HILL PROPERTIES', 'TUFTS BRANCH')\n",
      "own_addr : 14 CAPEN ST, MEDFORD, MA, 02155\n",
      "\n",
      "owners : ('BROSIO, GIUSTINA M., TRUSTEE OF UNIT 306', '130 MT. AUBURN STREET TR.')\n",
      "own_addr : 14 CHANNING ST, CAMBRIDGE, MA 02138\n",
      "\n",
      "60/10 positive, 94/10 negative\n",
      "Do these records refer to the same thing?\n",
      "(y)es / (n)o / (u)nsure / (f)inished / (p)revious\n"
     ]
    },
    {
     "name": "stdout",
     "output_type": "stream",
     "text": [
      "n\n"
     ]
    },
    {
     "name": "stderr",
     "output_type": "stream",
     "text": [
      "owners : ('KENNEALLY ANNE CLARE',)\n",
      "own_addr : 3920 MYSTIC VLLY PKWY, MEDFORD, MA 02155\n",
      "\n",
      "owners : ('SWEENEY JOHN J',)\n",
      "own_addr : 3920 MYSTIC VLLY PKWY, MEDFORD, MA 02155\n",
      "\n",
      "60/10 positive, 95/10 negative\n",
      "Do these records refer to the same thing?\n",
      "(y)es / (n)o / (u)nsure / (f)inished / (p)revious\n"
     ]
    },
    {
     "name": "stdout",
     "output_type": "stream",
     "text": [
      "n\n"
     ]
    },
    {
     "name": "stderr",
     "output_type": "stream",
     "text": [
      "owners : ('MINER STREET LLC', 'CHESTNUT HILL REALTY COR')\n",
      "own_addr : 300 INDEPENDENCE DR, CHESTNUT HILL, MA 02467\n",
      "\n",
      "owners : (' GREENHILL LLC', ' CHESTNUT HILL REALTY CORP')\n",
      "own_addr : 300 INDEPENDENCE DR, CHESTNUT HILL, MA 02467\n",
      "\n",
      "60/10 positive, 96/10 negative\n",
      "Do these records refer to the same thing?\n",
      "(y)es / (n)o / (u)nsure / (f)inished / (p)revious\n"
     ]
    },
    {
     "name": "stdout",
     "output_type": "stream",
     "text": [
      "p\n"
     ]
    },
    {
     "name": "stderr",
     "output_type": "stream",
     "text": [
      "owners : ('KENNEALLY ANNE CLARE',)\n",
      "own_addr : 3920 MYSTIC VLLY PKWY, MEDFORD, MA 02155\n",
      "\n",
      "owners : ('SWEENEY JOHN J',)\n",
      "own_addr : 3920 MYSTIC VLLY PKWY, MEDFORD, MA 02155\n",
      "\n",
      "60/10 positive, 95/10 negative\n",
      "Do these records refer to the same thing?\n",
      "(y)es / (n)o / (u)nsure / (f)inished\n"
     ]
    },
    {
     "name": "stdout",
     "output_type": "stream",
     "text": [
      "u\n"
     ]
    },
    {
     "name": "stderr",
     "output_type": "stream",
     "text": [
      "owners : ('MINER STREET LLC', 'CHESTNUT HILL REALTY COR')\n",
      "own_addr : 300 INDEPENDENCE DR, CHESTNUT HILL, MA 02467\n",
      "\n",
      "owners : (' GREENHILL LLC', ' CHESTNUT HILL REALTY CORP')\n",
      "own_addr : 300 INDEPENDENCE DR, CHESTNUT HILL, MA 02467\n",
      "\n",
      "60/10 positive, 95/10 negative\n",
      "Do these records refer to the same thing?\n",
      "(y)es / (n)o / (u)nsure / (f)inished / (p)revious\n"
     ]
    },
    {
     "name": "stdout",
     "output_type": "stream",
     "text": [
      "y\n"
     ]
    },
    {
     "name": "stderr",
     "output_type": "stream",
     "text": [
      "owners : ('GAGLIARDI LILLIAN',)\n",
      "own_addr : 3920 MYSTIC VLLY PKWY, MEDFORD, MA 02155\n",
      "\n",
      "owners : ('THE CAPODILUPO IRREVOCABLE TRUST',)\n",
      "own_addr : 3920 MYSTIC VLLY PKWY, MEDFORD, MA 02155\n",
      "\n",
      "61/10 positive, 95/10 negative\n",
      "Do these records refer to the same thing?\n",
      "(y)es / (n)o / (u)nsure / (f)inished / (p)revious\n"
     ]
    },
    {
     "name": "stdout",
     "output_type": "stream",
     "text": [
      "u\n"
     ]
    },
    {
     "name": "stderr",
     "output_type": "stream",
     "text": [
      "owners : ('SIMONELLI DONATA T TS', 'DONATA SIMONELLI TS')\n",
      "own_addr : 98 PARTRIDGE ST, WEST ROXBURY, MA 02132\n",
      "\n",
      "owners : ('SARAVELAS THOMAS',)\n",
      "own_addr : 94 PARTRIDGE ST, WEST ROXBURY, MA 02132\n",
      "\n",
      "61/10 positive, 95/10 negative\n",
      "Do these records refer to the same thing?\n",
      "(y)es / (n)o / (u)nsure / (f)inished / (p)revious\n"
     ]
    },
    {
     "name": "stdout",
     "output_type": "stream",
     "text": [
      "n\n"
     ]
    },
    {
     "name": "stderr",
     "output_type": "stream",
     "text": [
      "owners : ('SULLIVAN ANNE M',)\n",
      "own_addr : 34 CENTRAL AVE, MEDFORD, MA 02155\n",
      "\n",
      "owners : ('ARRUDA CLAUDIO & ANA BOY',)\n",
      "own_addr : 84 CENTRAL AVE, MEDFORD, MA 02155\n",
      "\n",
      "61/10 positive, 96/10 negative\n",
      "Do these records refer to the same thing?\n",
      "(y)es / (n)o / (u)nsure / (f)inished / (p)revious\n"
     ]
    },
    {
     "name": "stdout",
     "output_type": "stream",
     "text": [
      "n\n"
     ]
    },
    {
     "name": "stderr",
     "output_type": "stream",
     "text": [
      "owners : ('LACOURT REALTY LLC',)\n",
      "own_addr : 30 COLLEGE AVE, SOMERVILLE, MA, 02144\n",
      "\n",
      "owners : ('LACOURT FOUNDATION LLC',)\n",
      "own_addr : 30 COLLEGE AVE, SOMERVILLE, MA 02144-1914\n",
      "\n",
      "61/10 positive, 97/10 negative\n",
      "Do these records refer to the same thing?\n",
      "(y)es / (n)o / (u)nsure / (f)inished / (p)revious\n"
     ]
    },
    {
     "name": "stdout",
     "output_type": "stream",
     "text": [
      "y\n"
     ]
    },
    {
     "name": "stderr",
     "output_type": "stream",
     "text": [
      "owners : ('1 STOUGHTON STREET PLACE', '1 STOUGHTON ST REALTY TR')\n",
      "own_addr : 345 POND ST, WESTWOOD, MA 02090\n",
      "\n",
      "owners : ('6 CAMB TER LLC', 'CAMB TER LLC')\n",
      "own_addr : 345 POND ST, WESTWOOD, MA 02090\n",
      "\n",
      "62/10 positive, 97/10 negative\n",
      "Do these records refer to the same thing?\n",
      "(y)es / (n)o / (u)nsure / (f)inished / (p)revious\n"
     ]
    },
    {
     "name": "stdout",
     "output_type": "stream",
     "text": [
      "y\n"
     ]
    },
    {
     "name": "stderr",
     "output_type": "stream",
     "text": [
      "owners : ('BURTON TRUST', 'SLADE M BURTON')\n",
      "own_addr : 29 CONCORD SQ #1, BOSTON, MA 02118\n",
      "\n",
      "owners : ('FELDMAN ZOILA T TS', 'ZOILA FELDMAN TS')\n",
      "own_addr : 29 CONCOLOR AVENUE, NEWTON, MA 02458\n",
      "\n",
      "63/10 positive, 97/10 negative\n",
      "Do these records refer to the same thing?\n",
      "(y)es / (n)o / (u)nsure / (f)inished / (p)revious\n"
     ]
    },
    {
     "name": "stdout",
     "output_type": "stream",
     "text": [
      "n\n"
     ]
    },
    {
     "name": "stderr",
     "output_type": "stream",
     "text": [
      "owners : ('DAI XINYI',)\n",
      "own_addr : 100 STATION LANDING, MEDFORD, MA 02155\n",
      "\n",
      "owners : ('M&R CONDOMINIUMS LLC', 'M&R CONDOMINIUMS')\n",
      "own_addr : 100 STATE STREET SUITE 200, BOSTON, MA 02109\n",
      "\n",
      "63/10 positive, 98/10 negative\n",
      "Do these records refer to the same thing?\n",
      "(y)es / (n)o / (u)nsure / (f)inished / (p)revious\n"
     ]
    },
    {
     "name": "stdout",
     "output_type": "stream",
     "text": [
      "n\n"
     ]
    },
    {
     "name": "stderr",
     "output_type": "stream",
     "text": [
      "owners : ('LUFRANO PATRICIA A ETAL', 'PATRICIA A LUFRANO ')\n",
      "own_addr : 37 BERKELEY ST, NASHUA, NH 03064\n",
      "\n",
      "owners : ('LUFRANO PATRICIA', 'PATRICIA A LUFRANO')\n",
      "own_addr : 37 BERKELEY ST, NASHUA, NH 03064\n",
      "\n",
      "63/10 positive, 99/10 negative\n",
      "Do these records refer to the same thing?\n",
      "(y)es / (n)o / (u)nsure / (f)inished / (p)revious\n"
     ]
    },
    {
     "name": "stdout",
     "output_type": "stream",
     "text": [
      "y\n"
     ]
    },
    {
     "name": "stderr",
     "output_type": "stream",
     "text": [
      "owners : ('LE SON THANH', 'SON LE')\n",
      "own_addr : 45 NEPONSET AVE, DORCHESTER, MA 02122\n",
      "\n",
      "owners : ('LE XEM',)\n",
      "own_addr : 45 NEPONSET AVE, DORCHESTER, MA 02122\n",
      "\n",
      "64/10 positive, 99/10 negative\n",
      "Do these records refer to the same thing?\n",
      "(y)es / (n)o / (u)nsure / (f)inished / (p)revious\n"
     ]
    },
    {
     "name": "stdout",
     "output_type": "stream",
     "text": [
      "y\n"
     ]
    },
    {
     "name": "stderr",
     "output_type": "stream",
     "text": [
      "owners : ('SONG JAE SUNG',)\n",
      "own_addr : 500 SALEM ST, MEDFORD, MA 02155\n",
      "\n",
      "owners : ('LEI SHAO FANG & CHAN TZE CHEUNG',)\n",
      "own_addr : 500 SALEM ST, MEDFORD, MA 02155\n",
      "\n",
      "65/10 positive, 99/10 negative\n",
      "Do these records refer to the same thing?\n",
      "(y)es / (n)o / (u)nsure / (f)inished / (p)revious\n"
     ]
    },
    {
     "name": "stdout",
     "output_type": "stream",
     "text": [
      "u\n"
     ]
    },
    {
     "name": "stderr",
     "output_type": "stream",
     "text": [
      "owners : ('MAUND KAREN C',)\n",
      "own_addr : 9 ATHERSTONE ST, DORCHESTER, MA 02124\n",
      "\n",
      "owners : ('ITO SHINO',)\n",
      "own_addr : 9 ASHMONT ST, DORCHESTER, MA 02124\n",
      "\n",
      "65/10 positive, 99/10 negative\n",
      "Do these records refer to the same thing?\n",
      "(y)es / (n)o / (u)nsure / (f)inished / (p)revious\n"
     ]
    },
    {
     "name": "stdout",
     "output_type": "stream",
     "text": [
      "n\n"
     ]
    },
    {
     "name": "stderr",
     "output_type": "stream",
     "text": [
      "owners : ('MOSS JOE R ETAL',)\n",
      "own_addr : 88 ALEXANDER ST, DORCHESTER, MA 02125\n",
      "\n",
      "owners : ('MAYERS CUTHBERT IVAN', 'CURT I MAYERS')\n",
      "own_addr : 85 ALEXANDER ST, DORCHESTER, MA 02125\n",
      "\n",
      "65/10 positive, 100/10 negative\n",
      "Do these records refer to the same thing?\n",
      "(y)es / (n)o / (u)nsure / (f)inished / (p)revious\n"
     ]
    },
    {
     "name": "stdout",
     "output_type": "stream",
     "text": [
      "n\n"
     ]
    },
    {
     "name": "stderr",
     "output_type": "stream",
     "text": [
      "owners : ('FIGUEIREDO MARIA TRUSTEE', '21 AUTUMN STREET REALTY TRUST')\n",
      "own_addr : 21 AUTUMN ST, SOMERVILLE, MA, 02145\n",
      "\n",
      "owners : ('KORN IVAN', 'CHAPMAN CALLIE')\n",
      "own_addr : 29 AUTUMN ST, SOMERVILLE, MA, 02145\n",
      "\n",
      "65/10 positive, 101/10 negative\n",
      "Do these records refer to the same thing?\n",
      "(y)es / (n)o / (u)nsure / (f)inished / (p)revious\n"
     ]
    },
    {
     "name": "stdout",
     "output_type": "stream",
     "text": [
      "n\n"
     ]
    },
    {
     "name": "stderr",
     "output_type": "stream",
     "text": [
      "owners : ('FIRST SUFFOLK LLC',)\n",
      "own_addr : 330 ADAMS ST, QUINCY, MA 02169\n",
      "\n",
      "owners : ('CUONG VU TS', 'VU CUONG  ')\n",
      "own_addr : 330 ADAMS ST, QUINCY, MA 02169\n",
      "\n",
      "65/10 positive, 102/10 negative\n",
      "Do these records refer to the same thing?\n",
      "(y)es / (n)o / (u)nsure / (f)inished / (p)revious\n"
     ]
    },
    {
     "name": "stdout",
     "output_type": "stream",
     "text": [
      "y\n"
     ]
    },
    {
     "name": "stderr",
     "output_type": "stream",
     "text": [
      "owners : ('TWO TWENTY ONE W NEWTON LLC',)\n",
      "own_addr : 94 APPLETON ST, BOSTON, MA 02116\n",
      "\n",
      "owners : ('FIFTEEN EUSTON INC MASS CORP', 'STEPHEN TRAYNOR')\n",
      "own_addr : 94 APPLETON ST, BOSTON, MA 02116\n",
      "\n",
      "66/10 positive, 102/10 negative\n",
      "Do these records refer to the same thing?\n",
      "(y)es / (n)o / (u)nsure / (f)inished / (p)revious\n"
     ]
    },
    {
     "name": "stdout",
     "output_type": "stream",
     "text": [
      "y\n"
     ]
    },
    {
     "name": "stderr",
     "output_type": "stream",
     "text": [
      "owners : ('KABEL RUEBEN',)\n",
      "own_addr : 54 FOREST ST, MEDFORD, MA 02155\n",
      "\n",
      "owners : ('ANGEL BERENGUER REVOCABLE TRUST OF 2016',)\n",
      "own_addr : 54 FOREST ST, MEDFORD, MA 02155\n",
      "\n",
      "67/10 positive, 102/10 negative\n",
      "Do these records refer to the same thing?\n",
      "(y)es / (n)o / (u)nsure / (f)inished / (p)revious\n"
     ]
    },
    {
     "name": "stdout",
     "output_type": "stream",
     "text": [
      "u\n"
     ]
    },
    {
     "name": "stderr",
     "output_type": "stream",
     "text": [
      "owners : ('CAMBRIDGE AFFORDABLE HOUSING CORP',)\n",
      "own_addr : 362 GREEN ST, CAMBRIDGE, MA 02139\n",
      "\n",
      "owners : ('CAMBRIDGE AFFORDABLE HOUSING CORP.',)\n",
      "own_addr : 362 GREEN ST, CAMBRIDGE, MA 02139\n",
      "\n",
      "67/10 positive, 102/10 negative\n",
      "Do these records refer to the same thing?\n",
      "(y)es / (n)o / (u)nsure / (f)inished / (p)revious\n"
     ]
    },
    {
     "name": "stdout",
     "output_type": "stream",
     "text": [
      "y\n"
     ]
    },
    {
     "name": "stderr",
     "output_type": "stream",
     "text": [
      "owners : ('BOSTON BAY',)\n",
      "own_addr : 530 WARREN ST, DORCHESTER, MA 02121\n",
      "\n",
      "owners : ('HOPE BAY', 'UNITED HOUSING CO LLC  ')\n",
      "own_addr : 530 WARREN ST , DORCHESTER, MA 02121\n",
      "\n",
      "68/10 positive, 102/10 negative\n",
      "Do these records refer to the same thing?\n",
      "(y)es / (n)o / (u)nsure / (f)inished / (p)revious\n"
     ]
    },
    {
     "name": "stdout",
     "output_type": "stream",
     "text": [
      "y\n"
     ]
    },
    {
     "name": "stderr",
     "output_type": "stream",
     "text": [
      "owners : ('SCALLI DAVID ',)\n",
      "own_addr : 58 GAINSBOROUGH ST, BOSTON, MA 02115\n",
      "\n",
      "owners : ('PHILLIP ARLENE M',)\n",
      "own_addr : 58 JACOB ST, DORCHESTER, MA 02124\n",
      "\n",
      "69/10 positive, 102/10 negative\n",
      "Do these records refer to the same thing?\n",
      "(y)es / (n)o / (u)nsure / (f)inished / (p)revious\n"
     ]
    },
    {
     "name": "stdout",
     "output_type": "stream",
     "text": [
      "y\n"
     ]
    },
    {
     "name": "stderr",
     "output_type": "stream",
     "text": [
      "owners : ('HANCOCK VILLAGE I LLC', 'CHESTNUT HILL REALTY COR')\n",
      "own_addr : PO BOX 396, CHESTNUT HILL, MA 02467\n",
      "\n",
      "owners : ('VILLAGE MANOR LLC',)\n",
      "own_addr : PO BOX 396, CHESTNUT HILL, MA 02467\n",
      "\n",
      "70/10 positive, 102/10 negative\n",
      "Do these records refer to the same thing?\n",
      "(y)es / (n)o / (u)nsure / (f)inished / (p)revious\n"
     ]
    },
    {
     "name": "stdout",
     "output_type": "stream",
     "text": [
      "p\n"
     ]
    },
    {
     "name": "stderr",
     "output_type": "stream",
     "text": [
      "owners : ('SCALLI DAVID ',)\n",
      "own_addr : 58 GAINSBOROUGH ST, BOSTON, MA 02115\n",
      "\n",
      "owners : ('PHILLIP ARLENE M',)\n",
      "own_addr : 58 JACOB ST, DORCHESTER, MA 02124\n",
      "\n",
      "69/10 positive, 102/10 negative\n",
      "Do these records refer to the same thing?\n",
      "(y)es / (n)o / (u)nsure / (f)inished\n"
     ]
    },
    {
     "name": "stdout",
     "output_type": "stream",
     "text": [
      "n\n"
     ]
    },
    {
     "name": "stderr",
     "output_type": "stream",
     "text": [
      "owners : ('HANCOCK VILLAGE I LLC', 'CHESTNUT HILL REALTY COR')\n",
      "own_addr : PO BOX 396, CHESTNUT HILL, MA 02467\n",
      "\n",
      "owners : ('VILLAGE MANOR LLC',)\n",
      "own_addr : PO BOX 396, CHESTNUT HILL, MA 02467\n",
      "\n",
      "69/10 positive, 103/10 negative\n",
      "Do these records refer to the same thing?\n",
      "(y)es / (n)o / (u)nsure / (f)inished / (p)revious\n"
     ]
    },
    {
     "name": "stdout",
     "output_type": "stream",
     "text": [
      "y\n"
     ]
    },
    {
     "name": "stderr",
     "output_type": "stream",
     "text": [
      "owners : ('JOLIN REALTY LLC', 'VINCENT MARINO')\n",
      "own_addr : P O BOX 135, ROSLINDALE, MA 02131\n",
      "\n",
      "owners : ('VILLAGE REALTY LLC', 'VICENT MARINO')\n",
      "own_addr : P O BOX 135, ROSLINDALE, MA 02131\n",
      "\n",
      "70/10 positive, 103/10 negative\n",
      "Do these records refer to the same thing?\n",
      "(y)es / (n)o / (u)nsure / (f)inished / (p)revious\n"
     ]
    },
    {
     "name": "stdout",
     "output_type": "stream",
     "text": [
      "y\n"
     ]
    },
    {
     "name": "stderr",
     "output_type": "stream",
     "text": [
      "owners : ('MADDEN VALERIE',)\n",
      "own_addr : 71 ST ROSE ST, JAMAICA PLAIN, MA 02130\n",
      "\n",
      "owners : ('COOK HENRY M',)\n",
      "own_addr : 79 ST ROSE ST, JAMAICA PLAIN, MA 02130\n",
      "\n",
      "71/10 positive, 103/10 negative\n",
      "Do these records refer to the same thing?\n",
      "(y)es / (n)o / (u)nsure / (f)inished / (p)revious\n"
     ]
    },
    {
     "name": "stdout",
     "output_type": "stream",
     "text": [
      "n\n"
     ]
    },
    {
     "name": "stderr",
     "output_type": "stream",
     "text": [
      "owners : ('MASTROCOLA FRANK J JR',)\n",
      "own_addr : PO BOX 560159, WEST  MEDFORD, MA 02156\n",
      "\n",
      "owners : ('WIGGINS GEORGE C',)\n",
      "own_addr : PO BOX 46, DORCHESTER, MA 02124\n",
      "\n",
      "71/10 positive, 104/10 negative\n",
      "Do these records refer to the same thing?\n",
      "(y)es / (n)o / (u)nsure / (f)inished / (p)revious\n"
     ]
    },
    {
     "name": "stdout",
     "output_type": "stream",
     "text": [
      "n\n"
     ]
    },
    {
     "name": "stderr",
     "output_type": "stream",
     "text": [
      "owners : ('CRITCH MARGARET',)\n",
      "own_addr : 59 VALLEY ST, MEDFORD, MA 02155\n",
      "\n",
      "owners : ('WATSON CYNTHIA A',)\n",
      "own_addr : 59 VALLEY ST, MEDFORD, MA 02155\n",
      "\n",
      "71/10 positive, 105/10 negative\n",
      "Do these records refer to the same thing?\n",
      "(y)es / (n)o / (u)nsure / (f)inished / (p)revious\n"
     ]
    },
    {
     "name": "stdout",
     "output_type": "stream",
     "text": [
      "n\n"
     ]
    },
    {
     "name": "stderr",
     "output_type": "stream",
     "text": [
      "owners : ('SEVENTEEN-19 BENNETT ST LLC',)\n",
      "own_addr : 2 ACADEMY HILL RD, BRIGHTON, MA 02135\n",
      "\n",
      "owners : ('328 WASHINGTON LLC',)\n",
      "own_addr : 2 ACADEMY HILL RD, BRIGHTON, MA 02135\n",
      "\n",
      "71/10 positive, 106/10 negative\n",
      "Do these records refer to the same thing?\n",
      "(y)es / (n)o / (u)nsure / (f)inished / (p)revious\n"
     ]
    },
    {
     "name": "stdout",
     "output_type": "stream",
     "text": [
      "u\n"
     ]
    },
    {
     "name": "stderr",
     "output_type": "stream",
     "text": [
      "owners : ('BARRY KEITH W',)\n",
      "own_addr : 64 FOREST ST, MEDFORD, MA 02155\n",
      "\n",
      "owners : ('SOTO EDWIN',)\n",
      "own_addr : 64 FOREST ST, MEDFORD, MA 02155\n",
      "\n",
      "71/10 positive, 106/10 negative\n",
      "Do these records refer to the same thing?\n",
      "(y)es / (n)o / (u)nsure / (f)inished / (p)revious\n"
     ]
    },
    {
     "name": "stdout",
     "output_type": "stream",
     "text": [
      "p\n"
     ]
    },
    {
     "name": "stderr",
     "output_type": "stream",
     "text": [
      "owners : ('SEVENTEEN-19 BENNETT ST LLC',)\n",
      "own_addr : 2 ACADEMY HILL RD, BRIGHTON, MA 02135\n",
      "\n",
      "owners : ('328 WASHINGTON LLC',)\n",
      "own_addr : 2 ACADEMY HILL RD, BRIGHTON, MA 02135\n",
      "\n",
      "71/10 positive, 106/10 negative\n",
      "Do these records refer to the same thing?\n",
      "(y)es / (n)o / (u)nsure / (f)inished\n"
     ]
    },
    {
     "name": "stdout",
     "output_type": "stream",
     "text": [
      "y\n"
     ]
    },
    {
     "name": "stderr",
     "output_type": "stream",
     "text": [
      "owners : ('BARRY KEITH W',)\n",
      "own_addr : 64 FOREST ST, MEDFORD, MA 02155\n",
      "\n",
      "owners : ('SOTO EDWIN',)\n",
      "own_addr : 64 FOREST ST, MEDFORD, MA 02155\n",
      "\n",
      "72/10 positive, 106/10 negative\n",
      "Do these records refer to the same thing?\n",
      "(y)es / (n)o / (u)nsure / (f)inished / (p)revious\n"
     ]
    },
    {
     "name": "stdout",
     "output_type": "stream",
     "text": [
      "n\n"
     ]
    },
    {
     "name": "stderr",
     "output_type": "stream",
     "text": [
      "owners : ('HOMER APARTMENTS LIMITED PARTNERSHIP',)\n",
      "own_addr : 39 BRIGHTON AVE, ALLSTON, MA 02134\n",
      "\n",
      "owners : ('25 DARLING LLP',)\n",
      "own_addr : 39 BRIGHTON AVE, ALLSTON, MA 02134\n",
      "\n",
      "72/10 positive, 107/10 negative\n",
      "Do these records refer to the same thing?\n",
      "(y)es / (n)o / (u)nsure / (f)inished / (p)revious\n"
     ]
    },
    {
     "name": "stdout",
     "output_type": "stream",
     "text": [
      "y\n"
     ]
    },
    {
     "name": "stderr",
     "output_type": "stream",
     "text": [
      "owners : ('COLIN R LEGGETT REVOCABLE TRUST',)\n",
      "own_addr : 3920 MYSTIC VLLY PKWY, MEDFORD, MA 02155\n",
      "\n",
      "owners : ('BRAZET FAMILY REVOCABLE TRUST',)\n",
      "own_addr : 3920 MYSTIC VLLY PKWY, MEDFORD, MA 02155\n",
      "\n",
      "73/10 positive, 107/10 negative\n",
      "Do these records refer to the same thing?\n",
      "(y)es / (n)o / (u)nsure / (f)inished / (p)revious\n"
     ]
    },
    {
     "name": "stdout",
     "output_type": "stream",
     "text": [
      "u\n"
     ]
    },
    {
     "name": "stderr",
     "output_type": "stream",
     "text": [
      "owners : ('FIFTY BATEMAN LLC', '50 BATEMAN LLC /P MCKENN')\n",
      "own_addr : 28 BROOKS STREET, BRIGHTON, MA 02135\n",
      "\n",
      "owners : ('GLENSHANE IV LLC',)\n",
      "own_addr : 28 BROOKS STREET, BRIGHTON, MA 02135\n",
      "\n",
      "73/10 positive, 107/10 negative\n",
      "Do these records refer to the same thing?\n",
      "(y)es / (n)o / (u)nsure / (f)inished / (p)revious\n"
     ]
    },
    {
     "name": "stdout",
     "output_type": "stream",
     "text": [
      "y\n"
     ]
    },
    {
     "name": "stderr",
     "output_type": "stream",
     "text": [
      "owners : ('BOZOGAN CRISTA',)\n",
      "own_addr : 215 HARVARD ST, MEDFORD, MA 02155\n",
      "\n",
      "owners : ('SEUNG EDWARD N',)\n",
      "own_addr : 215 HARVARD ST, MEDFORD, MA 02155\n",
      "\n",
      "74/10 positive, 107/10 negative\n",
      "Do these records refer to the same thing?\n",
      "(y)es / (n)o / (u)nsure / (f)inished / (p)revious\n"
     ]
    },
    {
     "name": "stdout",
     "output_type": "stream",
     "text": [
      "n\n"
     ]
    },
    {
     "name": "stderr",
     "output_type": "stream",
     "text": [
      "owners : ('SHEA MARK F & KERRY',)\n",
      "own_addr : 215 HARVARD ST, MEDFORD, MA 02155\n",
      "\n",
      "owners : ('BECKER CHRISTOPHER J',)\n",
      "own_addr : 215 HARVARD ST, MEDFORD, MA 02155\n",
      "\n",
      "74/10 positive, 108/10 negative\n",
      "Do these records refer to the same thing?\n",
      "(y)es / (n)o / (u)nsure / (f)inished / (p)revious\n"
     ]
    },
    {
     "name": "stdout",
     "output_type": "stream",
     "text": [
      "p\n"
     ]
    },
    {
     "name": "stderr",
     "output_type": "stream",
     "text": [
      "owners : ('BOZOGAN CRISTA',)\n",
      "own_addr : 215 HARVARD ST, MEDFORD, MA 02155\n",
      "\n",
      "owners : ('SEUNG EDWARD N',)\n",
      "own_addr : 215 HARVARD ST, MEDFORD, MA 02155\n",
      "\n",
      "74/10 positive, 107/10 negative\n",
      "Do these records refer to the same thing?\n",
      "(y)es / (n)o / (u)nsure / (f)inished\n"
     ]
    },
    {
     "name": "stdout",
     "output_type": "stream",
     "text": [
      "u\n"
     ]
    },
    {
     "name": "stderr",
     "output_type": "stream",
     "text": [
      "owners : ('SHEA MARK F & KERRY',)\n",
      "own_addr : 215 HARVARD ST, MEDFORD, MA 02155\n",
      "\n",
      "owners : ('BECKER CHRISTOPHER J',)\n",
      "own_addr : 215 HARVARD ST, MEDFORD, MA 02155\n",
      "\n",
      "74/10 positive, 107/10 negative\n",
      "Do these records refer to the same thing?\n",
      "(y)es / (n)o / (u)nsure / (f)inished / (p)revious\n"
     ]
    },
    {
     "name": "stdout",
     "output_type": "stream",
     "text": [
      "u\n"
     ]
    },
    {
     "name": "stderr",
     "output_type": "stream",
     "text": [
      "owners : ('GONG HAIYAN',)\n",
      "own_addr : 3920 MYSTIC VLLY PKWY, MEDFORD, MA 02155\n",
      "\n",
      "owners : ('AGRIPPINO STEPHEN & ROBERT',)\n",
      "own_addr : 3920 MYSTIC VLLY PKWY, MEDFORD, MA 02155\n",
      "\n",
      "74/10 positive, 107/10 negative\n",
      "Do these records refer to the same thing?\n",
      "(y)es / (n)o / (u)nsure / (f)inished / (p)revious\n"
     ]
    },
    {
     "name": "stdout",
     "output_type": "stream",
     "text": [
      "u\n"
     ]
    },
    {
     "name": "stderr",
     "output_type": "stream",
     "text": [
      "owners : ('STITCH HOUSE REAL ESTATE LLC',)\n",
      "own_addr : 832 DORCHESTER AV, DORCHESTER, MA 02125\n",
      "\n",
      "owners : ('GEORGE DOUGLAS',)\n",
      "own_addr : 832 DORCHESTER AV, DORCHESTER, MA 02125\n",
      "\n",
      "74/10 positive, 107/10 negative\n",
      "Do these records refer to the same thing?\n",
      "(y)es / (n)o / (u)nsure / (f)inished / (p)revious\n"
     ]
    },
    {
     "name": "stdout",
     "output_type": "stream",
     "text": [
      "y\n"
     ]
    },
    {
     "name": "stderr",
     "output_type": "stream",
     "text": [
      "owners : ('FOUR 33 DUDLEY ST LLC',)\n",
      "own_addr : 330 ADAMS ST, QUINCY, MA 02169\n",
      "\n",
      "owners : ('CUONG VU TS', 'CUONG VU ')\n",
      "own_addr : 330 ADAMS ST, QUINCY, MA 02169\n",
      "\n",
      "75/10 positive, 107/10 negative\n",
      "Do these records refer to the same thing?\n",
      "(y)es / (n)o / (u)nsure / (f)inished / (p)revious\n"
     ]
    },
    {
     "name": "stdout",
     "output_type": "stream",
     "text": [
      "y\n"
     ]
    },
    {
     "name": "stderr",
     "output_type": "stream",
     "text": [
      "owners : ('YOGEL, DAVID M TR. OF', 'PUTNAM TRUST-12')\n",
      "own_addr : 87 HAMPSHIRE ST, CAMBRIDGE, MA 02139\n",
      "\n",
      "owners : ('R.J. REALTY LIMITED PARTNESHIP',)\n",
      "own_addr : 87 HAMPSHIRE ST, CAMBRIDGE, MA 02139\n",
      "\n",
      "76/10 positive, 107/10 negative\n",
      "Do these records refer to the same thing?\n",
      "(y)es / (n)o / (u)nsure / (f)inished / (p)revious\n"
     ]
    },
    {
     "name": "stdout",
     "output_type": "stream",
     "text": [
      "y\n"
     ]
    },
    {
     "name": "stderr",
     "output_type": "stream",
     "text": [
      "owners : ('HAMILTON ASSOCIATES LLC',)\n",
      "own_addr : 39 BRIGHTON AVE, BOSTON, MA 02134\n",
      "\n",
      "owners : ('JOSEPH PLISKIN', ' R BROWN PARTNERS')\n",
      "own_addr : 39 BRIGHTON AVE, BOSTON, MA 02134\n",
      "\n",
      "77/10 positive, 107/10 negative\n",
      "Do these records refer to the same thing?\n",
      "(y)es / (n)o / (u)nsure / (f)inished / (p)revious\n"
     ]
    },
    {
     "name": "stdout",
     "output_type": "stream",
     "text": [
      "y\n"
     ]
    },
    {
     "name": "stderr",
     "output_type": "stream",
     "text": [
      "owners : ('KASMER-JACOBS FAMILY LTD PTNRSHIP',)\n",
      "own_addr : 289 HIGHLAND AVE, NEWTON, MA, 02465\n",
      "\n",
      "owners : ('JEAN AND MORRIS KASMER',)\n",
      "own_addr : 289 HIGHLAND AVE, W. NEWTON, MA 02465\n",
      "\n",
      "78/10 positive, 107/10 negative\n",
      "Do these records refer to the same thing?\n",
      "(y)es / (n)o / (u)nsure / (f)inished / (p)revious\n"
     ]
    },
    {
     "name": "stdout",
     "output_type": "stream",
     "text": [
      "y\n"
     ]
    },
    {
     "name": "stderr",
     "output_type": "stream",
     "text": [
      "owners : ('WONG PETER',)\n",
      "own_addr : 6 OLIVE ST, BRIGHTON, MA 02135\n",
      "\n",
      "owners : ('WONG PETER Y',)\n",
      "own_addr : 6 OLIVE ST, BRIGHTON, MA 02135\n",
      "\n",
      "79/10 positive, 107/10 negative\n",
      "Do these records refer to the same thing?\n",
      "(y)es / (n)o / (u)nsure / (f)inished / (p)revious\n"
     ]
    },
    {
     "name": "stdout",
     "output_type": "stream",
     "text": [
      "y\n"
     ]
    },
    {
     "name": "stderr",
     "output_type": "stream",
     "text": [
      "owners : ('CAMBRIDGE AFFORDABLE HOUSING CORP.',)\n",
      "own_addr : 362 GREEN ST, CAMBRIDGE, MA 02139\n",
      "\n",
      "owners : ('CAMBRIDGE AFFORDABLE HOUSING CORP',)\n",
      "own_addr : 362 GREEN ST, CAMBRIDGE, MA 02139\n",
      "\n",
      "80/10 positive, 107/10 negative\n",
      "Do these records refer to the same thing?\n",
      "(y)es / (n)o / (u)nsure / (f)inished / (p)revious\n"
     ]
    },
    {
     "name": "stdout",
     "output_type": "stream",
     "text": [
      "y\n"
     ]
    },
    {
     "name": "stderr",
     "output_type": "stream",
     "text": [
      "owners : ('EPHRAIM AND MARGO EZEKIEL',)\n",
      "own_addr : 441 WASHINGTON ST #3, BROOKLINE, MA 02446\n",
      "\n",
      "owners : ('LAURA B CORSON',)\n",
      "own_addr : 447 WASHINGTON ST #3, BROOKLINE, MA 02446\n",
      "\n",
      "81/10 positive, 107/10 negative\n",
      "Do these records refer to the same thing?\n",
      "(y)es / (n)o / (u)nsure / (f)inished / (p)revious\n"
     ]
    },
    {
     "name": "stdout",
     "output_type": "stream",
     "text": [
      "n\n"
     ]
    },
    {
     "name": "stderr",
     "output_type": "stream",
     "text": [
      "owners : ('HOLSTEDT LUCY',)\n",
      "own_addr : 15 SCHOOL ST, SOMERVILLE, MA, 02143\n",
      "\n",
      "owners : ('TUTTLE MARK E',)\n",
      "own_addr : 15 SCHOOL ST, CHARLESTOWN, MA 02129\n",
      "\n",
      "81/10 positive, 108/10 negative\n",
      "Do these records refer to the same thing?\n",
      "(y)es / (n)o / (u)nsure / (f)inished / (p)revious\n"
     ]
    },
    {
     "name": "stdout",
     "output_type": "stream",
     "text": [
      "n\n"
     ]
    },
    {
     "name": "stderr",
     "output_type": "stream",
     "text": [
      "owners : ('3 WEST ST LLC',)\n",
      "own_addr : 264 SALEM ST, MEDFORD, MA, 02155\n",
      "\n",
      "owners : ('MEDFORD PROPERTIES LLC',)\n",
      "own_addr : 264 SALEM ST, MEDFORD, MA, 02155\n",
      "\n",
      "81/10 positive, 109/10 negative\n",
      "Do these records refer to the same thing?\n",
      "(y)es / (n)o / (u)nsure / (f)inished / (p)revious\n"
     ]
    },
    {
     "name": "stdout",
     "output_type": "stream",
     "text": [
      "y\n"
     ]
    },
    {
     "name": "stderr",
     "output_type": "stream",
     "text": [
      "owners : ('MILDRED E CACICIO REALY TRUST',)\n",
      "own_addr : 289 ELM ST, MEDFORD, MA 02155\n",
      "\n",
      "owners : ('PASSACANTILLI CARLA',)\n",
      "own_addr : 289 ELM ST, MEDFORD, MA 02155\n",
      "\n",
      "82/10 positive, 109/10 negative\n",
      "Do these records refer to the same thing?\n",
      "(y)es / (n)o / (u)nsure / (f)inished / (p)revious\n"
     ]
    },
    {
     "name": "stdout",
     "output_type": "stream",
     "text": [
      "u\n"
     ]
    },
    {
     "name": "stderr",
     "output_type": "stream",
     "text": [
      "owners : ('TSOUKALAS PETER',)\n",
      "own_addr : 500 SALEM ST, MEDFORD, MA 02155\n",
      "\n",
      "owners : ('FLYNN LORRAINE T',)\n",
      "own_addr : 500 SALEM ST, MEDFORD, MA 02155\n",
      "\n",
      "82/10 positive, 109/10 negative\n",
      "Do these records refer to the same thing?\n",
      "(y)es / (n)o / (u)nsure / (f)inished / (p)revious\n"
     ]
    },
    {
     "name": "stdout",
     "output_type": "stream",
     "text": [
      "u\n"
     ]
    },
    {
     "name": "stderr",
     "output_type": "stream",
     "text": [
      "owners : ('DEPINA PEDRO LOBO ETAL',)\n",
      "own_addr : 98 HF GEORGE ST, ROXBURY, MA 02119\n",
      "\n",
      "owners : ('DEPINA PEDRO',)\n",
      "own_addr : 98 HF GEORGE ST, ROXBURY, MA 02119\n",
      "\n",
      "82/10 positive, 109/10 negative\n",
      "Do these records refer to the same thing?\n",
      "(y)es / (n)o / (u)nsure / (f)inished / (p)revious\n"
     ]
    },
    {
     "name": "stdout",
     "output_type": "stream",
     "text": [
      "y\n"
     ]
    },
    {
     "name": "stderr",
     "output_type": "stream",
     "text": [
      "owners : ('SIXTY4 C E REALTY LLC', 'MARK A MEDLINSKY')\n",
      "own_addr : 10 REDSTONE LA, MARBLEHEAD, MA 01945\n",
      "\n",
      "owners : ('FIFTY2 - 56 C E REALTY LLC', 'CARROLL RLTY/52-56 C E R')\n",
      "own_addr : 10 REDSTONE LA, MARBLEHEAD, MA 01945\n",
      "\n",
      "83/10 positive, 109/10 negative\n",
      "Do these records refer to the same thing?\n",
      "(y)es / (n)o / (u)nsure / (f)inished / (p)revious\n"
     ]
    },
    {
     "name": "stdout",
     "output_type": "stream",
     "text": [
      "y\n"
     ]
    },
    {
     "name": "stderr",
     "output_type": "stream",
     "text": [
      "owners : ('SAINT-LOUIS MARIE C',)\n",
      "own_addr : 1 ST CLARE RD, MEDFORD, MA 02155\n",
      "\n",
      "owners : ('FANCIULLO ROBERT J',)\n",
      "own_addr : 1 ST CLARE RD, MEDFORD, MA 02155\n",
      "\n",
      "84/10 positive, 109/10 negative\n",
      "Do these records refer to the same thing?\n",
      "(y)es / (n)o / (u)nsure / (f)inished / (p)revious\n"
     ]
    },
    {
     "name": "stdout",
     "output_type": "stream",
     "text": [
      "u\n"
     ]
    },
    {
     "name": "stderr",
     "output_type": "stream",
     "text": [
      "owners : ('CAMBRIDGE COMMUNITY HOUSING', 'DEVELOPMENT, INC.')\n",
      "own_addr : 6 FANEUIL HALL MARKETPLACE, BOSTON, MA 02109\n",
      "\n",
      "owners : ('SECRETARY OF HOUSING', 'WINN RESIDENTIAL-G GRAZI')\n",
      "own_addr : 6 FANEUIL HALL MARKETPLACE, BOSTON, MA 02109\n",
      "\n",
      "84/10 positive, 109/10 negative\n",
      "Do these records refer to the same thing?\n",
      "(y)es / (n)o / (u)nsure / (f)inished / (p)revious\n"
     ]
    },
    {
     "name": "stdout",
     "output_type": "stream",
     "text": [
      "y\n"
     ]
    },
    {
     "name": "stderr",
     "output_type": "stream",
     "text": [
      "owners : ('NEW ACADEMY ESTATES LLC', 'WINN RESIDENTIAL ')\n",
      "own_addr : 6 FANEUIL HALL MARKETPLACE, BOSTON, MA 02109\n",
      "\n",
      "owners : ('DIXWELL PARK UE LLC', 'WINN RESIDENTIAL-G GRAZI')\n",
      "own_addr : 6 FANEUIL HALL MARKETPLACE, BOSTON, MA 02109\n",
      "\n",
      "85/10 positive, 109/10 negative\n",
      "Do these records refer to the same thing?\n",
      "(y)es / (n)o / (u)nsure / (f)inished / (p)revious\n"
     ]
    },
    {
     "name": "stdout",
     "output_type": "stream",
     "text": [
      "y\n"
     ]
    },
    {
     "name": "stderr",
     "output_type": "stream",
     "text": [
      "owners : ('MZ PROPERTY LAND TR LLC TS', 'MZ PROPERTY LAND TR LLC')\n",
      "own_addr : PO BOX 35309, BRIGHTON, MA 02135\n",
      "\n",
      "owners : (' MZ PROPERTY LAND TRUST  LLC',)\n",
      "own_addr : PO BOX 35309, BRIGHTON, MA 02135\n",
      "\n",
      "86/10 positive, 109/10 negative\n",
      "Do these records refer to the same thing?\n",
      "(y)es / (n)o / (u)nsure / (f)inished / (p)revious\n"
     ]
    },
    {
     "name": "stdout",
     "output_type": "stream",
     "text": [
      "y\n"
     ]
    },
    {
     "name": "stderr",
     "output_type": "stream",
     "text": [
      "owners : ('WAGNER HADASSAH',)\n",
      "own_addr : 766-780 E THIRD ST #770-1, S BOSTON, MA 02127\n",
      "\n",
      "owners : ('HICHOS SERGIO R',)\n",
      "own_addr : 776-780 E THIRD ST #770- 4, S BOSTON, MA 02127\n",
      "\n",
      "87/10 positive, 109/10 negative\n",
      "Do these records refer to the same thing?\n",
      "(y)es / (n)o / (u)nsure / (f)inished / (p)revious\n"
     ]
    },
    {
     "name": "stdout",
     "output_type": "stream",
     "text": [
      "n\n"
     ]
    },
    {
     "name": "stderr",
     "output_type": "stream",
     "text": [
      "owners : ('RH LAND TRUST LLC TS',)\n",
      "own_addr : 404 S HUNTINGTON AV, JAMAICA PLAIN, MA 02130\n",
      "\n",
      "owners : ('HS LAND TRUST LLC',)\n",
      "own_addr : 404 S HUNTINGTON AV, JAMAICA PLAIN, MA 02130\n",
      "\n",
      "87/10 positive, 110/10 negative\n",
      "Do these records refer to the same thing?\n",
      "(y)es / (n)o / (u)nsure / (f)inished / (p)revious\n"
     ]
    },
    {
     "name": "stdout",
     "output_type": "stream",
     "text": [
      "y\n"
     ]
    },
    {
     "name": "stderr",
     "output_type": "stream",
     "text": [
      "owners : ('MS LAND TRUST LLC',)\n",
      "own_addr : 404 S HUNTINGTON AV, JAMAICA PLAIN, MA 02130\n",
      "\n",
      "owners : ('HS LAND TRUST LLC TS',)\n",
      "own_addr : 404 S HUNTINGTON AV, JAMAICA PLAIN, MA 02130\n",
      "\n",
      "88/10 positive, 110/10 negative\n",
      "Do these records refer to the same thing?\n",
      "(y)es / (n)o / (u)nsure / (f)inished / (p)revious\n"
     ]
    },
    {
     "name": "stdout",
     "output_type": "stream",
     "text": [
      "y\n"
     ]
    },
    {
     "name": "stderr",
     "output_type": "stream",
     "text": [
      "owners : ('TRUST THE MCLEAN FAMILY', 'MCLEAN ELIZABETH M TRSTE')\n",
      "own_addr : 16 WILLOW AVE, SOMERVILLE, MA, 02144\n",
      "\n",
      "owners : ('CIRILLIO LAUREN E',)\n",
      "own_addr : 16 WESTMINSTER AV #B-2, ROXBURY, MA 02119\n",
      "\n",
      "89/10 positive, 110/10 negative\n",
      "Do these records refer to the same thing?\n",
      "(y)es / (n)o / (u)nsure / (f)inished / (p)revious\n"
     ]
    },
    {
     "name": "stdout",
     "output_type": "stream",
     "text": [
      "n\n"
     ]
    },
    {
     "name": "stderr",
     "output_type": "stream",
     "text": [
      "owners : ('MEI WAH VILLAGE INC', 'ADAM AMEDEN')\n",
      "own_addr : 75 FEDERAL ST 4TH FL, BOSTON, MA 02110\n",
      "\n",
      "owners : ('TRINITY ASHMONT TWO', 'TRINITY ASHMONT 2 HOMEOWNERS')\n",
      "own_addr : 75 FEDERAL ST. 4TH FL , BOSTON MA,  02110\n",
      "\n",
      "89/10 positive, 111/10 negative\n",
      "Do these records refer to the same thing?\n",
      "(y)es / (n)o / (u)nsure / (f)inished / (p)revious\n"
     ]
    },
    {
     "name": "stdout",
     "output_type": "stream",
     "text": [
      "y\n"
     ]
    },
    {
     "name": "stderr",
     "output_type": "stream",
     "text": [
      "owners : ('CHEN CHUN HAU',)\n",
      "own_addr : 910 SARATOGA ST #3, EAST BOSTON, MA 02128\n",
      "\n",
      "owners : ('ZHOU JENNY LI',)\n",
      "own_addr : 1129 SARATOGA ST, EAST BOSTON, MA 02128\n",
      "\n",
      "90/10 positive, 111/10 negative\n",
      "Do these records refer to the same thing?\n",
      "(y)es / (n)o / (u)nsure / (f)inished / (p)revious\n"
     ]
    },
    {
     "name": "stdout",
     "output_type": "stream",
     "text": [
      "n\n"
     ]
    },
    {
     "name": "stderr",
     "output_type": "stream",
     "text": [
      "owners : ('PHILLIPS BROOKS SCHOOL', 'WINN MGT CO INC')\n",
      "own_addr : 6 FANEUIL HALL MARKETPLACE, BOSTON, MA 02109\n",
      "\n",
      "owners : ('ONE 57 WASHINGTON ST AB&W', 'MARY SUGRUE')\n",
      "own_addr : 6 FANEUIL HALL MARKETPLACE, BOSTON, MA 02109\n",
      "\n",
      "90/10 positive, 112/10 negative\n",
      "Do these records refer to the same thing?\n",
      "(y)es / (n)o / (u)nsure / (f)inished / (p)revious\n"
     ]
    },
    {
     "name": "stdout",
     "output_type": "stream",
     "text": [
      "y\n"
     ]
    },
    {
     "name": "stderr",
     "output_type": "stream",
     "text": [
      "owners : ('BROWN KAPLAN LPS', 'WINN MGT CO INC')\n",
      "own_addr : 6 FANEUIL HALL MARKETPLACE, BOSTON, MA 02109\n",
      "\n",
      "owners : ('OLMSTED GREEN RENTAL III', 'WINN RESIDENTIAL')\n",
      "own_addr : 6 FANEUIL HALL MARKETPLACE, BOSTON, MA 02109\n",
      "\n",
      "91/10 positive, 112/10 negative\n",
      "Do these records refer to the same thing?\n",
      "(y)es / (n)o / (u)nsure / (f)inished / (p)revious\n"
     ]
    },
    {
     "name": "stdout",
     "output_type": "stream",
     "text": [
      "y\n"
     ]
    },
    {
     "name": "stderr",
     "output_type": "stream",
     "text": [
      "owners : ('JOSEPH ROBERT J & CHRISTINE C',)\n",
      "own_addr : 38 PIERREPONT ROAD, WINCHESTER, MA, 01890\n",
      "\n",
      "owners : ('OSNOWITZ DEBRA',)\n",
      "own_addr : 38 POTOMAC, WEST ROXBURY, MA 02132\n",
      "\n",
      "92/10 positive, 112/10 negative\n",
      "Do these records refer to the same thing?\n",
      "(y)es / (n)o / (u)nsure / (f)inished / (p)revious\n"
     ]
    },
    {
     "name": "stdout",
     "output_type": "stream",
     "text": [
      "n\n"
     ]
    },
    {
     "name": "stderr",
     "output_type": "stream",
     "text": [
      "owners : ('REILLY JOHN A LT',)\n",
      "own_addr : 15 CRANDALL, ROSLINDALE, MA 02131\n",
      "\n",
      "owners : ('RYAN ANNA G', 'NOREEN M WHITLA ')\n",
      "own_addr : 15 KEENAN RD, BRIGHTON, MA 02135\n",
      "\n",
      "92/10 positive, 113/10 negative\n",
      "Do these records refer to the same thing?\n",
      "(y)es / (n)o / (u)nsure / (f)inished / (p)revious\n"
     ]
    },
    {
     "name": "stdout",
     "output_type": "stream",
     "text": [
      "n\n"
     ]
    },
    {
     "name": "stderr",
     "output_type": "stream",
     "text": [
      "owners : ('CANNIFF MARY A', 'M L DONOVAN-GRANITE TRAD')\n",
      "own_addr : PO BOX 74, ROSLINDALE, MA 02131\n",
      "\n",
      "owners : ('MACKENZIE CHRISTOPHER C', 'LAUREN TRAFT')\n",
      "own_addr : 34 HALLIDAY ST, ROSLINDALE, MA 02131\n",
      "\n",
      "92/10 positive, 114/10 negative\n",
      "Do these records refer to the same thing?\n",
      "(y)es / (n)o / (u)nsure / (f)inished / (p)revious\n"
     ]
    },
    {
     "name": "stdout",
     "output_type": "stream",
     "text": [
      "n\n"
     ]
    },
    {
     "name": "stderr",
     "output_type": "stream",
     "text": [
      "owners : ('CAMBRIDGE COMMUNITY HOUSING, INC.', 'WINN COMPANIES')\n",
      "own_addr : 6 FANEUIL HALL MARKETPLACE, BOSTON, MA 02109\n",
      "\n",
      "owners : ('SECRETARY OF HOUSING', 'WINN RESIDENTIAL-G GRAZI')\n",
      "own_addr : 6 FANEUIL HALL MARKETPLACE, BOSTON, MA 02109\n",
      "\n",
      "92/10 positive, 115/10 negative\n",
      "Do these records refer to the same thing?\n",
      "(y)es / (n)o / (u)nsure / (f)inished / (p)revious\n"
     ]
    },
    {
     "name": "stdout",
     "output_type": "stream",
     "text": [
      "y\n"
     ]
    },
    {
     "name": "stderr",
     "output_type": "stream",
     "text": [
      "owners : ('MAHER F DAVID TRUSTEE', '48-50 GORHAM STREET REALTY TRUST')\n",
      "own_addr : 966 BROADWAY, SOMERVILLE, MA, 02144\n",
      "\n",
      "owners : ('TRUST SIX EVERGREEN', 'MAHER CATHERINE TRSTE')\n",
      "own_addr : 966 BROADWAY, SOMERVILLE, MA, 02144\n",
      "\n",
      "93/10 positive, 115/10 negative\n",
      "Do these records refer to the same thing?\n",
      "(y)es / (n)o / (u)nsure / (f)inished / (p)revious\n"
     ]
    },
    {
     "name": "stdout",
     "output_type": "stream",
     "text": [
      "y\n"
     ]
    },
    {
     "name": "stderr",
     "output_type": "stream",
     "text": [
      "owners : ('SLEE JULIA R &', 'GRIERSON ELIZABETH A')\n",
      "own_addr : 360 HIGHLAND AVE, SOMERVILLE, MA, 02144\n",
      "\n",
      "owners : ('SCULLY WILLIAM J & DENEEN L',)\n",
      "own_addr : 303 HIGHLAND AVE #2, SOMERVILLE, MA, 02144\n",
      "\n",
      "94/10 positive, 115/10 negative\n",
      "Do these records refer to the same thing?\n",
      "(y)es / (n)o / (u)nsure / (f)inished / (p)revious\n"
     ]
    },
    {
     "name": "stdout",
     "output_type": "stream",
     "text": [
      "n\n"
     ]
    },
    {
     "name": "stderr",
     "output_type": "stream",
     "text": [
      "owners : ('CAMBRIDGE COMMUNITY HOUSING', 'WINN COMPANIES')\n",
      "own_addr : 6 FANEUIL HALL MARKETPLACE, BOSTON, MA 02109\n",
      "\n",
      "owners : ('PERRYMAN JUANITA',)\n",
      "own_addr : 18-20 VERA ST, DORCHESTER, MA 02124\n",
      "\n",
      "94/10 positive, 116/10 negative\n",
      "Do these records refer to the same thing?\n",
      "(y)es / (n)o / (u)nsure / (f)inished / (p)revious\n"
     ]
    },
    {
     "name": "stdout",
     "output_type": "stream",
     "text": [
      "n\n"
     ]
    },
    {
     "name": "stderr",
     "output_type": "stream",
     "text": [
      "owners : ('BOYLSTON I HOLDING LLC', 'FINEBEREG PROPERTY MGT I')\n",
      "own_addr : 1 WASHINGTON ST SUITE #400, WELLESLEY, MA 02481\n",
      "\n",
      "owners : ('COMMONWEALTH RESIDENCE LLC', 'FINEBERG MANAGEMENT INC')\n",
      "own_addr : 1 WASHINGTON ST SUITE #400, WELLESLEY, MA 02481\n",
      "\n",
      "94/10 positive, 117/10 negative\n",
      "Do these records refer to the same thing?\n",
      "(y)es / (n)o / (u)nsure / (f)inished / (p)revious\n"
     ]
    },
    {
     "name": "stdout",
     "output_type": "stream",
     "text": [
      "y\n"
     ]
    },
    {
     "name": "stderr",
     "output_type": "stream",
     "text": [
      "owners : ('LE PETER',)\n",
      "own_addr : 212 MARINA DRIVE UNIT 16, QUINCY, MA 02170\n",
      "\n",
      "owners : ('PL PROPERTIES III LLC',)\n",
      "own_addr : 212 MARINA DRIVE UNIT 16, QUINCY, MA 02170\n",
      "\n",
      "95/10 positive, 117/10 negative\n",
      "Do these records refer to the same thing?\n",
      "(y)es / (n)o / (u)nsure / (f)inished / (p)revious\n"
     ]
    },
    {
     "name": "stdout",
     "output_type": "stream",
     "text": [
      "y\n"
     ]
    },
    {
     "name": "stderr",
     "output_type": "stream",
     "text": [
      "owners : ('BUENROSTRO ROGELIO',)\n",
      "own_addr : 294 CHELSEA ST, EAST BOSTON, MA 02128\n",
      "\n",
      "owners : ('BEDOYA LUISA',)\n",
      "own_addr : 277 CHELSEA ST, EAST BOSTON, MA 02128\n",
      "\n",
      "96/10 positive, 117/10 negative\n",
      "Do these records refer to the same thing?\n",
      "(y)es / (n)o / (u)nsure / (f)inished / (p)revious\n"
     ]
    },
    {
     "name": "stdout",
     "output_type": "stream",
     "text": [
      "n\n"
     ]
    },
    {
     "name": "stderr",
     "output_type": "stream",
     "text": [
      "owners : ('GRUMAN HARRIS L', 'MINGHELLI GIULIANA')\n",
      "own_addr : 242 SUMMER ST, SOMERVILLE, MA, 02143\n",
      "\n",
      "owners : ('LANTAGNE DANIELE S & BROWN JEREMY H',)\n",
      "own_addr : 234 SUMMER ST, SOMERVILLE, MA, 02143\n",
      "\n",
      "96/10 positive, 118/10 negative\n",
      "Do these records refer to the same thing?\n",
      "(y)es / (n)o / (u)nsure / (f)inished / (p)revious\n"
     ]
    },
    {
     "name": "stdout",
     "output_type": "stream",
     "text": [
      "n\n"
     ]
    },
    {
     "name": "stderr",
     "output_type": "stream",
     "text": [
      "owners : ('HENRICHS URSULA FOR LIFE', 'HENRICHS HELEN & HENRICHS MARKUS')\n",
      "own_addr : 41 UPLAND RD, SOMERVILLE, MA, 02144\n",
      "\n",
      "owners : ('BAKUN, ANN H. & ADAM A. BAKUN, TRUSTEES', 'THE ANN H. BAKUN 2014 REV TRUST')\n",
      "own_addr : 41 SHEA RD., CAMBRIDGE, MA 02140\n",
      "\n",
      "96/10 positive, 119/10 negative\n",
      "Do these records refer to the same thing?\n",
      "(y)es / (n)o / (u)nsure / (f)inished / (p)revious\n"
     ]
    },
    {
     "name": "stdout",
     "output_type": "stream",
     "text": [
      "n\n"
     ]
    },
    {
     "name": "stderr",
     "output_type": "stream",
     "text": [
      "owners : ('LEMOS FRANCISCO A & MARIA',)\n",
      "own_addr : 93 GLENWOOD RD, SOMERVILLE, MA, 02145\n",
      "\n",
      "owners : ('MCGOWAN JEAN M',)\n",
      "own_addr : 93 GLENROSE AV, BRAINTREE, MA 02184\n",
      "\n",
      "96/10 positive, 120/10 negative\n",
      "Do these records refer to the same thing?\n",
      "(y)es / (n)o / (u)nsure / (f)inished / (p)revious\n"
     ]
    },
    {
     "name": "stdout",
     "output_type": "stream",
     "text": [
      "n\n"
     ]
    },
    {
     "name": "stderr",
     "output_type": "stream",
     "text": [
      "owners : ('MITCHELL RICHARD',)\n",
      "own_addr : 418 BOWDOIN ST, DORCHESTER, MA 02122\n",
      "\n",
      "owners : ('LIRIANO RICHARD', 'RICHARD F LIRIANO')\n",
      "own_addr : PO BOX 240841, DORCHESTER, MA 02124\n",
      "\n",
      "96/10 positive, 121/10 negative\n",
      "Do these records refer to the same thing?\n",
      "(y)es / (n)o / (u)nsure / (f)inished / (p)revious\n"
     ]
    },
    {
     "name": "stdout",
     "output_type": "stream",
     "text": [
      "n\n"
     ]
    },
    {
     "name": "stderr",
     "output_type": "stream",
     "text": [
      "owners : ('WEADICK ROBERT D JR',)\n",
      "own_addr : 333 HAVERHILL ST, NORTH READING, MA 01864\n",
      "\n",
      "owners : ('DYKSTRA, SARAH G.',)\n",
      "own_addr : 333 HARVARD ST., #B, CAMBRIDGE, MA 02139\n",
      "\n",
      "96/10 positive, 122/10 negative\n",
      "Do these records refer to the same thing?\n",
      "(y)es / (n)o / (u)nsure / (f)inished / (p)revious\n"
     ]
    },
    {
     "name": "stdout",
     "output_type": "stream",
     "text": [
      "n\n"
     ]
    },
    {
     "name": "stderr",
     "output_type": "stream",
     "text": [
      "owners : ('MOHAMOUD MOHAMOUD Y',)\n",
      "own_addr : 241 COLUMBIA RD, DORCHESTER, MA 02121\n",
      "\n",
      "owners : ('SPRING THOMAS',)\n",
      "own_addr : 241 COTTAGE RD, WEST ROXBURY, MA 02132\n",
      "\n",
      "96/10 positive, 123/10 negative\n",
      "Do these records refer to the same thing?\n",
      "(y)es / (n)o / (u)nsure / (f)inished / (p)revious\n"
     ]
    },
    {
     "name": "stdout",
     "output_type": "stream",
     "text": [
      "n\n"
     ]
    },
    {
     "name": "stderr",
     "output_type": "stream",
     "text": [
      "owners : ('PALICA ANN C TS',)\n",
      "own_addr : 1200 SOLDIERS FIELD RD STE 1, BOSTON, MA 02134\n",
      "\n",
      "owners : ('SEVENTY FOUR-86 BRAINERD RD', 'THE MOUNT VERNON COMPANY')\n",
      "own_addr : 1200 SOLDIERS FIELD RD STE 1, BOSTON, MA 02134\n",
      "\n",
      "96/10 positive, 124/10 negative\n",
      "Do these records refer to the same thing?\n",
      "(y)es / (n)o / (u)nsure / (f)inished / (p)revious\n"
     ]
    },
    {
     "name": "stdout",
     "output_type": "stream",
     "text": [
      "y\n"
     ]
    },
    {
     "name": "stderr",
     "output_type": "stream",
     "text": [
      "owners : ('THOMAS DAVID L JR', 'CHARLESGATE PROP MGT LLC')\n",
      "own_addr : 867 BOYLSTON ST 3RD FL, BOSTON, MA 02116\n",
      "\n",
      "owners : ('KASDON MURIEL C TS', 'CHARLESGATE PROPERTY MAN')\n",
      "own_addr : 867 BOYLSTON ST 3RD FL, BOSTON, MA 02116\n",
      "\n",
      "97/10 positive, 124/10 negative\n",
      "Do these records refer to the same thing?\n",
      "(y)es / (n)o / (u)nsure / (f)inished / (p)revious\n"
     ]
    },
    {
     "name": "stdout",
     "output_type": "stream",
     "text": [
      "y\n"
     ]
    },
    {
     "name": "stderr",
     "output_type": "stream",
     "text": [
      "owners : ('NORA LLC', 'ALPHA MANAGEMENT CORP')\n",
      "own_addr : 1249 BEACON ST STE 1, BROOKLINE, MA 02446\n",
      "\n",
      "owners : ('HEIAM CORP', 'ALPHA MANAGEMENT CORP ')\n",
      "own_addr : 1249 BEACON ST STE 1, BROOKLINE, MA 02446\n",
      "\n",
      "98/10 positive, 124/10 negative\n",
      "Do these records refer to the same thing?\n",
      "(y)es / (n)o / (u)nsure / (f)inished / (p)revious\n"
     ]
    },
    {
     "name": "stdout",
     "output_type": "stream",
     "text": [
      "y\n"
     ]
    },
    {
     "name": "stderr",
     "output_type": "stream",
     "text": [
      "owners : ('KESHAVJEE, SALMAAN & MERCEDES BECERRA',)\n",
      "own_addr : 30 ESSEX ST, CAMBRIDGE, MA 02139\n",
      "\n",
      "owners : ('TOPWATER LLC',)\n",
      "own_addr : 30 EASTBROOK ROAD, DEDHAM, MA 02026\n",
      "\n",
      "99/10 positive, 124/10 negative\n",
      "Do these records refer to the same thing?\n",
      "(y)es / (n)o / (u)nsure / (f)inished / (p)revious\n"
     ]
    },
    {
     "name": "stdout",
     "output_type": "stream",
     "text": [
      "n\n"
     ]
    },
    {
     "name": "stderr",
     "output_type": "stream",
     "text": [
      "owners : ('HYDE DAVID M', 'KENDIZOR JOHN M')\n",
      "own_addr : 53 ALBION ST  #2, SOMERVILLE, MA, 02143\n",
      "\n",
      "owners : ('GAY WANDA',)\n",
      "own_addr : 53 ASHEVILLE ST  , HYDE PARK MA,  02136\n",
      "\n",
      "99/10 positive, 125/10 negative\n",
      "Do these records refer to the same thing?\n",
      "(y)es / (n)o / (u)nsure / (f)inished / (p)revious\n"
     ]
    },
    {
     "name": "stdout",
     "output_type": "stream",
     "text": [
      "n\n"
     ]
    },
    {
     "name": "stderr",
     "output_type": "stream",
     "text": [
      "owners : ('WONG ALBERT Y',)\n",
      "own_addr : 1731 BEACON ST, BROOKLINE, MA 02445\n",
      "\n",
      "owners : (' RAMON REALTY LLC',)\n",
      "own_addr : 1382 BEACON ST, BROOKLINE, MA 02446\n",
      "\n",
      "99/10 positive, 126/10 negative\n",
      "Do these records refer to the same thing?\n",
      "(y)es / (n)o / (u)nsure / (f)inished / (p)revious\n"
     ]
    },
    {
     "name": "stdout",
     "output_type": "stream",
     "text": [
      "n\n"
     ]
    },
    {
     "name": "stderr",
     "output_type": "stream",
     "text": [
      "owners : ('HARRIET J LAZARUS',)\n",
      "own_addr : 53 ST PAUL ST #2, BROOKLINE, MA 02446\n",
      "\n",
      "owners : ('ETHAN A ZORFAS',)\n",
      "own_addr : 59 ST PAUL ST #25, BROOKLINE, MA 02446\n",
      "\n",
      "99/10 positive, 127/10 negative\n",
      "Do these records refer to the same thing?\n",
      "(y)es / (n)o / (u)nsure / (f)inished / (p)revious\n"
     ]
    },
    {
     "name": "stdout",
     "output_type": "stream",
     "text": [
      "n\n"
     ]
    },
    {
     "name": "stderr",
     "output_type": "stream",
     "text": [
      "owners : ('ANDERSON CHRISTOPHER',)\n",
      "own_addr : 290 HIGHLAND ST, ROXBURY, MA 02119\n",
      "\n",
      "owners : ('ANDERSON JAMES E',)\n",
      "own_addr : PO BOX 190724, ROXBURY, MA 02119\n",
      "\n",
      "99/10 positive, 128/10 negative\n",
      "Do these records refer to the same thing?\n",
      "(y)es / (n)o / (u)nsure / (f)inished / (p)revious\n"
     ]
    },
    {
     "name": "stdout",
     "output_type": "stream",
     "text": [
      "n\n"
     ]
    },
    {
     "name": "stderr",
     "output_type": "stream",
     "text": [
      "owners : ('CHIU MICHAEL & YENNY',)\n",
      "own_addr : P.O. BOX 8692, BOSTON, MA 02114\n",
      "\n",
      "owners : ('PAULA WOOD-DYER TR',)\n",
      "own_addr : P.O. BOX 800247, AVENTURA, FL 33280\n",
      "\n",
      "99/10 positive, 129/10 negative\n",
      "Do these records refer to the same thing?\n",
      "(y)es / (n)o / (u)nsure / (f)inished / (p)revious\n"
     ]
    },
    {
     "name": "stdout",
     "output_type": "stream",
     "text": [
      "n\n"
     ]
    },
    {
     "name": "stderr",
     "output_type": "stream",
     "text": [
      "owners : ('SUMPTER REGGIE',)\n",
      "own_addr : 61 FLOYD ST, DORCHESTER, MA 02124\n",
      "\n",
      "owners : ('WILLIAMS NORIEL',)\n",
      "own_addr : 61 FREMONT ST, MATTAPAN, MA 02126\n",
      "\n",
      "99/10 positive, 130/10 negative\n",
      "Do these records refer to the same thing?\n",
      "(y)es / (n)o / (u)nsure / (f)inished / (p)revious\n"
     ]
    },
    {
     "name": "stdout",
     "output_type": "stream",
     "text": [
      "n\n"
     ]
    },
    {
     "name": "stderr",
     "output_type": "stream",
     "text": [
      "owners : ('ROIFF PAUL', 'HEATH PROPERTIES')\n",
      "own_addr : 74 CLARENDON ST SUITE A, BOSTON, MA 02116\n",
      "\n",
      "owners : ('FREEMAN JOSHUA TS', 'JOSHUA FREEMAN TS')\n",
      "own_addr : 74 CLARENDON ST SUITE A, BOSTON, MA 02116\n",
      "\n",
      "99/10 positive, 131/10 negative\n",
      "Do these records refer to the same thing?\n",
      "(y)es / (n)o / (u)nsure / (f)inished / (p)revious\n"
     ]
    },
    {
     "name": "stdout",
     "output_type": "stream",
     "text": [
      "y\n"
     ]
    },
    {
     "name": "stderr",
     "output_type": "stream",
     "text": [
      "owners : ('DAVID G SHAW REVOCABLE', 'DAVID G SHAW')\n",
      "own_addr : 85 E INDIA ROW UNIT 19G, BOSTON, MA 02110\n",
      "\n",
      "owners : ('KATSMAN ROZA B',)\n",
      "own_addr : 85 E INDIA RO UNIT 26G , BOSTON, MA 02110\n",
      "\n",
      "100/10 positive, 131/10 negative\n",
      "Do these records refer to the same thing?\n",
      "(y)es / (n)o / (u)nsure / (f)inished / (p)revious\n"
     ]
    },
    {
     "name": "stdout",
     "output_type": "stream",
     "text": [
      "n\n"
     ]
    },
    {
     "name": "stderr",
     "output_type": "stream",
     "text": [
      "owners : ('IDIOKITAS MICHEL N',)\n",
      "own_addr : 22 HOWLAND, DORCHESTER, MA 02121\n",
      "\n",
      "owners : ('GRAVES MARY',)\n",
      "own_addr : 110 HOWLAND ST, DORCHESTER, MA 02121\n",
      "\n",
      "100/10 positive, 132/10 negative\n",
      "Do these records refer to the same thing?\n",
      "(y)es / (n)o / (u)nsure / (f)inished / (p)revious\n"
     ]
    },
    {
     "name": "stdout",
     "output_type": "stream",
     "text": [
      "n\n"
     ]
    },
    {
     "name": "stderr",
     "output_type": "stream",
     "text": [
      "owners : ('BLANCO, ANALIA', 'CHANNING REAL ESTATE')\n",
      "own_addr : 1776 MASSACHUSETTS AVE., #10, CAMBRIDGE, MA 02140\n",
      "\n",
      "owners : ('RELATED LOVEJOY RESIDENTIAL', 'RELATED BEAL LLC')\n",
      "own_addr : 177 MILK STREET, BOSTON, MA 02109\n",
      "\n",
      "100/10 positive, 133/10 negative\n",
      "Do these records refer to the same thing?\n",
      "(y)es / (n)o / (u)nsure / (f)inished / (p)revious\n"
     ]
    },
    {
     "name": "stdout",
     "output_type": "stream",
     "text": [
      "n\n"
     ]
    },
    {
     "name": "stderr",
     "output_type": "stream",
     "text": [
      "owners : ('GOODWIN, ROBERT F.', '& BONNIE J. GOODWIN')\n",
      "own_addr : 12-14 LOCUST ST., #14, CAMBRIDGE, MA 02138\n",
      "\n",
      "owners : ('MOORE ELLEN',)\n",
      "own_addr : 12 WORTHINGTON ST, ROXBURY, MA 02120\n",
      "\n",
      "100/10 positive, 134/10 negative\n",
      "Do these records refer to the same thing?\n",
      "(y)es / (n)o / (u)nsure / (f)inished / (p)revious\n"
     ]
    },
    {
     "name": "stdout",
     "output_type": "stream",
     "text": [
      "p\n"
     ]
    },
    {
     "name": "stderr",
     "output_type": "stream",
     "text": [
      "owners : ('BLANCO, ANALIA', 'CHANNING REAL ESTATE')\n",
      "own_addr : 1776 MASSACHUSETTS AVE., #10, CAMBRIDGE, MA 02140\n",
      "\n",
      "owners : ('RELATED LOVEJOY RESIDENTIAL', 'RELATED BEAL LLC')\n",
      "own_addr : 177 MILK STREET, BOSTON, MA 02109\n",
      "\n",
      "100/10 positive, 133/10 negative\n",
      "Do these records refer to the same thing?\n",
      "(y)es / (n)o / (u)nsure / (f)inished\n"
     ]
    },
    {
     "name": "stdout",
     "output_type": "stream",
     "text": [
      "n\n"
     ]
    },
    {
     "name": "stderr",
     "output_type": "stream",
     "text": [
      "owners : ('GOODWIN, ROBERT F.', '& BONNIE J. GOODWIN')\n",
      "own_addr : 12-14 LOCUST ST., #14, CAMBRIDGE, MA 02138\n",
      "\n",
      "owners : ('MOORE ELLEN',)\n",
      "own_addr : 12 WORTHINGTON ST, ROXBURY, MA 02120\n",
      "\n",
      "100/10 positive, 134/10 negative\n",
      "Do these records refer to the same thing?\n",
      "(y)es / (n)o / (u)nsure / (f)inished / (p)revious\n"
     ]
    },
    {
     "name": "stdout",
     "output_type": "stream",
     "text": [
      "n\n"
     ]
    },
    {
     "name": "stderr",
     "output_type": "stream",
     "text": [
      "owners : ('RLTY INVESTORS INCORPORATED', 'REALTY INVESTORS INC')\n",
      "own_addr : 9 VERNON ST, NAHANT, MA 01908\n",
      "\n",
      "owners : ('GROGAN MARY ELLEN',)\n",
      "own_addr : 9 JOY ST #2, BOSTON, MA 02114\n",
      "\n",
      "100/10 positive, 135/10 negative\n",
      "Do these records refer to the same thing?\n",
      "(y)es / (n)o / (u)nsure / (f)inished / (p)revious\n"
     ]
    },
    {
     "name": "stdout",
     "output_type": "stream",
     "text": [
      "p\n"
     ]
    },
    {
     "name": "stderr",
     "output_type": "stream",
     "text": [
      "owners : ('GOODWIN, ROBERT F.', '& BONNIE J. GOODWIN')\n",
      "own_addr : 12-14 LOCUST ST., #14, CAMBRIDGE, MA 02138\n",
      "\n",
      "owners : ('MOORE ELLEN',)\n",
      "own_addr : 12 WORTHINGTON ST, ROXBURY, MA 02120\n",
      "\n",
      "100/10 positive, 134/10 negative\n",
      "Do these records refer to the same thing?\n",
      "(y)es / (n)o / (u)nsure / (f)inished\n"
     ]
    },
    {
     "name": "stdout",
     "output_type": "stream",
     "text": [
      "n\n"
     ]
    },
    {
     "name": "stderr",
     "output_type": "stream",
     "text": [
      "owners : ('RLTY INVESTORS INCORPORATED', 'REALTY INVESTORS INC')\n",
      "own_addr : 9 VERNON ST, NAHANT, MA 01908\n",
      "\n",
      "owners : ('GROGAN MARY ELLEN',)\n",
      "own_addr : 9 JOY ST #2, BOSTON, MA 02114\n",
      "\n",
      "100/10 positive, 135/10 negative\n",
      "Do these records refer to the same thing?\n",
      "(y)es / (n)o / (u)nsure / (f)inished / (p)revious\n"
     ]
    },
    {
     "name": "stdout",
     "output_type": "stream",
     "text": [
      "n\n"
     ]
    },
    {
     "name": "stderr",
     "output_type": "stream",
     "text": [
      "owners : ('WOLFE, MATTHEW R. &', 'DAWN MINER WOLFE')\n",
      "own_addr : 1531 CAMBRIDGE ST, CAMBRIDGE, MA 02139\n",
      "\n",
      "owners : ('POSNER, MIRIAM K.',)\n",
      "own_addr : 1257 CAMBRIDGE ST., #2, CAMBRIDGE, MA 02139\n",
      "\n",
      "100/10 positive, 136/10 negative\n",
      "Do these records refer to the same thing?\n",
      "(y)es / (n)o / (u)nsure / (f)inished / (p)revious\n"
     ]
    },
    {
     "name": "stdout",
     "output_type": "stream",
     "text": [
      "n\n"
     ]
    },
    {
     "name": "stderr",
     "output_type": "stream",
     "text": [
      "owners : ('YOUNG NANCY A',)\n",
      "own_addr : 22 DORSET ST, DORCHESTER, MA 02125\n",
      "\n",
      "owners : ('PETRILLO ERICA',)\n",
      "own_addr : 6 DORSET ST #3, DORCHESTER, MA 02125\n",
      "\n",
      "100/10 positive, 137/10 negative\n",
      "Do these records refer to the same thing?\n",
      "(y)es / (n)o / (u)nsure / (f)inished / (p)revious\n"
     ]
    },
    {
     "name": "stdout",
     "output_type": "stream",
     "text": [
      "n\n"
     ]
    },
    {
     "name": "stderr",
     "output_type": "stream",
     "text": [
      "owners : ('CHIU MICHAEL & YENNY',)\n",
      "own_addr : P.O. BOX 8692, BOSTON, MA 02114\n",
      "\n",
      "owners : ('ASHFORD RONALD',)\n",
      "own_addr : 6 WHITTIER PL #9M, BOSTON, MA 02114\n",
      "\n",
      "100/10 positive, 138/10 negative\n",
      "Do these records refer to the same thing?\n",
      "(y)es / (n)o / (u)nsure / (f)inished / (p)revious\n"
     ]
    },
    {
     "name": "stdout",
     "output_type": "stream",
     "text": [
      "n\n"
     ]
    },
    {
     "name": "stderr",
     "output_type": "stream",
     "text": [
      "owners : ('SHAH PARAG',)\n",
      "own_addr : 8 WHITTIER PL #16 J & K, BOSTON, MA 02114\n",
      "\n",
      "owners : ('FORD EDWARD J LT',)\n",
      "own_addr : 8 WHITTIER PL #22D-8, BOSTON, MA 02114\n",
      "\n",
      "100/10 positive, 139/10 negative\n",
      "Do these records refer to the same thing?\n",
      "(y)es / (n)o / (u)nsure / (f)inished / (p)revious\n"
     ]
    },
    {
     "name": "stdout",
     "output_type": "stream",
     "text": [
      "n\n"
     ]
    },
    {
     "name": "stderr",
     "output_type": "stream",
     "text": [
      "owners : ('BUNNELL BRUCE W', 'BRUCE BUNNELL')\n",
      "own_addr : 44 ELIOT ST, JAMAICA PLAIN, MA 02130\n",
      "\n",
      "owners : ('BYRNE CHRISTINE E', 'CHRISTINE BYRNE')\n",
      "own_addr : 5 ELIOT ST, JAMAICA PLAIN, MA 02130\n",
      "\n",
      "100/10 positive, 140/10 negative\n",
      "Do these records refer to the same thing?\n",
      "(y)es / (n)o / (u)nsure / (f)inished / (p)revious\n"
     ]
    },
    {
     "name": "stdout",
     "output_type": "stream",
     "text": [
      "n\n"
     ]
    },
    {
     "name": "stderr",
     "output_type": "stream",
     "text": [
      "owners : ('MARTIN FRANK & ANN MARIE',)\n",
      "own_addr : 50 FELLSWAY WEST, SOMERVILLE, MA, 02145\n",
      "\n",
      "owners : ('AVV GROUP LLC',)\n",
      "own_addr : 50 WATER ST  U23, MEDFORD, MA 02155\n",
      "\n",
      "100/10 positive, 141/10 negative\n",
      "Do these records refer to the same thing?\n",
      "(y)es / (n)o / (u)nsure / (f)inished / (p)revious\n"
     ]
    },
    {
     "name": "stdout",
     "output_type": "stream",
     "text": [
      "n\n"
     ]
    },
    {
     "name": "stderr",
     "output_type": "stream",
     "text": [
      "owners : ('MCPHEE JOHN E',)\n",
      "own_addr : 42 BIRCHCROFT RD, CANTON, MA 02021\n",
      "\n",
      "owners : ('VICKI A RIEDER',)\n",
      "own_addr : 42 JAMAICA RD #1, BROOKLINE, MA 02445\n",
      "\n",
      "100/10 positive, 142/10 negative\n",
      "Do these records refer to the same thing?\n",
      "(y)es / (n)o / (u)nsure / (f)inished / (p)revious\n"
     ]
    },
    {
     "name": "stdout",
     "output_type": "stream",
     "text": [
      "n\n"
     ]
    },
    {
     "name": "stderr",
     "output_type": "stream",
     "text": [
      "owners : ('ROSMAN BRIAN P',)\n",
      "own_addr : 10 MAPLE TE, WEST ROXBURY, MA 02132\n",
      "\n",
      "owners : ('THIBEAULT FRANCIS C JR', 'FRANCIS C. THIBEAULT JR')\n",
      "own_addr : 131 MAPLE ST, WEST ROXBURY, MA 02132\n",
      "\n",
      "100/10 positive, 143/10 negative\n",
      "Do these records refer to the same thing?\n",
      "(y)es / (n)o / (u)nsure / (f)inished / (p)revious\n"
     ]
    },
    {
     "name": "stdout",
     "output_type": "stream",
     "text": [
      "n\n"
     ]
    },
    {
     "name": "stderr",
     "output_type": "stream",
     "text": [
      "owners : ('JTD REALTY TRUST',)\n",
      "own_addr : 113 SHERIDAN AVE, MEDFORD, MA 02155\n",
      "\n",
      "owners : ('DIAMOND JODY',)\n",
      "own_addr : 49-51 SHERIDAN AVE, MEDFORD, MA 02155\n",
      "\n",
      "100/10 positive, 144/10 negative\n",
      "Do these records refer to the same thing?\n",
      "(y)es / (n)o / (u)nsure / (f)inished / (p)revious\n"
     ]
    },
    {
     "name": "stdout",
     "output_type": "stream",
     "text": [
      "n\n"
     ]
    },
    {
     "name": "stderr",
     "output_type": "stream",
     "text": [
      "owners : ('KOVNER JANET',)\n",
      "own_addr : 27 HAROLD ST, MEDFORD, MA 02155\n",
      "\n",
      "owners : ('HOANG KHANH QUOC',)\n",
      "own_addr : 27 ROSELAND ST, DORCHESTER, MA 02124\n",
      "\n",
      "100/10 positive, 145/10 negative\n",
      "Do these records refer to the same thing?\n",
      "(y)es / (n)o / (u)nsure / (f)inished / (p)revious\n"
     ]
    },
    {
     "name": "stdout",
     "output_type": "stream",
     "text": [
      "n\n"
     ]
    },
    {
     "name": "stderr",
     "output_type": "stream",
     "text": [
      "owners : ('WUSCHKE GEORGE W',)\n",
      "own_addr : 15 CLEMATIS ST, DORCHESTER, MA 02122\n",
      "\n",
      "owners : ('SAWICKA HALINA',)\n",
      "own_addr : 15 CARLOTTA ST, DORCHESTER, MA 02122\n",
      "\n",
      "100/10 positive, 146/10 negative\n",
      "Do these records refer to the same thing?\n",
      "(y)es / (n)o / (u)nsure / (f)inished / (p)revious\n"
     ]
    },
    {
     "name": "stdout",
     "output_type": "stream",
     "text": [
      "n\n"
     ]
    },
    {
     "name": "stderr",
     "output_type": "stream",
     "text": [
      "owners : ('KELLYS REALTY TRUST',)\n",
      "own_addr : PO BOX 13, READING, MA 01867\n",
      "\n",
      "owners : ('FITZGERALD HUGH A TS',)\n",
      "own_addr : PO BOX 172 , LAPOINTE, WI 54850\n",
      "\n",
      "100/10 positive, 147/10 negative\n",
      "Do these records refer to the same thing?\n",
      "(y)es / (n)o / (u)nsure / (f)inished / (p)revious\n"
     ]
    },
    {
     "name": "stdout",
     "output_type": "stream",
     "text": [
      "n\n"
     ]
    },
    {
     "name": "stderr",
     "output_type": "stream",
     "text": [
      "owners : ('MCMATH JEFFREY P JR', 'JEFFREY P MCMATH JR')\n",
      "own_addr : 499-501 SUMNER ST #3, EAST BOSTON, MA 02128\n",
      "\n",
      "owners : ('BATISTA CATHERINE',)\n",
      "own_addr : 357 SUMNER ST #3, EAST BOSTON, MA 02128\n",
      "\n",
      "100/10 positive, 148/10 negative\n",
      "Do these records refer to the same thing?\n",
      "(y)es / (n)o / (u)nsure / (f)inished / (p)revious\n"
     ]
    },
    {
     "name": "stdout",
     "output_type": "stream",
     "text": [
      "n\n"
     ]
    },
    {
     "name": "stderr",
     "output_type": "stream",
     "text": [
      "owners : ('KARPMAN ALEXANDER', 'ALEXANDER KARPMAN TS ')\n",
      "own_addr : 218 LAKE SHORE RD #2, BRIGHTON, MA 02135\n",
      "\n",
      "owners : ('RODBORT TINA TS', 'TINA RODBORT')\n",
      "own_addr : 158 LAKE SHORE RD #2, BRIGHTON, MA 02135\n",
      "\n",
      "100/10 positive, 149/10 negative\n",
      "Do these records refer to the same thing?\n",
      "(y)es / (n)o / (u)nsure / (f)inished / (p)revious\n"
     ]
    },
    {
     "name": "stdout",
     "output_type": "stream",
     "text": [
      "n\n"
     ]
    },
    {
     "name": "stderr",
     "output_type": "stream",
     "text": [
      "owners : ('TRACEY PATRICK',)\n",
      "own_addr : 20 CLARKWOOD ST, MATTAPAN, MA 02126\n",
      "\n",
      "owners : ('COLLETTE STEVEN H ETAL', 'STEVEN COLLETTE ')\n",
      "own_addr : 20 MINOT ST, DORCHESTER, MA 02122\n",
      "\n",
      "100/10 positive, 150/10 negative\n",
      "Do these records refer to the same thing?\n",
      "(y)es / (n)o / (u)nsure / (f)inished / (p)revious\n"
     ]
    },
    {
     "name": "stdout",
     "output_type": "stream",
     "text": [
      "n\n"
     ]
    },
    {
     "name": "stderr",
     "output_type": "stream",
     "text": [
      "owners : ('ANDREWS BRIAN A',)\n",
      "own_addr : 31 CUSHING AV #31-2, DORCHESTER, MA 02125\n",
      "\n",
      "owners : ('KELESIDIS SAVA',)\n",
      "own_addr : 31 DANA AV, BOSTON, MA 02136\n",
      "\n",
      "100/10 positive, 151/10 negative\n",
      "Do these records refer to the same thing?\n",
      "(y)es / (n)o / (u)nsure / (f)inished / (p)revious\n"
     ]
    },
    {
     "name": "stdout",
     "output_type": "stream",
     "text": [
      "n\n"
     ]
    },
    {
     "name": "stderr",
     "output_type": "stream",
     "text": [
      "owners : ('SIX CLEVELAND PLACE LLC', 'OLIVIA SCIMECA')\n",
      "own_addr : 21 CLEVELAND PL #5, BOSTON, MA 02113\n",
      "\n",
      "owners : ('JIN LIAN PING', 'LIAN P JIN')\n",
      "own_addr : 21 CRANE ST, DEDHAM, MA 02026\n",
      "\n",
      "100/10 positive, 152/10 negative\n",
      "Do these records refer to the same thing?\n",
      "(y)es / (n)o / (u)nsure / (f)inished / (p)revious\n"
     ]
    },
    {
     "name": "stdout",
     "output_type": "stream",
     "text": [
      "n\n"
     ]
    },
    {
     "name": "stderr",
     "output_type": "stream",
     "text": [
      "owners : ('GARLICK MARTHA',)\n",
      "own_addr : 25 CURTIS ST #1, SOMERVILLE, MA, 02144\n",
      "\n",
      "owners : ('WHITE ROBERT F',)\n",
      "own_addr : 25 CHANNEL CENTER ST #1002, BOSTON, MA 02210\n",
      "\n",
      "100/10 positive, 153/10 negative\n",
      "Do these records refer to the same thing?\n",
      "(y)es / (n)o / (u)nsure / (f)inished / (p)revious\n"
     ]
    },
    {
     "name": "stdout",
     "output_type": "stream",
     "text": [
      "n\n"
     ]
    },
    {
     "name": "stderr",
     "output_type": "stream",
     "text": [
      "owners : ('HELAS MARIE L', 'MARIE HELAS')\n",
      "own_addr : 9 DEAN ST, DORCHESTER, MA 02125\n",
      "\n",
      "owners : ('PAULEY ELIZABETH A',)\n",
      "own_addr : 9 BAYSIDE ST #3, DORCHESTER, MA 02125\n",
      "\n",
      "100/10 positive, 154/10 negative\n",
      "Do these records refer to the same thing?\n",
      "(y)es / (n)o / (u)nsure / (f)inished / (p)revious\n"
     ]
    },
    {
     "name": "stdout",
     "output_type": "stream",
     "text": [
      "n\n"
     ]
    },
    {
     "name": "stderr",
     "output_type": "stream",
     "text": [
      "owners : ('KERIVAN ANDREW', 'TWO 70 HUNTINGTON AV ASS')\n",
      "own_addr : 270 HUNTINGTON AV #716, BOSTON, MA 02115\n",
      "\n",
      "owners : ('BUCKLEY DANIEL J', 'TWO 70 HUNTINGTON AV ASS')\n",
      "own_addr : 270 HUNTINGTON AV #716, BOSTON, MA 02115\n",
      "\n",
      "100/10 positive, 155/10 negative\n",
      "Do these records refer to the same thing?\n",
      "(y)es / (n)o / (u)nsure / (f)inished / (p)revious\n"
     ]
    },
    {
     "name": "stdout",
     "output_type": "stream",
     "text": [
      "y\n"
     ]
    },
    {
     "name": "stderr",
     "output_type": "stream",
     "text": [
      "owners : ('ALLSTON GROUP SERIES 3', 'ELAINE GOLDBERG')\n",
      "own_addr : 1284 COMMONWEALTH AVE #B, ALLSTON, MA 02134\n",
      "\n",
      "owners : ('GOLDBERG INVESTMENT GROUP', 'ELAINE GOLDBERG')\n",
      "own_addr : 1284 COMMONWEALTH AVE #B, ALLSTON, MA 02134\n",
      "\n",
      "101/10 positive, 155/10 negative\n",
      "Do these records refer to the same thing?\n",
      "(y)es / (n)o / (u)nsure / (f)inished / (p)revious\n"
     ]
    },
    {
     "name": "stdout",
     "output_type": "stream",
     "text": [
      "y\n"
     ]
    },
    {
     "name": "stderr",
     "output_type": "stream",
     "text": [
      "owners : ('MCAULIFFE,  JAMES F. & ROBIN S. GILBERT',)\n",
      "own_addr : 23 GURNEY ST., CAMBRIDGE, MA 02138\n",
      "\n",
      "owners : ('MOCHI, DAVID & DORENE CABRAL MOCHI',)\n",
      "own_addr : 243 HURLEY ST, CAMBRIDGE, MA 02141\n",
      "\n",
      "102/10 positive, 155/10 negative\n",
      "Do these records refer to the same thing?\n",
      "(y)es / (n)o / (u)nsure / (f)inished / (p)revious\n"
     ]
    },
    {
     "name": "stdout",
     "output_type": "stream",
     "text": [
      "n\n"
     ]
    },
    {
     "name": "stderr",
     "output_type": "stream",
     "text": [
      "owners : ('CASTALDI, PETER J. &', 'CAROLINA MARTINEZ-CASTALDI')\n",
      "own_addr : 90 CLAY ST, CAMBRIDGE, MA 02140\n",
      "\n",
      "owners : ('STAMOS, DANIEL & JANICE L. STAMOS',)\n",
      "own_addr : 122 CLAY ST, CAMBRIDGE, MA 02140\n",
      "\n",
      "102/10 positive, 156/10 negative\n",
      "Do these records refer to the same thing?\n",
      "(y)es / (n)o / (u)nsure / (f)inished / (p)revious\n"
     ]
    },
    {
     "name": "stdout",
     "output_type": "stream",
     "text": [
      "n\n"
     ]
    },
    {
     "name": "stderr",
     "output_type": "stream",
     "text": [
      "owners : ('SIMOLARI DORTHEA', 'DOROTHEA SIMOLARI-GROSS')\n",
      "own_addr : 61 TYNDALE ST #2, ROSLINDALE, MA 02131\n",
      "\n",
      "owners : ('RPZ RLTY LAND TRUST LLC TS', 'ROBERT ZOFFREO ')\n",
      "own_addr : PO BOX 35309, BOSTON, MA 02135\n",
      "\n",
      "102/10 positive, 157/10 negative\n",
      "Do these records refer to the same thing?\n",
      "(y)es / (n)o / (u)nsure / (f)inished / (p)revious\n"
     ]
    },
    {
     "name": "stdout",
     "output_type": "stream",
     "text": [
      "n\n"
     ]
    },
    {
     "name": "stderr",
     "output_type": "stream",
     "text": [
      "owners : ('AIME RIGAUBERT JR',)\n",
      "own_addr : 31 ELLISON AV , MATTAPAN, MA 02126\n",
      "\n",
      "owners : ('ALEXANDRE MARIE C',)\n",
      "own_addr : 31 WILLIAMS AVE, HYDE PARK, MA 02136\n",
      "\n",
      "102/10 positive, 158/10 negative\n",
      "Do these records refer to the same thing?\n",
      "(y)es / (n)o / (u)nsure / (f)inished / (p)revious\n"
     ]
    },
    {
     "name": "stdout",
     "output_type": "stream",
     "text": [
      "n\n"
     ]
    },
    {
     "name": "stderr",
     "output_type": "stream",
     "text": [
      "owners : ('ALAN B SHARAF, ET AL TRS', ' BOUCAI SOLOMON')\n",
      "own_addr : 303 COLUMBUS AVE #403, BOSTON, MA 02116\n",
      "\n",
      "owners : ('ALAN B SHARAF, ET AL TR', ' BOUCAI SOLOMON')\n",
      "own_addr : 303 COLUMBUS AVE #403, BOSTON, MA 02116\n",
      "\n",
      "102/10 positive, 159/10 negative\n",
      "Do these records refer to the same thing?\n",
      "(y)es / (n)o / (u)nsure / (f)inished / (p)revious\n"
     ]
    },
    {
     "name": "stdout",
     "output_type": "stream",
     "text": [
      "y\n"
     ]
    },
    {
     "name": "stderr",
     "output_type": "stream",
     "text": [
      "owners : ('YALCIN ILKER',)\n",
      "own_addr : 86 MARLBOROUGH ST #1, BOSTON, MA 02116\n",
      "\n",
      "owners : ('LEE YOUNG JIN',)\n",
      "own_addr : 294 MARLBOROUGH ST, BOSTON, MA 02116\n",
      "\n",
      "103/10 positive, 159/10 negative\n",
      "Do these records refer to the same thing?\n",
      "(y)es / (n)o / (u)nsure / (f)inished / (p)revious\n"
     ]
    },
    {
     "name": "stdout",
     "output_type": "stream",
     "text": [
      "n\n"
     ]
    },
    {
     "name": "stderr",
     "output_type": "stream",
     "text": [
      "owners : ('MCCARTHY LAWRENCE V',)\n",
      "own_addr : 135 GRAMPIAN WAY, DORCHESTER, MA 02125\n",
      "\n",
      "owners : ('BUTLER DAVID M',)\n",
      "own_addr : 61 GRAMPIAN WAY, DORCHESTER, MA 02125\n",
      "\n",
      "103/10 positive, 160/10 negative\n",
      "Do these records refer to the same thing?\n",
      "(y)es / (n)o / (u)nsure / (f)inished / (p)revious\n"
     ]
    },
    {
     "name": "stdout",
     "output_type": "stream",
     "text": [
      "n\n"
     ]
    },
    {
     "name": "stderr",
     "output_type": "stream",
     "text": [
      "owners : ('SORGI KALEY ELIZABETH',)\n",
      "own_addr : 110 BEVERLY ST #1120, BOSTON, MA 02114\n",
      "\n",
      "owners : ('PERCH DAVE',)\n",
      "own_addr : 110 BELNEL RD, HYDE PARK, MA 02136\n",
      "\n",
      "103/10 positive, 161/10 negative\n",
      "Do these records refer to the same thing?\n",
      "(y)es / (n)o / (u)nsure / (f)inished / (p)revious\n"
     ]
    },
    {
     "name": "stdout",
     "output_type": "stream",
     "text": [
      "n\n"
     ]
    },
    {
     "name": "stderr",
     "output_type": "stream",
     "text": [
      "owners : ('MARSHALL JOAN',)\n",
      "own_addr : 24 MINNESOTA AVE, SOMERVILLE, MA, 02145\n",
      "\n",
      "owners : ('SHOLKIN GEOFFREY D',)\n",
      "own_addr : 24 BRENTWOOD AVE, NEWTON, MA 02459\n",
      "\n",
      "103/10 positive, 162/10 negative\n",
      "Do these records refer to the same thing?\n",
      "(y)es / (n)o / (u)nsure / (f)inished / (p)revious\n"
     ]
    },
    {
     "name": "stdout",
     "output_type": "stream",
     "text": [
      "n\n"
     ]
    },
    {
     "name": "stderr",
     "output_type": "stream",
     "text": [
      "owners : ('PRESCOTT REALTY',)\n",
      "own_addr : P.O. BOX 45277, SOMERVILLE, MA, 02145\n",
      "\n",
      "owners : ('303 THIRD SPE LLC,', 'EQR-R.E. TAX DEPARTMENT')\n",
      "own_addr : P.O. BOX 87407 (19337), CHICAGO, IL 60680\n",
      "\n",
      "103/10 positive, 163/10 negative\n",
      "Do these records refer to the same thing?\n",
      "(y)es / (n)o / (u)nsure / (f)inished / (p)revious\n"
     ]
    },
    {
     "name": "stdout",
     "output_type": "stream",
     "text": [
      "n\n"
     ]
    },
    {
     "name": "stderr",
     "output_type": "stream",
     "text": [
      "owners : ('JAY STREET LLC',)\n",
      "own_addr : 92 PEARL ST, CAMBRIDGE, MA 02139\n",
      "\n",
      "owners : ('MCGUIRE, JEAN F., &  BARBARA LA HERBERT',)\n",
      "own_addr : 290 PEARL ST, CAMBRIDGE, MA 02139\n",
      "\n",
      "103/10 positive, 164/10 negative\n",
      "Do these records refer to the same thing?\n",
      "(y)es / (n)o / (u)nsure / (f)inished / (p)revious\n"
     ]
    },
    {
     "name": "stdout",
     "output_type": "stream",
     "text": [
      "n\n"
     ]
    },
    {
     "name": "stderr",
     "output_type": "stream",
     "text": [
      "owners : ('DEMBROSIO CAROLYN E', 'LAMB LAURA M')\n",
      "own_addr : MEDFORD, MA 02155\n",
      "\n",
      "owners : ('DEPAULIS PATRICIA M',)\n",
      "own_addr : 19 PARIS ST, MEDFORD, MA 02155\n",
      "\n",
      "103/10 positive, 165/10 negative\n",
      "Do these records refer to the same thing?\n",
      "(y)es / (n)o / (u)nsure / (f)inished / (p)revious\n"
     ]
    },
    {
     "name": "stdout",
     "output_type": "stream",
     "text": [
      "n\n"
     ]
    },
    {
     "name": "stderr",
     "output_type": "stream",
     "text": [
      "owners : ('GLORA EDWARD J',)\n",
      "own_addr : 723 E SEVENTH ST #1, SOUTH BOSTON, MA 02127\n",
      "\n",
      "owners : ('SMITH ALICE C T T',)\n",
      "own_addr : QUINCEFIELD PL, SOUTH BOSTON, MA 02127\n",
      "\n",
      "103/10 positive, 166/10 negative\n",
      "Do these records refer to the same thing?\n",
      "(y)es / (n)o / (u)nsure / (f)inished / (p)revious\n"
     ]
    },
    {
     "name": "stdout",
     "output_type": "stream",
     "text": [
      "n\n"
     ]
    },
    {
     "name": "stderr",
     "output_type": "stream",
     "text": [
      "owners : ('ZASLOFF LORI W & ZACHARY E',)\n",
      "own_addr : 12 MUNROE ST, SOMERVILLE, MA, 02143\n",
      "\n",
      "owners : ('WILLIAM A  WATERS', 'CHRISTOPHER MICHAEL MALONE')\n",
      "own_addr : 12 MARSHAL ST #3, BROOKLINE, MA 02446\n",
      "\n",
      "103/10 positive, 167/10 negative\n",
      "Do these records refer to the same thing?\n",
      "(y)es / (n)o / (u)nsure / (f)inished / (p)revious\n"
     ]
    },
    {
     "name": "stdout",
     "output_type": "stream",
     "text": [
      "n\n"
     ]
    },
    {
     "name": "stderr",
     "output_type": "stream",
     "text": [
      "owners : ('ABREU ISABEL',)\n",
      "own_addr : 88 WHEATLAND ST #7, SOMERVILLE, MA, 02145\n",
      "\n",
      "owners : ('OGRADY STEPHEN M',)\n",
      "own_addr : 88 MARTIN ST, WEST ROXBURY, MA 02132\n",
      "\n",
      "103/10 positive, 168/10 negative\n",
      "Do these records refer to the same thing?\n",
      "(y)es / (n)o / (u)nsure / (f)inished / (p)revious\n"
     ]
    },
    {
     "name": "stdout",
     "output_type": "stream",
     "text": [
      "n\n"
     ]
    },
    {
     "name": "stderr",
     "output_type": "stream",
     "text": [
      "owners : ('FENWAY APARTMENTS LLC', 'HALLKEEN MANAGEMENT')\n",
      "own_addr : 110 PETERBOROUGH ST, BOSTON, MA 02215\n",
      "\n",
      "owners : ('FENWAY APARTMENTS LLC', 'HALLKEEN MANAGEMENT')\n",
      "own_addr : 108 PETERBOROUGH ST, BOSTON, MA 02215\n",
      "\n",
      "103/10 positive, 169/10 negative\n",
      "Do these records refer to the same thing?\n",
      "(y)es / (n)o / (u)nsure / (f)inished / (p)revious\n"
     ]
    },
    {
     "name": "stdout",
     "output_type": "stream",
     "text": [
      "n\n"
     ]
    },
    {
     "name": "stderr",
     "output_type": "stream",
     "text": [
      "owners : ('MUGAR PETER S', 'PETER MUGAR')\n",
      "own_addr : 246 COMMONWEALTH AV #4, BOSTON, MA 02116\n",
      "\n",
      "owners : ('RICHBERG OHAD A',)\n",
      "own_addr : 386 COMMONWEALTH AV # 41, BOSTON, MA 02215\n",
      "\n",
      "103/10 positive, 170/10 negative\n",
      "Do these records refer to the same thing?\n",
      "(y)es / (n)o / (u)nsure / (f)inished / (p)revious\n"
     ]
    },
    {
     "name": "stdout",
     "output_type": "stream",
     "text": [
      "n\n"
     ]
    },
    {
     "name": "stderr",
     "output_type": "stream",
     "text": [
      "owners : ('DEMBROSIO CAROLYN E', 'LAMB LAURA M')\n",
      "own_addr : MEDFORD, MA 02155\n",
      "\n",
      "owners : ('LAMBERT ASTRID K',)\n",
      "own_addr : 91 GEORGE ST, MEDFORD, MA 02155\n",
      "\n",
      "103/10 positive, 171/10 negative\n",
      "Do these records refer to the same thing?\n",
      "(y)es / (n)o / (u)nsure / (f)inished / (p)revious\n"
     ]
    },
    {
     "name": "stdout",
     "output_type": "stream",
     "text": [
      "n\n"
     ]
    },
    {
     "name": "stderr",
     "output_type": "stream",
     "text": [
      "owners : ('CARRINGTON NORMA EDWINA',)\n",
      "own_addr : 83 HARVARD AVE, MEDFORD, MA 02155\n",
      "\n",
      "owners : ('ALEXANDER PAMELA W',)\n",
      "own_addr : 83 HOWLAND ST, DORCHESTER, MA 02121\n",
      "\n",
      "103/10 positive, 172/10 negative\n",
      "Do these records refer to the same thing?\n",
      "(y)es / (n)o / (u)nsure / (f)inished / (p)revious\n"
     ]
    },
    {
     "name": "stdout",
     "output_type": "stream",
     "text": [
      "n\n"
     ]
    },
    {
     "name": "stderr",
     "output_type": "stream",
     "text": [
      "owners : ('MARKETPLACE LOFTS LIMITED',)\n",
      "own_addr : 10 THACHER ST, BOSTON, MA 02113\n",
      "\n",
      "owners : ('GRIZZLE DAVID',)\n",
      "own_addr : 10 STOCKTON ST, DORCHESTER, MA 02124\n",
      "\n",
      "103/10 positive, 173/10 negative\n",
      "Do these records refer to the same thing?\n",
      "(y)es / (n)o / (u)nsure / (f)inished / (p)revious\n"
     ]
    },
    {
     "name": "stdout",
     "output_type": "stream",
     "text": [
      "n\n"
     ]
    },
    {
     "name": "stderr",
     "output_type": "stream",
     "text": [
      "owners : ('PANDB LLC',)\n",
      "own_addr : 235 W 56ST ST #18B, NEW YORK, NY 10019\n",
      "\n",
      "owners : ('NEIL BONNIE R',)\n",
      "own_addr : 24 WESTCOTT ST, DORCHESTER, MA 02124\n",
      "\n",
      "103/10 positive, 174/10 negative\n",
      "Do these records refer to the same thing?\n",
      "(y)es / (n)o / (u)nsure / (f)inished / (p)revious\n"
     ]
    },
    {
     "name": "stdout",
     "output_type": "stream",
     "text": [
      "n\n"
     ]
    },
    {
     "name": "stderr",
     "output_type": "stream",
     "text": [
      "owners : ('SUTHERLAND, ANDREW V. &', 'AMY M. SUTHERLAND')\n",
      "own_addr : 62 FAYERWEATHER ST, CAMBRIDGE, MA 02138\n",
      "\n",
      "owners : ('PARK CHARLES',)\n",
      "own_addr : 62 CORNWALL ST #H, JAMAICA PLAIN, MA 02130\n",
      "\n",
      "103/10 positive, 175/10 negative\n",
      "Do these records refer to the same thing?\n",
      "(y)es / (n)o / (u)nsure / (f)inished / (p)revious\n"
     ]
    },
    {
     "name": "stdout",
     "output_type": "stream",
     "text": [
      "n\n"
     ]
    },
    {
     "name": "stderr",
     "output_type": "stream",
     "text": [
      "owners : ('AYDIN NIZAMETTIN',)\n",
      "own_addr : 1 SUNNYSIDE, JAMAICA PLAIN, MA 02130\n",
      "\n",
      "owners : ('BLACK HORSE PROPERTIES', 'BLACK HORSE PROPERTIES I')\n",
      "own_addr : 1 BLACK HORSE TERRACE, WINCHESTER, MA 01890\n",
      "\n",
      "103/10 positive, 176/10 negative\n",
      "Do these records refer to the same thing?\n",
      "(y)es / (n)o / (u)nsure / (f)inished / (p)revious\n"
     ]
    },
    {
     "name": "stdout",
     "output_type": "stream",
     "text": [
      "n\n"
     ]
    },
    {
     "name": "stderr",
     "output_type": "stream",
     "text": [
      "owners : ('LAMB ERIC JAMES', 'ERIC J LAMB')\n",
      "own_addr : 96 WARREN AVE, HYDE PARK, MA 02136\n",
      "\n",
      "owners : ('MICHAEL A LINDSTROM', 'M M VAUTRIN')\n",
      "own_addr : 96 YORK TERRACE, BROOKLINE, MA 02446\n",
      "\n",
      "103/10 positive, 177/10 negative\n",
      "Do these records refer to the same thing?\n",
      "(y)es / (n)o / (u)nsure / (f)inished / (p)revious\n"
     ]
    },
    {
     "name": "stdout",
     "output_type": "stream",
     "text": [
      "n\n"
     ]
    },
    {
     "name": "stderr",
     "output_type": "stream",
     "text": [
      "owners : ('LUSINE YEREMYAN', 'ALEKSANDR NEKRASH')\n",
      "own_addr : 1402 BEACON ST #3, BROOKLINE, MA 02446\n",
      "\n",
      "owners : ('VAROUJAN KHATCHATRIAN', 'ALVARD ARAZYAN')\n",
      "own_addr : 1588 BEACON ST #3, BROOKLINE, MA 02446\n",
      "\n",
      "103/10 positive, 178/10 negative\n",
      "Do these records refer to the same thing?\n",
      "(y)es / (n)o / (u)nsure / (f)inished / (p)revious\n"
     ]
    },
    {
     "name": "stdout",
     "output_type": "stream",
     "text": [
      "n\n"
     ]
    },
    {
     "name": "stderr",
     "output_type": "stream",
     "text": [
      "owners : ('REILLY LISA J',)\n",
      "own_addr : 35 FAY ST #E-202 , BOSTON, MA 02118\n",
      "\n",
      "owners : ('ZEYTOONJIAN ANDREA A', 'ANDREA ZEYTOONJIAN ')\n",
      "own_addr : 35 MARLBOROUGH ST UNIT #5, BOSTON, MA 02112\n",
      "\n",
      "103/10 positive, 179/10 negative\n",
      "Do these records refer to the same thing?\n",
      "(y)es / (n)o / (u)nsure / (f)inished / (p)revious\n"
     ]
    },
    {
     "name": "stdout",
     "output_type": "stream",
     "text": [
      "n\n"
     ]
    },
    {
     "name": "stderr",
     "output_type": "stream",
     "text": [
      "owners : ('KEMP JAMES D', 'ELIZABETH HERMANN')\n",
      "own_addr : 15 ROBINWOOD AV #1, JAMAICA PLAIN, MA 02130\n",
      "\n",
      "owners : ('MARINO VINCENT C', 'VENCENT MARINO')\n",
      "own_addr : P O BOX 135, ROSLINDALE, MA 02131\n",
      "\n",
      "103/10 positive, 180/10 negative\n",
      "Do these records refer to the same thing?\n",
      "(y)es / (n)o / (u)nsure / (f)inished / (p)revious\n"
     ]
    },
    {
     "name": "stdout",
     "output_type": "stream",
     "text": [
      "n\n"
     ]
    },
    {
     "name": "stderr",
     "output_type": "stream",
     "text": [
      "owners : ('RICHARD KIMBERLY A',)\n",
      "own_addr : 18 CONCORD ST #2, CHARLESTOWN, MA 02129\n",
      "\n",
      "owners : ('RIST EDWARD B JR TS', 'AMBER PROPERTY MGMT')\n",
      "own_addr : P O BOX 307 #, JAMAICA PLAIN, MA 02130\n",
      "\n",
      "103/10 positive, 181/10 negative\n",
      "Do these records refer to the same thing?\n",
      "(y)es / (n)o / (u)nsure / (f)inished / (p)revious\n"
     ]
    },
    {
     "name": "stdout",
     "output_type": "stream",
     "text": [
      "n\n"
     ]
    },
    {
     "name": "stderr",
     "output_type": "stream",
     "text": [
      "owners : ('RADKO EDWARD',)\n",
      "own_addr : 810 DORCHESTER AV, DORCHESTER, MA 02125\n",
      "\n",
      "owners : ('VO NGAN KIM',)\n",
      "own_addr : 1643 DORCHESTER AV, DORCHESTER, MA 02122\n",
      "\n",
      "103/10 positive, 182/10 negative\n",
      "Do these records refer to the same thing?\n",
      "(y)es / (n)o / (u)nsure / (f)inished / (p)revious\n"
     ]
    },
    {
     "name": "stdout",
     "output_type": "stream",
     "text": [
      "n\n"
     ]
    },
    {
     "name": "stderr",
     "output_type": "stream",
     "text": [
      "owners : ('FINNIGAN HELEN F', 'EILEEN FINNIGAN')\n",
      "own_addr : 653 ADAMS ST, DORCHESTER, MA 02122\n",
      "\n",
      "owners : ('MARTYN GERRY',)\n",
      "own_addr : 1094 ADAMS ST, DORCHESTER, MA 02124\n",
      "\n",
      "103/10 positive, 183/10 negative\n",
      "Do these records refer to the same thing?\n",
      "(y)es / (n)o / (u)nsure / (f)inished / (p)revious\n"
     ]
    },
    {
     "name": "stdout",
     "output_type": "stream",
     "text": [
      "n\n"
     ]
    },
    {
     "name": "stderr",
     "output_type": "stream",
     "text": [
      "owners : ('LOPILATO EMILIO J & JENNIE R',)\n",
      "own_addr : 421 LAKEWOOD DRIVE, WINTER PARK, FL, 32789\n",
      "\n",
      "owners : ('HARTREY JOHN F 111',)\n",
      "own_addr : 421 MARLBOROUGH ST #5, BOSTON, MA 02115\n",
      "\n",
      "103/10 positive, 184/10 negative\n",
      "Do these records refer to the same thing?\n",
      "(y)es / (n)o / (u)nsure / (f)inished / (p)revious\n"
     ]
    },
    {
     "name": "stdout",
     "output_type": "stream",
     "text": [
      "n\n"
     ]
    },
    {
     "name": "stderr",
     "output_type": "stream",
     "text": [
      "owners : ('MCINTYRE PEARSE T JR', 'PEARSE T MCINTYRE JR ')\n",
      "own_addr : 38 SUMMER ST, WEST ROXBURY, MA 02132\n",
      "\n",
      "owners : ('AVRUTSKY IRINA',)\n",
      "own_addr : 38 ARCH ST, NEEDHAM, MA 02492\n",
      "\n",
      "103/10 positive, 185/10 negative\n",
      "Do these records refer to the same thing?\n",
      "(y)es / (n)o / (u)nsure / (f)inished / (p)revious\n"
     ]
    },
    {
     "name": "stdout",
     "output_type": "stream",
     "text": [
      "n\n"
     ]
    },
    {
     "name": "stderr",
     "output_type": "stream",
     "text": [
      "owners : ('SAWYER JOSEPH P',)\n",
      "own_addr : 55 NE 94TH ST, MIAMI SHORES, FL 33138\n",
      "\n",
      "owners : ('OROURKE MICHAEL B', 'MICHAEL OROURKE')\n",
      "own_addr : 55 MOZART ST #1, JAMAICA PLAIN, MA 02130\n",
      "\n",
      "103/10 positive, 186/10 negative\n",
      "Do these records refer to the same thing?\n",
      "(y)es / (n)o / (u)nsure / (f)inished / (p)revious\n"
     ]
    },
    {
     "name": "stdout",
     "output_type": "stream",
     "text": [
      "n\n"
     ]
    },
    {
     "name": "stderr",
     "output_type": "stream",
     "text": [
      "owners : ('ARTEMIS CORNWALL LLC', 'BROOK PROPERTY MANAGEMENT ')\n",
      "own_addr : 193 HARVARD ST, BROOKLINE, MA 02446\n",
      "\n",
      "owners : ('WAKA PARK LLC', 'BROOK PROPERTY MANAGEMENT ')\n",
      "own_addr : 193 HARVARD ST, BROOKLINE, MA 02446\n",
      "\n",
      "103/10 positive, 187/10 negative\n",
      "Do these records refer to the same thing?\n",
      "(y)es / (n)o / (u)nsure / (f)inished / (p)revious\n"
     ]
    },
    {
     "name": "stdout",
     "output_type": "stream",
     "text": [
      "p\n"
     ]
    },
    {
     "name": "stderr",
     "output_type": "stream",
     "text": [
      "owners : ('SAWYER JOSEPH P',)\n",
      "own_addr : 55 NE 94TH ST, MIAMI SHORES, FL 33138\n",
      "\n",
      "owners : ('OROURKE MICHAEL B', 'MICHAEL OROURKE')\n",
      "own_addr : 55 MOZART ST #1, JAMAICA PLAIN, MA 02130\n",
      "\n",
      "103/10 positive, 186/10 negative\n",
      "Do these records refer to the same thing?\n",
      "(y)es / (n)o / (u)nsure / (f)inished\n"
     ]
    },
    {
     "name": "stdout",
     "output_type": "stream",
     "text": [
      "n\n"
     ]
    },
    {
     "name": "stderr",
     "output_type": "stream",
     "text": [
      "owners : ('ARTEMIS CORNWALL LLC', 'BROOK PROPERTY MANAGEMENT ')\n",
      "own_addr : 193 HARVARD ST, BROOKLINE, MA 02446\n",
      "\n",
      "owners : ('WAKA PARK LLC', 'BROOK PROPERTY MANAGEMENT ')\n",
      "own_addr : 193 HARVARD ST, BROOKLINE, MA 02446\n",
      "\n",
      "103/10 positive, 187/10 negative\n",
      "Do these records refer to the same thing?\n",
      "(y)es / (n)o / (u)nsure / (f)inished / (p)revious\n"
     ]
    },
    {
     "name": "stdout",
     "output_type": "stream",
     "text": [
      "y\n"
     ]
    },
    {
     "name": "stderr",
     "output_type": "stream",
     "text": [
      "owners : ('FENVIEW DEVELOPMENT LLC', 'LUNDGREN MANGEMENT ')\n",
      "own_addr : 121 CAPTAIN'S ROW , CHELSEA, MA 02150\n",
      "\n",
      "owners : ('FENVIEW DEVELOPMENT LLC', 'LUNDGREN MANAGEMENT ')\n",
      "own_addr : 121 CAPTAIN'S ROW , CHELSEA, MA 02150\n",
      "\n",
      "104/10 positive, 187/10 negative\n",
      "Do these records refer to the same thing?\n",
      "(y)es / (n)o / (u)nsure / (f)inished / (p)revious\n"
     ]
    },
    {
     "name": "stdout",
     "output_type": "stream",
     "text": [
      "y\n"
     ]
    },
    {
     "name": "stderr",
     "output_type": "stream",
     "text": [
      "owners : ('GCT LIMITED PARTNERSHIP', 'JAMAICA PLAIN NEIGHBORHOOD D')\n",
      "own_addr : 31  GERMANIA  ST, JAMAICA  PLAIN   , MA 02130\n",
      "\n",
      "owners : ('LORENZOVEST HOLDING CORP', 'JAMAICA PLAIN NEIGHBORHOOD D')\n",
      "own_addr : 31  GERMANIA  ST, JAMAICA  PLAIN   , MA 02130\n",
      "\n",
      "105/10 positive, 187/10 negative\n",
      "Do these records refer to the same thing?\n",
      "(y)es / (n)o / (u)nsure / (f)inished / (p)revious\n"
     ]
    },
    {
     "name": "stdout",
     "output_type": "stream",
     "text": [
      "y\n"
     ]
    },
    {
     "name": "stderr",
     "output_type": "stream",
     "text": [
      "owners : ('JIMENEZ EVELYN M',)\n",
      "own_addr : 820 SARATOGA ST, EAST BOSTON, MA 02128\n",
      "\n",
      "owners : ('OROZCO DIANA T',)\n",
      "own_addr : 1051 SARATOGA ST, EAST BOSTON, MA 02128\n",
      "\n",
      "106/10 positive, 187/10 negative\n",
      "Do these records refer to the same thing?\n",
      "(y)es / (n)o / (u)nsure / (f)inished / (p)revious\n"
     ]
    },
    {
     "name": "stdout",
     "output_type": "stream",
     "text": [
      "n\n"
     ]
    },
    {
     "name": "stderr",
     "output_type": "stream",
     "text": [
      "owners : ('451 MERIDIAN LLC', 'BROOK PROPERTY MANAGEMENT')\n",
      "own_addr : 193 HARVARD ST, BROOKLINE, MA 02446\n",
      "\n",
      "owners : ('ARTEMIS PONTIAC LLC', 'BROOK PROPERTY MANAGEMENT')\n",
      "own_addr : 193 HARVARD ST, BROOKLINE, MA 02446\n",
      "\n",
      "106/10 positive, 188/10 negative\n",
      "Do these records refer to the same thing?\n",
      "(y)es / (n)o / (u)nsure / (f)inished / (p)revious\n"
     ]
    },
    {
     "name": "stdout",
     "output_type": "stream",
     "text": [
      "y\n"
     ]
    },
    {
     "name": "stderr",
     "output_type": "stream",
     "text": [
      "owners : ('NURUZZAMAN SYED & SAYEEDA NURUZZAMAN,', 'TRS. OF THE CHARLES RIVER, NOMINEE TRUST')\n",
      "own_addr : 12 WHEELER RD., LEXINGTON, MA 02420\n",
      "\n",
      "owners : ('NURUZZAMAN, SYED & SAYEEDA NURUZZAMAN,', 'TRS. OF THE CHARLES RIVER, NOMINEE TRUST')\n",
      "own_addr : 12 WHEELER RD., LEXINGTON, MA 02420\n",
      "\n",
      "107/10 positive, 188/10 negative\n",
      "Do these records refer to the same thing?\n",
      "(y)es / (n)o / (u)nsure / (f)inished / (p)revious\n"
     ]
    },
    {
     "name": "stdout",
     "output_type": "stream",
     "text": [
      "y\n"
     ]
    },
    {
     "name": "stderr",
     "output_type": "stream",
     "text": [
      "owners : ('BRUNSWICK HOLBORN LP', 'DORCHESTER BAY EC DEV CP')\n",
      "own_addr : 594 COLUMBIA RD, DORCHESTER, MA 02125\n",
      "\n",
      "owners : ('BRUNSWICK HOLBORN TWO LP', 'DORCHESTER BAY EC DEV CP')\n",
      "own_addr : 594 COLUMBIA RD, DORCHESTER, MA 02125\n",
      "\n",
      "108/10 positive, 188/10 negative\n",
      "Do these records refer to the same thing?\n",
      "(y)es / (n)o / (u)nsure / (f)inished / (p)revious\n"
     ]
    },
    {
     "name": "stdout",
     "output_type": "stream",
     "text": [
      "y\n"
     ]
    },
    {
     "name": "stderr",
     "output_type": "stream",
     "text": [
      "owners : ('STAVROPOULOS PETER', 'SHUMWAY J & READY')\n",
      "own_addr : 31 COLBY LANE, WELLS, ME, 04090\n",
      "\n",
      "owners : ('STAVROPOULOS PETER', 'SHUMWAY JOANNA READY  MARIA')\n",
      "own_addr : 31 COLBY LANE, WELLS, ME, 04090\n",
      "\n",
      "109/10 positive, 188/10 negative\n",
      "Do these records refer to the same thing?\n",
      "(y)es / (n)o / (u)nsure / (f)inished / (p)revious\n"
     ]
    },
    {
     "name": "stdout",
     "output_type": "stream",
     "text": [
      "y\n"
     ]
    },
    {
     "name": "stderr",
     "output_type": "stream",
     "text": [
      "owners : ('ZHU, WEICHEN &', 'KAITY KAO')\n",
      "own_addr : 185 PUTNAM AVE, CAMBRIDGE, MA 02139\n",
      "\n",
      "owners : ('CONNELLLY STEVEN A TS',)\n",
      "own_addr : 1859 DORCHESTER AV, DORCHESTER, MA 02124\n",
      "\n",
      "110/10 positive, 188/10 negative\n",
      "Do these records refer to the same thing?\n",
      "(y)es / (n)o / (u)nsure / (f)inished / (p)revious\n"
     ]
    },
    {
     "name": "stdout",
     "output_type": "stream",
     "text": [
      "n\n"
     ]
    },
    {
     "name": "stderr",
     "output_type": "stream",
     "text": [
      "owners : ('MISHAWUM ASSISTED LIVING', 'PEABODY PROPERTIES INC')\n",
      "own_addr : 536 GRANITE ST, BRAINTREE, MA 02184\n",
      "\n",
      "owners : ('HUMBOLDT APARTMENTS LP', 'PEABODY PROPERTIES INC')\n",
      "own_addr : 536 GRANITE ST, BRAINTREE, MA 02184\n",
      "\n",
      "110/10 positive, 189/10 negative\n",
      "Do these records refer to the same thing?\n",
      "(y)es / (n)o / (u)nsure / (f)inished / (p)revious\n"
     ]
    },
    {
     "name": "stdout",
     "output_type": "stream",
     "text": [
      "y\n"
     ]
    },
    {
     "name": "stderr",
     "output_type": "stream",
     "text": [
      "owners : ('Q-G II HOUSING', 'WINN MGT CO INC')\n",
      "own_addr : 6 FANEUIL HALL MRKTPLC, BOSTON, MA 02109\n",
      "\n",
      "owners : ('CODMAN SQ APARTMENTS LLC', 'WINN MGT CO INC')\n",
      "own_addr : 6 FANEUIL HALL MRKTPLC, BOSTON, MA 02109\n",
      "\n",
      "111/10 positive, 189/10 negative\n",
      "Do these records refer to the same thing?\n",
      "(y)es / (n)o / (u)nsure / (f)inished / (p)revious\n"
     ]
    },
    {
     "name": "stdout",
     "output_type": "stream",
     "text": [
      "y\n"
     ]
    },
    {
     "name": "stderr",
     "output_type": "stream",
     "text": [
      "owners : ('PARMELEE COURT LIMITED', 'WINN MGT CO INC')\n",
      "own_addr : 6 FANEUIL HALL MRKTPLC, BOSTON, MA 02109\n",
      "\n",
      "owners : ('NORFOLK TERRACE LP', 'WINN MGT CO INC')\n",
      "own_addr : 6 FANEUIL HALL MRKTPLC, BOSTON, MA 02109\n",
      "\n",
      "112/10 positive, 189/10 negative\n",
      "Do these records refer to the same thing?\n",
      "(y)es / (n)o / (u)nsure / (f)inished / (p)revious\n"
     ]
    },
    {
     "name": "stdout",
     "output_type": "stream",
     "text": [
      "y\n"
     ]
    },
    {
     "name": "stderr",
     "output_type": "stream",
     "text": [
      "owners : ('YOGEL, DAVID M. TR. OF', 'PUTNAM TRUST-2')\n",
      "own_addr : 87 HAMPSHIRE ST, CAMBRIDGE, MA 02139\n",
      "\n",
      "owners : ('YOGEL, DAVID M. TR. OF', 'EAST 148-1 TRUST')\n",
      "own_addr : 87 HAMPSHIRE ST, CAMBRIDGE, MA 02139\n",
      "\n",
      "113/10 positive, 189/10 negative\n",
      "Do these records refer to the same thing?\n",
      "(y)es / (n)o / (u)nsure / (f)inished / (p)revious\n"
     ]
    },
    {
     "name": "stdout",
     "output_type": "stream",
     "text": [
      "y\n"
     ]
    },
    {
     "name": "stderr",
     "output_type": "stream",
     "text": [
      "owners : ('POLYAK, JUDIT',)\n",
      "own_addr : 32 SCIARAPPA ST. UNIT#2, CAMBRIDGE, MA 02141\n",
      "\n",
      "owners : ('KHAN JUANITA',)\n",
      "own_addr : 32 FOWLER ST, DORCHESTER, MA 02121\n",
      "\n",
      "114/10 positive, 189/10 negative\n",
      "Do these records refer to the same thing?\n",
      "(y)es / (n)o / (u)nsure / (f)inished / (p)revious\n"
     ]
    },
    {
     "name": "stdout",
     "output_type": "stream",
     "text": [
      "n\n"
     ]
    },
    {
     "name": "stderr",
     "output_type": "stream",
     "text": [
      "owners : ('LIMA WILLIAM A JR TRST', 'GTI PROPERTIES')\n",
      "own_addr : 530 HARRISON AV, BOSTON, MA 02118\n",
      "\n",
      "owners : ('N I C LIMITED PARTNERSHIP', 'GTI PROPERTIES')\n",
      "own_addr : 530 HARRISON AV, BOSTON, MA 02118\n",
      "\n",
      "114/10 positive, 190/10 negative\n",
      "Do these records refer to the same thing?\n",
      "(y)es / (n)o / (u)nsure / (f)inished / (p)revious\n"
     ]
    },
    {
     "name": "stdout",
     "output_type": "stream",
     "text": [
      "y\n"
     ]
    },
    {
     "name": "stderr",
     "output_type": "stream",
     "text": [
      "owners : ('TRUST MARTINS KNAPP REALTY TRU', 'MARTINS ALFRED & ALICE')\n",
      "own_addr : 166 HIGHLAND AVE, SOMERVILLE, MA, 02143\n",
      "\n",
      "owners : ('TRUST MARTINS HIGHLAND REALTY', 'MARTINS ALFRED & ALICE')\n",
      "own_addr : 166 HIGHLAND AVE, SOMERVILLE, MA, 02143\n",
      "\n",
      "115/10 positive, 190/10 negative\n",
      "Do these records refer to the same thing?\n",
      "(y)es / (n)o / (u)nsure / (f)inished / (p)revious\n"
     ]
    },
    {
     "name": "stdout",
     "output_type": "stream",
     "text": [
      "y\n"
     ]
    },
    {
     "name": "stderr",
     "output_type": "stream",
     "text": [
      "owners : ('HOPE BAY', 'UNITED HOUSING LLC CO ')\n",
      "own_addr : 530 WARREN ST , DORCHESTER, MA 02121\n",
      "\n",
      "owners : ('HOPE BAY', 'UNITED HOUSING CO LLC ')\n",
      "own_addr : 530 WARREN ST , DORCHESTER, MA 02121\n",
      "\n",
      "116/10 positive, 190/10 negative\n",
      "Do these records refer to the same thing?\n",
      "(y)es / (n)o / (u)nsure / (f)inished / (p)revious\n"
     ]
    },
    {
     "name": "stdout",
     "output_type": "stream",
     "text": [
      "y\n"
     ]
    },
    {
     "name": "stderr",
     "output_type": "stream",
     "text": [
      "owners : ('PHILLIPS BROOKS SCHOOL', 'WINN MGT CO INC')\n",
      "own_addr : 6 FANEUIL HALL MRKTPLC, BOSTON, MA 02109\n",
      "\n",
      "owners : ('Q-G II HOUSING', 'WINN MGT CO INC')\n",
      "own_addr : 6 FANEUIL HALL MRKTPLC, BOSTON, MA 02109\n",
      "\n",
      "117/10 positive, 190/10 negative\n",
      "Do these records refer to the same thing?\n",
      "(y)es / (n)o / (u)nsure / (f)inished / (p)revious\n"
     ]
    },
    {
     "name": "stdout",
     "output_type": "stream",
     "text": [
      "y\n"
     ]
    },
    {
     "name": "stderr",
     "output_type": "stream",
     "text": [
      "owners : ('BRANCH, ABIGAIL & DEBORAH TOMSHO',)\n",
      "own_addr : 32-34 CLAY ST., #1, CAMBRIDGE, MA 02140\n",
      "\n",
      "owners : ('LAMBERT, DIANE & GEORGE MOURADIAN',)\n",
      "own_addr : 32 BOWDOIN ST, CAMBRIDGE, MA 02138\n",
      "\n",
      "118/10 positive, 190/10 negative\n",
      "Do these records refer to the same thing?\n",
      "(y)es / (n)o / (u)nsure / (f)inished / (p)revious\n"
     ]
    },
    {
     "name": "stdout",
     "output_type": "stream",
     "text": [
      "n\n"
     ]
    },
    {
     "name": "stderr",
     "output_type": "stream",
     "text": [
      "owners : ('SHERF DAVID E TS', 'DAVID E SHERF ')\n",
      "own_addr : 60 PILGRIM ROAD, MARBLEHEAD, MA 01945\n",
      "\n",
      "owners : ('RIVER ST LJS LLC',)\n",
      "own_addr : 60 LEO M BIRMINGHAM PW, BRIGHTON, MA 02135\n",
      "\n",
      "118/10 positive, 191/10 negative\n",
      "Do these records refer to the same thing?\n",
      "(y)es / (n)o / (u)nsure / (f)inished / (p)revious\n"
     ]
    },
    {
     "name": "stdout",
     "output_type": "stream",
     "text": [
      "n\n"
     ]
    },
    {
     "name": "stderr",
     "output_type": "stream",
     "text": [
      "owners : ('MLA CAPITAL PARTNERS, LLC',)\n",
      "own_addr : 955 MASSACHUSETTS AVE, CAMBRIDGE, MA 02139\n",
      "\n",
      "owners : ('SOFFER, LEAH',)\n",
      "own_addr : 2427 MASSACHUSETTS AVE., #6, CAMBRIDGE, MA 02140\n",
      "\n",
      "118/10 positive, 192/10 negative\n",
      "Do these records refer to the same thing?\n",
      "(y)es / (n)o / (u)nsure / (f)inished / (p)revious\n"
     ]
    },
    {
     "name": "stdout",
     "output_type": "stream",
     "text": [
      "n\n"
     ]
    },
    {
     "name": "stderr",
     "output_type": "stream",
     "text": [
      "owners : ('HARDING SHIRLEY A TRSTS',)\n",
      "own_addr : PO BOX 51544, BOSTON, MA 02205\n",
      "\n",
      "owners : ('JAMES DWIGHT',)\n",
      "own_addr : 590 BLUE HILL AV, DORCHESTER, MA 02121\n",
      "\n",
      "118/10 positive, 193/10 negative\n",
      "Do these records refer to the same thing?\n",
      "(y)es / (n)o / (u)nsure / (f)inished / (p)revious\n"
     ]
    },
    {
     "name": "stdout",
     "output_type": "stream",
     "text": [
      "n\n"
     ]
    },
    {
     "name": "stderr",
     "output_type": "stream",
     "text": [
      "owners : ('LEE JENNIFER M ',)\n",
      "own_addr : 7 CENTRAL ST, WINCHESTER, MA 01890\n",
      "\n",
      "owners : ('WOOD KAREN F',)\n",
      "own_addr : 7 SARANAC ST, DORCHESTER, MA 02122\n",
      "\n",
      "118/10 positive, 194/10 negative\n",
      "Do these records refer to the same thing?\n",
      "(y)es / (n)o / (u)nsure / (f)inished / (p)revious\n"
     ]
    },
    {
     "name": "stdout",
     "output_type": "stream",
     "text": [
      "f\n"
     ]
    },
    {
     "name": "stderr",
     "output_type": "stream",
     "text": [
      "Finished labeling\n",
      "INFO:rlr.crossvalidation:using cross validation to find optimum alpha...\n",
      "INFO:rlr.crossvalidation:optimum alpha: 1.000000, score 0.8457269450057222\n",
      "INFO:dedupe.training:Final predicate set:\n",
      "INFO:dedupe.training:(SimplePredicate: (oneGramFingerprint, own_addr), SimplePredicate: (sameThreeCharStartPredicate, own_addr))\n",
      "INFO:dedupe.training:SimplePredicate: (firstSetElementPredicate, owners)\n"
     ]
    }
   ],
   "source": [
    "settings_file = './training/learned_settings'\n",
    "training_file = './training/training.json'\n",
    "\n",
    "# If settings exist, read from existing.\n",
    "if os.path.exists(settings_file):\n",
    "    print('Reading learned settings from', settings_file)\n",
    "    with open(settings_file, 'rb') as f:\n",
    "        deduper = dedupe.StaticDedupe(f)\n",
    "else:\n",
    "    # Tell Dedupe which fields are used to identify duplicates.\n",
    "    fields = [\n",
    "        {'field': 'owners', 'variable name': 'owners', 'type': 'Set'},\n",
    "        {'field': 'own_addr', 'variable name': 'own_addr', 'type': 'Address'}\n",
    "        ]\n",
    "    deduper = dedupe.Dedupe(fields)\n",
    "    # If training file exists, read it...\n",
    "    if os.path.exists(training_file):\n",
    "        print('reading labeled examples from ', training_file)\n",
    "        with open(training_file, 'rb') as f:\n",
    "            deduper.prepare_training(all_assess_dict, f)\n",
    "    # Otherwise, prepare a training set...\n",
    "    else:\n",
    "        deduper.prepare_training(all_assess_dict)\n",
    "    # Start supervised labeling.\n",
    "    dedupe.console_label(deduper)\n",
    "    deduper.train()\n",
    "    # Write settings and training sets.\n",
    "    with open(training_file, 'w') as tf:\n",
    "        deduper.write_training(tf)\n",
    "    with open(settings_file, 'wb') as sf:\n",
    "        deduper.write_settings(sf)"
   ]
  },
  {
   "cell_type": "code",
   "execution_count": 59,
   "metadata": {},
   "outputs": [
    {
     "name": "stderr",
     "output_type": "stream",
     "text": [
      "INFO:dedupe.blocking:10000, 0.1447202 seconds\n",
      "INFO:dedupe.blocking:20000, 0.2868192 seconds\n",
      "INFO:dedupe.blocking:30000, 0.4337112 seconds\n",
      "INFO:dedupe.blocking:40000, 0.5835662 seconds\n",
      "INFO:dedupe.blocking:50000, 0.7267232 seconds\n",
      "INFO:dedupe.blocking:60000, 0.8654432 seconds\n",
      "INFO:dedupe.blocking:70000, 1.0016342 seconds\n",
      "INFO:dedupe.blocking:80000, 1.1351392 seconds\n",
      "INFO:dedupe.blocking:90000, 1.2731762 seconds\n",
      "INFO:dedupe.blocking:100000, 1.4262552 seconds\n",
      "INFO:dedupe.blocking:110000, 1.5795912 seconds\n",
      "INFO:dedupe.blocking:120000, 1.7387642 seconds\n",
      "INFO:dedupe.blocking:130000, 1.8897642 seconds\n",
      "INFO:dedupe.blocking:140000, 2.0337372 seconds\n",
      "INFO:dedupe.blocking:150000, 2.1779522 seconds\n",
      "INFO:dedupe.blocking:160000, 2.3265102 seconds\n",
      "INFO:dedupe.blocking:170000, 2.4692312 seconds\n",
      "INFO:dedupe.blocking:180000, 2.6154152 seconds\n",
      "INFO:dedupe.blocking:190000, 2.7589062 seconds\n",
      "INFO:dedupe.blocking:200000, 2.9009222 seconds\n",
      "INFO:dedupe.blocking:210000, 3.0433492 seconds\n"
     ]
    },
    {
     "name": "stdout",
     "output_type": "stream",
     "text": [
      "Number of sets 172302\n"
     ]
    }
   ],
   "source": [
    "# Identify clusters based on training dataset.\n",
    "# Higher threshold is less tolerant of differences between names/addresses.\n",
    "clustered_dupes = deduper.partition(all_assess_dict, threshold = 0.5)\n",
    "\n",
    "# How many sets are there?\n",
    "print('Number of sets', len(clustered_dupes))"
   ]
  },
  {
   "cell_type": "code",
   "execution_count": 53,
   "metadata": {},
   "outputs": [],
   "source": [
    "# Create empty arrays to hold results.\n",
    "rid = []\n",
    "clst = []\n",
    "conf = []\n",
    "count = []\n",
    "\n",
    "# Iterate over results...\n",
    "for cluster_id, (records, scores) in enumerate(clustered_dupes):\n",
    "    for record_id, score in zip(records, scores):\n",
    "        # Append record id\n",
    "        # Corresponds to index of assessor dataframe.\n",
    "        rid.append(record_id)\n",
    "        # Append cluster ID.\n",
    "        clst.append(cluster_id)\n",
    "        # Append confidence score.\n",
    "        conf.append(score)\n",
    "\n",
    "# Build new dataframe using result arrays.\n",
    "clust = pd.DataFrame(list(zip(clst, conf)), \n",
    "                  columns =['clst', 'conf'],\n",
    "                  index = rid\n",
    "                 )"
   ]
  },
  {
   "cell_type": "code",
   "execution_count": 78,
   "metadata": {},
   "outputs": [],
   "source": [
    "# Join clusters to assessors dataframe.\n",
    "all_assess = all_assess.join(clust)"
   ]
  },
  {
   "cell_type": "code",
   "execution_count": 80,
   "metadata": {},
   "outputs": [
    {
     "name": "stderr",
     "output_type": "stream",
     "text": [
      "<ipython-input-80-7d7fbb14c5ae>:9: UserWarning: Geometry is in a geographic CRS. Results from 'centroid' are likely incorrect. Use 'GeoSeries.to_crs()' to re-project geometries to a projected CRS before this operation.\n",
      "\n",
      "  centroid = parcels_gdf.geometry.centroid\n"
     ]
    }
   ],
   "source": [
    "# Read spatial data\n",
    "parcels_gdf = gpd.read_file('./data/parcels/mamas_parcels.shp')\n",
    "parcels_gdf = parcels_gdf.rename(columns = {\n",
    "    'pid': 'gisid'\n",
    "}).drop_duplicates(subset=['gisid', 'town'])\n",
    "parcels_gdf = parcels_gdf[~pd.isnull(parcels_gdf['gisid'])]\n",
    "parcels_gdf = parcels_gdf[~pd.isnull(parcels_gdf['geometry'])]\n",
    "# parcels_gdf.loc[:,'geometry'] = parcels_gdf.geometry.centroid\n",
    "centroid = parcels_gdf.geometry.centroid\n",
    "parcels_gdf.loc[:,'lat'] = centroid.y\n",
    "parcels_gdf.loc[:,'lon'] = centroid.x"
   ]
  },
  {
   "cell_type": "code",
   "execution_count": 81,
   "metadata": {},
   "outputs": [],
   "source": [
    "all_assess = parcels_gdf.merge(all_assess, on=['town', 'gisid'], how='right')\n",
    "all_assess = all_assess[~np.isnan(all_assess.lat)]"
   ]
  },
  {
   "cell_type": "code",
   "execution_count": 82,
   "metadata": {},
   "outputs": [],
   "source": [
    "# Hard-coding this count logic saves a ton of time for each PostgreSQL query.\n",
    "all_assess = all_assess.merge(all_assess.groupby('clst').count()[['gisid']].rename(columns={'gisid': 'count'}), on=['clst', 'clst'], how='left')"
   ]
  },
  {
   "cell_type": "code",
   "execution_count": 83,
   "metadata": {},
   "outputs": [],
   "source": [
    "pg_engine = create_engine(PG_CONNECT)\n",
    "all_assess.to_postgis(\"props\", con=pg_engine, schema='public', if_exists='replace', index=True, index_label='id')"
   ]
  },
  {
   "cell_type": "code",
   "execution_count": null,
   "metadata": {},
   "outputs": [],
   "source": []
  }
 ],
 "metadata": {
  "kernelspec": {
   "display_name": "Python 3",
   "language": "python",
   "name": "python3"
  },
  "language_info": {
   "codemirror_mode": {
    "name": "ipython",
    "version": 3
   },
   "file_extension": ".py",
   "mimetype": "text/x-python",
   "name": "python",
   "nbconvert_exporter": "python",
   "pygments_lexer": "ipython3",
   "version": "3.8.2"
  }
 },
 "nbformat": 4,
 "nbformat_minor": 4
}
