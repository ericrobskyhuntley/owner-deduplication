{
 "cells": [
  {
   "cell_type": "code",
   "execution_count": 3,
   "metadata": {},
   "outputs": [],
   "source": [
    "import pandas as pd\n",
    "import geopandas as gpd"
   ]
  },
  {
   "cell_type": "code",
   "execution_count": 59,
   "metadata": {},
   "outputs": [],
   "source": [
    "# Residential Land Use Codes from MA Dept of Revenue\n",
    "# https://www.mass.gov/files/documents/2016/08/wr/classificationcodebook.pdf\n",
    "# Codes are 101*-109*, 031*, and 013*\n",
    "# Often include suffixes (letters, zeroes or no character), thus regex *?\n",
    "USE_CODES = '^1[0-1][1-2]*?|^013*?|^031*?'\n",
    "def read_res(file_list, uses = USE_CODES):\n",
    "    df = pd.DataFrame()\n",
    "    for file in file_list:\n",
    "        df = df.append(gpd.read_file(file), ignore_index=True)\n",
    "    df = df[[\n",
    "        'PROP_ID',\n",
    "        'OWNER1',\n",
    "        'OWN_ADDR',\n",
    "        'OWN_CITY',\n",
    "        'OWN_STATE',\n",
    "        'OWN_ZIP',\n",
    "        'OWN_CO',\n",
    "        'USE_CODE',\n",
    "        'CITY',\n",
    "        'FY']]\n",
    "    df = df.rename({\n",
    "        'PROP_ID': 'pid',\n",
    "        'OWNER1': 'own_name', \n",
    "        'OWN_ADDR': 'own_add', \n",
    "        'OWN_CITY': 'own_city', \n",
    "        'OWN_STATE': 'own_state',\n",
    "        'OWN_ZIP': 'own_zip', \n",
    "        'OWN_CO': 'own_country',\n",
    "        'CITY': 'city',\n",
    "        'USE_CODE': 'use',\n",
    "        'FY': 'year'}, \n",
    "        axis='columns')\n",
    "    df = df[df['use'].str.contains(uses, regex=True)]\n",
    "    return df"
   ]
  },
  {
   "cell_type": "code",
   "execution_count": 85,
   "metadata": {},
   "outputs": [],
   "source": [
    "# Data from MassGIS Standardized Assessor's Parcels\n",
    "# https://docs.digital.mass.gov/dataset/massgis-data-standardized-assessors-parcels\n",
    "# Medford, Cambridge, and Somerville all last updated FY 2019\n",
    "files = ['som_assess.dbf', 'cam_assess.dbf', 'med_assess.dbf']\n",
    "df = read_res(files)"
   ]
  },
  {
   "cell_type": "code",
   "execution_count": 86,
   "metadata": {},
   "outputs": [
    {
     "data": {
      "text/html": [
       "<div>\n",
       "<style scoped>\n",
       "    .dataframe tbody tr th:only-of-type {\n",
       "        vertical-align: middle;\n",
       "    }\n",
       "\n",
       "    .dataframe tbody tr th {\n",
       "        vertical-align: top;\n",
       "    }\n",
       "\n",
       "    .dataframe thead th {\n",
       "        text-align: right;\n",
       "    }\n",
       "</style>\n",
       "<table border=\"1\" class=\"dataframe\">\n",
       "  <thead>\n",
       "    <tr style=\"text-align: right;\">\n",
       "      <th></th>\n",
       "      <th>pid</th>\n",
       "      <th>own_name</th>\n",
       "      <th>own_add</th>\n",
       "      <th>own_city</th>\n",
       "      <th>own_state</th>\n",
       "      <th>own_zip</th>\n",
       "      <th>own_country</th>\n",
       "      <th>use</th>\n",
       "      <th>city</th>\n",
       "      <th>year</th>\n",
       "      <th>own_name_clean</th>\n",
       "    </tr>\n",
       "  </thead>\n",
       "  <tbody>\n",
       "    <tr>\n",
       "      <th>16</th>\n",
       "      <td>102_A_1</td>\n",
       "      <td>DEIRMENJIAN REAL ESTATE LLC</td>\n",
       "      <td>6 WINCHESTER ST</td>\n",
       "      <td>MEDFORD</td>\n",
       "      <td>MA</td>\n",
       "      <td>02155</td>\n",
       "      <td>None</td>\n",
       "      <td>1110</td>\n",
       "      <td>SOMERVILLE</td>\n",
       "      <td>2019</td>\n",
       "      <td>DEIRMENJIAN</td>\n",
       "    </tr>\n",
       "    <tr>\n",
       "      <th>17</th>\n",
       "      <td>102_A_2</td>\n",
       "      <td>FALCETANO WILLIAM TRUSTEE</td>\n",
       "      <td>337 SOMERVILLE AVE 2ND FLOOR</td>\n",
       "      <td>SOMERVILLE</td>\n",
       "      <td>MA</td>\n",
       "      <td>02143</td>\n",
       "      <td>USA</td>\n",
       "      <td>1110</td>\n",
       "      <td>SOMERVILLE</td>\n",
       "      <td>2019</td>\n",
       "      <td>FALCETANO WILLIAM</td>\n",
       "    </tr>\n",
       "    <tr>\n",
       "      <th>18</th>\n",
       "      <td>102_A_3</td>\n",
       "      <td>GALLUZZO ELLEN FOR LIFE</td>\n",
       "      <td>9 AUSTIN ST</td>\n",
       "      <td>SOMERVILLE</td>\n",
       "      <td>MA</td>\n",
       "      <td>02145</td>\n",
       "      <td>USA</td>\n",
       "      <td>1040</td>\n",
       "      <td>SOMERVILLE</td>\n",
       "      <td>2019</td>\n",
       "      <td>GALLUZZO ELLEN</td>\n",
       "    </tr>\n",
       "    <tr>\n",
       "      <th>19</th>\n",
       "      <td>102_A_4</td>\n",
       "      <td>SOUSA JOSE C &amp; MATILDE</td>\n",
       "      <td>23 BENEDICT ST</td>\n",
       "      <td>SOMERVILLE</td>\n",
       "      <td>MA</td>\n",
       "      <td>02145</td>\n",
       "      <td>USA</td>\n",
       "      <td>1050</td>\n",
       "      <td>SOMERVILLE</td>\n",
       "      <td>2019</td>\n",
       "      <td>SOUSA JOSE C &amp; MATILDE</td>\n",
       "    </tr>\n",
       "    <tr>\n",
       "      <th>20</th>\n",
       "      <td>102_B_1</td>\n",
       "      <td>VALENCIA MILAGRO TRUSTEE</td>\n",
       "      <td>18 BENEDICT ST</td>\n",
       "      <td>SOMERVILLE</td>\n",
       "      <td>MA</td>\n",
       "      <td>02145</td>\n",
       "      <td>None</td>\n",
       "      <td>1050</td>\n",
       "      <td>SOMERVILLE</td>\n",
       "      <td>2019</td>\n",
       "      <td>VALENCIA MILAGRO</td>\n",
       "    </tr>\n",
       "  </tbody>\n",
       "</table>\n",
       "</div>"
      ],
      "text/plain": [
       "        pid                     own_name                       own_add  \\\n",
       "16  102_A_1  DEIRMENJIAN REAL ESTATE LLC               6 WINCHESTER ST   \n",
       "17  102_A_2    FALCETANO WILLIAM TRUSTEE  337 SOMERVILLE AVE 2ND FLOOR   \n",
       "18  102_A_3      GALLUZZO ELLEN FOR LIFE                   9 AUSTIN ST   \n",
       "19  102_A_4       SOUSA JOSE C & MATILDE                23 BENEDICT ST   \n",
       "20  102_B_1     VALENCIA MILAGRO TRUSTEE                18 BENEDICT ST   \n",
       "\n",
       "      own_city own_state own_zip own_country   use        city  year  \\\n",
       "16     MEDFORD        MA   02155        None  1110  SOMERVILLE  2019   \n",
       "17  SOMERVILLE        MA   02143         USA  1110  SOMERVILLE  2019   \n",
       "18  SOMERVILLE        MA   02145         USA  1040  SOMERVILLE  2019   \n",
       "19  SOMERVILLE        MA   02145         USA  1050  SOMERVILLE  2019   \n",
       "20  SOMERVILLE        MA   02145        None  1050  SOMERVILLE  2019   \n",
       "\n",
       "            own_name_clean  \n",
       "16           DEIRMENJIAN    \n",
       "17      FALCETANO WILLIAM   \n",
       "18         GALLUZZO ELLEN   \n",
       "19  SOUSA JOSE C & MATILDE  \n",
       "20       VALENCIA MILAGRO   "
      ]
     },
     "execution_count": 86,
     "metadata": {},
     "output_type": "execute_result"
    }
   ],
   "source": [
    "import re\n",
    "from unidecode import unidecode\n",
    "replace_list = ['FAMILY', 'IRREVOCABLE', 'NOMINEE', 'REVOCABLE', \n",
    "                'REALTY', 'REAL ESTATE', 'TRUSTEES OF', 'TRUSTEE OF', \n",
    "                'TRUSTEE', 'TRST', 'TRUST', 'LTD',\n",
    "                'LLC', 'HOLDINGS', 'REALTORS', 'LIMITED PARTNERSHIP', \n",
    "                'FOR LIFE', 'ESTATE OF', 'ESTATE', 'TR.']\n",
    "def clean(c):\n",
    "    c = c.replace('|'.join(map(re.escape, replace_list)), '', regex=True)\n",
    "    return c\n",
    "\n",
    "df['own_name_clean'] = clean(df['own_name'])\n",
    "df.head()"
   ]
  },
  {
   "cell_type": "code",
   "execution_count": 72,
   "metadata": {},
   "outputs": [
    {
     "name": "stderr",
     "output_type": "stream",
     "text": [
      "INFO:dedupe.training:Final predicate set:\n",
      "INFO:dedupe.training:(SimplePredicate: (firstTokenPredicate, own_name_clean), SimplePredicate: (twoGramFingerprint, own_name_clean))\n"
     ]
    }
   ],
   "source": [
    "import dedupe\n",
    "\n",
    "# settings_file = 'csv_example_learned_settings'\n",
    "# training_file = 'csv_example_training.json'\n",
    "\n",
    "fields = [\n",
    "    {'field': 'own_name_clean', 'type': 'String'},\n",
    "#     {'field': 'Phone', 'type': 'String', 'has missing': True},\n",
    "    ]\n",
    "\n",
    "df_dict = df.to_dict('index')\n",
    "\n",
    "deduper = dedupe.Dedupe(fields)\n",
    "\n",
    "deduper.prepare_training(df_dict)"
   ]
  },
  {
   "cell_type": "code",
   "execution_count": 73,
   "metadata": {},
   "outputs": [
    {
     "name": "stderr",
     "output_type": "stream",
     "text": [
      "own_name_clean : NORCROSS BOYD A & MARY J EE\n",
      "\n",
      "own_name_clean : NORCROSS BOYD A & MARY J E\n",
      "\n",
      "0/10 positive, 0/10 negative\n",
      "Do these records refer to the same thing?\n",
      "(y)es / (n)o / (u)nsure / (f)inished\n"
     ]
    },
    {
     "name": "stdout",
     "output_type": "stream",
     "text": [
      "y\n"
     ]
    },
    {
     "name": "stderr",
     "output_type": "stream",
     "text": [
      "own_name_clean : LENNON CATHERINE EE\n",
      "\n",
      "own_name_clean : LENNON CATHERINE \n",
      "\n",
      "1/10 positive, 0/10 negative\n",
      "Do these records refer to the same thing?\n",
      "(y)es / (n)o / (u)nsure / (f)inished / (p)revious\n"
     ]
    },
    {
     "name": "stdout",
     "output_type": "stream",
     "text": [
      "y\n"
     ]
    },
    {
     "name": "stderr",
     "output_type": "stream",
     "text": [
      "INFO:dedupe.training:Final predicate set:\n",
      "INFO:dedupe.training:(SimplePredicate: (sameSevenCharStartPredicate, own_name_clean), SimplePredicate: (sortedAcronym, own_name_clean))\n",
      "own_name_clean : TOURO INVESTMENTS #9 \n",
      "\n",
      "own_name_clean : TOURO INVESTMENTS \n",
      "\n",
      "2/10 positive, 0/10 negative\n",
      "Do these records refer to the same thing?\n",
      "(y)es / (n)o / (u)nsure / (f)inished / (p)revious\n"
     ]
    },
    {
     "name": "stdout",
     "output_type": "stream",
     "text": [
      "y\n"
     ]
    },
    {
     "name": "stderr",
     "output_type": "stream",
     "text": [
      "INFO:dedupe.training:Final predicate set:\n",
      "INFO:dedupe.training:(SimplePredicate: (oneGramFingerprint, own_name_clean), SimplePredicate: (sameFiveCharStartPredicate, own_name_clean))\n",
      "own_name_clean : NISSENBAUM ALAN JAY\n",
      "\n",
      "own_name_clean : NISSENBAUM ALAN J\n",
      "\n",
      "3/10 positive, 0/10 negative\n",
      "Do these records refer to the same thing?\n",
      "(y)es / (n)o / (u)nsure / (f)inished / (p)revious\n"
     ]
    },
    {
     "name": "stdout",
     "output_type": "stream",
     "text": [
      "y\n"
     ]
    },
    {
     "name": "stderr",
     "output_type": "stream",
     "text": [
      "INFO:dedupe.training:Final predicate set:\n",
      "INFO:dedupe.training:(SimplePredicate: (doubleMetaphone, own_name_clean), SimplePredicate: (sameSevenCharStartPredicate, own_name_clean))\n",
      "own_name_clean : PRESIDENT & FELLOWS OF HARVARD\n",
      "\n",
      "own_name_clean : PRESIDENT & FELLOWS OF HARVARD COLLEGE\n",
      "\n",
      "4/10 positive, 0/10 negative\n",
      "Do these records refer to the same thing?\n",
      "(y)es / (n)o / (u)nsure / (f)inished / (p)revious\n"
     ]
    },
    {
     "name": "stdout",
     "output_type": "stream",
     "text": [
      "y\n"
     ]
    },
    {
     "name": "stderr",
     "output_type": "stream",
     "text": [
      "own_name_clean : MCFADDEN FRANK & BRIDGEEN\n",
      "\n",
      "own_name_clean : MCFADDEN FRANK & BRIDGEEN M EES\n",
      "\n",
      "5/10 positive, 0/10 negative\n",
      "Do these records refer to the same thing?\n",
      "(y)es / (n)o / (u)nsure / (f)inished / (p)revious\n"
     ]
    },
    {
     "name": "stdout",
     "output_type": "stream",
     "text": [
      "y\n"
     ]
    },
    {
     "name": "stderr",
     "output_type": "stream",
     "text": [
      "INFO:dedupe.training:Final predicate set:\n",
      "INFO:dedupe.training:(SimplePredicate: (commonTwoTokens, own_name_clean), SimplePredicate: (firstTokenPredicate, own_name_clean))\n",
      "own_name_clean : DKA  \n",
      "\n",
      "own_name_clean : DKA  \n",
      "\n",
      "6/10 positive, 0/10 negative\n",
      "Do these records refer to the same thing?\n",
      "(y)es / (n)o / (u)nsure / (f)inished / (p)revious\n"
     ]
    },
    {
     "name": "stdout",
     "output_type": "stream",
     "text": [
      "y\n"
     ]
    },
    {
     "name": "stderr",
     "output_type": "stream",
     "text": [
      "own_name_clean : CRAIGIE \n",
      "\n",
      "own_name_clean : CRAIGIE \n",
      "\n",
      "7/10 positive, 0/10 negative\n",
      "Do these records refer to the same thing?\n",
      "(y)es / (n)o / (u)nsure / (f)inished / (p)revious\n"
     ]
    },
    {
     "name": "stdout",
     "output_type": "stream",
     "text": [
      "y\n"
     ]
    },
    {
     "name": "stderr",
     "output_type": "stream",
     "text": [
      "INFO:dedupe.training:Final predicate set:\n",
      "INFO:dedupe.training:(SimplePredicate: (doubleMetaphone, own_name_clean), SimplePredicate: (sameSevenCharStartPredicate, own_name_clean))\n",
      "INFO:dedupe.training:(SimplePredicate: (commonThreeTokens, own_name_clean), SimplePredicate: (firstTokenPredicate, own_name_clean))\n",
      "own_name_clean : GUIGLI, MICHAEL\n",
      "\n",
      "own_name_clean : GUIGLI, MICHAEL S.\n",
      "\n",
      "8/10 positive, 0/10 negative\n",
      "Do these records refer to the same thing?\n",
      "(y)es / (n)o / (u)nsure / (f)inished / (p)revious\n"
     ]
    },
    {
     "name": "stdout",
     "output_type": "stream",
     "text": [
      "y\n"
     ]
    },
    {
     "name": "stderr",
     "output_type": "stream",
     "text": [
      "own_name_clean : 53 CURTIS AVE \n",
      "\n",
      "own_name_clean : 53 CURTIS AVENUE \n",
      "\n",
      "9/10 positive, 0/10 negative\n",
      "Do these records refer to the same thing?\n",
      "(y)es / (n)o / (u)nsure / (f)inished / (p)revious\n"
     ]
    },
    {
     "name": "stdout",
     "output_type": "stream",
     "text": [
      "y\n"
     ]
    },
    {
     "name": "stderr",
     "output_type": "stream",
     "text": [
      "INFO:dedupe.training:Final predicate set:\n",
      "INFO:dedupe.training:(SimplePredicate: (commonTwoTokens, own_name_clean), SimplePredicate: (firstTokenPredicate, own_name_clean))\n",
      "INFO:dedupe.training:(SimplePredicate: (firstTokenPredicate, own_name_clean), SimplePredicate: (twoGramFingerprint, own_name_clean))\n",
      "own_name_clean : DIBENEDETTO MARIE \n",
      "\n",
      "own_name_clean : DIBENEDETTO MARIO A\n",
      "\n",
      "10/10 positive, 0/10 negative\n",
      "Do these records refer to the same thing?\n",
      "(y)es / (n)o / (u)nsure / (f)inished / (p)revious\n"
     ]
    },
    {
     "name": "stdout",
     "output_type": "stream",
     "text": [
      "n\n"
     ]
    },
    {
     "name": "stderr",
     "output_type": "stream",
     "text": [
      "own_name_clean : WAHN SCHAFFT OLIVER M\n",
      "\n",
      "own_name_clean : WAHNSCHAFFT OLIVER M\n",
      "\n",
      "10/10 positive, 1/10 negative\n",
      "Do these records refer to the same thing?\n",
      "(y)es / (n)o / (u)nsure / (f)inished / (p)revious\n"
     ]
    },
    {
     "name": "stdout",
     "output_type": "stream",
     "text": [
      "y\n"
     ]
    },
    {
     "name": "stderr",
     "output_type": "stream",
     "text": [
      "own_name_clean : DIMASCIO IDA\n",
      "\n",
      "own_name_clean : DIMASCIO  \n",
      "\n",
      "11/10 positive, 1/10 negative\n",
      "Do these records refer to the same thing?\n",
      "(y)es / (n)o / (u)nsure / (f)inished / (p)revious\n"
     ]
    },
    {
     "name": "stdout",
     "output_type": "stream",
     "text": [
      "u\n"
     ]
    },
    {
     "name": "stderr",
     "output_type": "stream",
     "text": [
      "INFO:dedupe.training:Final predicate set:\n",
      "INFO:dedupe.training:(SimplePredicate: (commonTwoTokens, own_name_clean), SimplePredicate: (sameSevenCharStartPredicate, own_name_clean))\n",
      "INFO:dedupe.training:(SimplePredicate: (sameThreeCharStartPredicate, own_name_clean), SimplePredicate: (twoGramFingerprint, own_name_clean))\n",
      "own_name_clean : LIN FENG\n",
      "\n",
      "own_name_clean : LIN PENG & CAI MI\n",
      "\n",
      "11/10 positive, 1/10 negative\n",
      "Do these records refer to the same thing?\n",
      "(y)es / (n)o / (u)nsure / (f)inished / (p)revious\n"
     ]
    },
    {
     "name": "stdout",
     "output_type": "stream",
     "text": [
      "y\n"
     ]
    },
    {
     "name": "stderr",
     "output_type": "stream",
     "text": [
      "own_name_clean : COSTAS PATRICIA A\n",
      "\n",
      "own_name_clean : COSTA  \n",
      "\n",
      "12/10 positive, 1/10 negative\n",
      "Do these records refer to the same thing?\n",
      "(y)es / (n)o / (u)nsure / (f)inished / (p)revious\n"
     ]
    },
    {
     "name": "stdout",
     "output_type": "stream",
     "text": [
      "u\n"
     ]
    },
    {
     "name": "stderr",
     "output_type": "stream",
     "text": [
      "INFO:dedupe.training:Final predicate set:\n",
      "INFO:dedupe.training:(SimplePredicate: (firstTokenPredicate, own_name_clean), SimplePredicate: (sameThreeCharStartPredicate, own_name_clean))\n",
      "INFO:dedupe.training:(SimplePredicate: (sameThreeCharStartPredicate, own_name_clean), SimplePredicate: (twoGramFingerprint, own_name_clean))\n",
      "own_name_clean : ANDERSON, GEORGE MCCULLOUGH IV &\n",
      "\n",
      "own_name_clean : ANDERS, GEORGE M.\n",
      "\n",
      "12/10 positive, 1/10 negative\n",
      "Do these records refer to the same thing?\n",
      "(y)es / (n)o / (u)nsure / (f)inished / (p)revious\n"
     ]
    },
    {
     "name": "stdout",
     "output_type": "stream",
     "text": [
      "y\n"
     ]
    },
    {
     "name": "stderr",
     "output_type": "stream",
     "text": [
      "own_name_clean : 1008 MASSACHUSETTS AVENUE .\n",
      "\n",
      "own_name_clean : 1979 MASSACHUSETTS AVENUE, \n",
      "\n",
      "13/10 positive, 1/10 negative\n",
      "Do these records refer to the same thing?\n",
      "(y)es / (n)o / (u)nsure / (f)inished / (p)revious\n"
     ]
    },
    {
     "name": "stdout",
     "output_type": "stream",
     "text": [
      "n\n"
     ]
    },
    {
     "name": "stderr",
     "output_type": "stream",
     "text": [
      "INFO:dedupe.training:Final predicate set:\n",
      "INFO:dedupe.training:(SimplePredicate: (sameThreeCharStartPredicate, own_name_clean), SimplePredicate: (tokenFieldPredicate, own_name_clean))\n",
      "own_name_clean : 1008 MASSACHUSETTS AVENUE .\n",
      "\n",
      "own_name_clean : 1979 MASSACHUSETTS AVENUE, \n",
      "\n",
      "13/10 positive, 2/10 negative\n",
      "Do these records refer to the same thing?\n",
      "(y)es / (n)o / (u)nsure / (f)inished / (p)revious\n"
     ]
    },
    {
     "name": "stdout",
     "output_type": "stream",
     "text": [
      "n\n"
     ]
    },
    {
     "name": "stderr",
     "output_type": "stream",
     "text": [
      "own_name_clean : CHOU YEE\n",
      "\n",
      "own_name_clean : CHO  \n",
      "\n",
      "13/10 positive, 3/10 negative\n",
      "Do these records refer to the same thing?\n",
      "(y)es / (n)o / (u)nsure / (f)inished / (p)revious\n"
     ]
    },
    {
     "name": "stdout",
     "output_type": "stream",
     "text": [
      "n\n"
     ]
    },
    {
     "name": "stderr",
     "output_type": "stream",
     "text": [
      "own_name_clean : MCCOY PROPERTIES \n",
      "\n",
      "own_name_clean : MAC PROPERTIES \n",
      "\n",
      "13/10 positive, 4/10 negative\n",
      "Do these records refer to the same thing?\n",
      "(y)es / (n)o / (u)nsure / (f)inished / (p)revious\n"
     ]
    },
    {
     "name": "stdout",
     "output_type": "stream",
     "text": [
      "n\n"
     ]
    },
    {
     "name": "stderr",
     "output_type": "stream",
     "text": [
      "own_name_clean : FERU FREDERIC\n",
      "\n",
      "own_name_clean : LEVY, FREDERICK R. & JUDITH PERLSTEIN\n",
      "\n",
      "13/10 positive, 5/10 negative\n",
      "Do these records refer to the same thing?\n",
      "(y)es / (n)o / (u)nsure / (f)inished / (p)revious\n"
     ]
    },
    {
     "name": "stdout",
     "output_type": "stream",
     "text": [
      "n\n"
     ]
    },
    {
     "name": "stderr",
     "output_type": "stream",
     "text": [
      "own_name_clean : YANG MO\n",
      "\n",
      "own_name_clean : YANG, MO\n",
      "\n",
      "13/10 positive, 6/10 negative\n",
      "Do these records refer to the same thing?\n",
      "(y)es / (n)o / (u)nsure / (f)inished / (p)revious\n"
     ]
    },
    {
     "name": "stdout",
     "output_type": "stream",
     "text": [
      "y\n"
     ]
    },
    {
     "name": "stderr",
     "output_type": "stream",
     "text": [
      "own_name_clean : MCLAUGHLIN, KEVIN\n",
      "\n",
      "own_name_clean : MCLAUGHLIN KEVIN J\n",
      "\n",
      "14/10 positive, 6/10 negative\n",
      "Do these records refer to the same thing?\n",
      "(y)es / (n)o / (u)nsure / (f)inished / (p)revious\n"
     ]
    },
    {
     "name": "stdout",
     "output_type": "stream",
     "text": [
      "y\n"
     ]
    },
    {
     "name": "stderr",
     "output_type": "stream",
     "text": [
      "own_name_clean : ROBERTS, MARTIN\n",
      "\n",
      "own_name_clean : ROBERTS, KATHERINE D. , JOHN & ALISON\n",
      "\n",
      "15/10 positive, 6/10 negative\n",
      "Do these records refer to the same thing?\n",
      "(y)es / (n)o / (u)nsure / (f)inished / (p)revious\n"
     ]
    },
    {
     "name": "stdout",
     "output_type": "stream",
     "text": [
      "n\n"
     ]
    },
    {
     "name": "stderr",
     "output_type": "stream",
     "text": [
      "own_name_clean : KORDA CHRISTOPHER V\n",
      "\n",
      "own_name_clean : KEILY CHRISTOPHER J & ELISE M\n",
      "\n",
      "15/10 positive, 7/10 negative\n",
      "Do these records refer to the same thing?\n",
      "(y)es / (n)o / (u)nsure / (f)inished / (p)revious\n"
     ]
    },
    {
     "name": "stdout",
     "output_type": "stream",
     "text": [
      "n\n"
     ]
    },
    {
     "name": "stderr",
     "output_type": "stream",
     "text": [
      "own_name_clean : HARRINGTON KAREN \n",
      "\n",
      "own_name_clean : HARRINGTON, DANIEL T. & LINDA TARANTINO\n",
      "\n",
      "15/10 positive, 8/10 negative\n",
      "Do these records refer to the same thing?\n",
      "(y)es / (n)o / (u)nsure / (f)inished / (p)revious\n"
     ]
    },
    {
     "name": "stdout",
     "output_type": "stream",
     "text": [
      "n\n"
     ]
    },
    {
     "name": "stderr",
     "output_type": "stream",
     "text": [
      "own_name_clean : MIRZA MUSHTAQUE ALI KHAN EE\n",
      "\n",
      "own_name_clean : MIRZA, MUSHTAQUE ALIKHAN, \n",
      "\n",
      "15/10 positive, 9/10 negative\n",
      "Do these records refer to the same thing?\n",
      "(y)es / (n)o / (u)nsure / (f)inished / (p)revious\n"
     ]
    },
    {
     "name": "stdout",
     "output_type": "stream",
     "text": [
      "y\n"
     ]
    },
    {
     "name": "stderr",
     "output_type": "stream",
     "text": [
      "own_name_clean : SILVA  2 \n",
      "\n",
      "own_name_clean : SILVA FERNANDO & MARIA\n",
      "\n",
      "16/10 positive, 9/10 negative\n",
      "Do these records refer to the same thing?\n",
      "(y)es / (n)o / (u)nsure / (f)inished / (p)revious\n"
     ]
    },
    {
     "name": "stdout",
     "output_type": "stream",
     "text": [
      "u\n"
     ]
    },
    {
     "name": "stderr",
     "output_type": "stream",
     "text": [
      "own_name_clean : GRAHAM, WILLIAM A. & BARBARA S. GRAHAM\n",
      "\n",
      "own_name_clean : GRAHAM LINDA\n",
      "\n",
      "16/10 positive, 9/10 negative\n",
      "Do these records refer to the same thing?\n",
      "(y)es / (n)o / (u)nsure / (f)inished / (p)revious\n"
     ]
    },
    {
     "name": "stdout",
     "output_type": "stream",
     "text": [
      "u\n"
     ]
    },
    {
     "name": "stderr",
     "output_type": "stream",
     "text": [
      "own_name_clean : MURPHY WILLIAM\n",
      "\n",
      "own_name_clean : MURPHY LIAM\n",
      "\n",
      "16/10 positive, 9/10 negative\n",
      "Do these records refer to the same thing?\n",
      "(y)es / (n)o / (u)nsure / (f)inished / (p)revious\n"
     ]
    },
    {
     "name": "stdout",
     "output_type": "stream",
     "text": [
      "n\n"
     ]
    },
    {
     "name": "stderr",
     "output_type": "stream",
     "text": [
      "own_name_clean : CAMBRIDGE AFFORDABLE HOUSING CORP\n",
      "\n",
      "own_name_clean : CAMBRIDGE DAWN \n",
      "\n",
      "16/10 positive, 10/10 negative\n",
      "Do these records refer to the same thing?\n",
      "(y)es / (n)o / (u)nsure / (f)inished / (p)revious\n"
     ]
    },
    {
     "name": "stdout",
     "output_type": "stream",
     "text": [
      "n\n"
     ]
    },
    {
     "name": "stderr",
     "output_type": "stream",
     "text": [
      "own_name_clean : MILLER CHRISTOPHER & SAMANTHA ROSS MILLE\n",
      "\n",
      "own_name_clean : MILLER JOAN M\n",
      "\n",
      "16/10 positive, 11/10 negative\n",
      "Do these records refer to the same thing?\n",
      "(y)es / (n)o / (u)nsure / (f)inished / (p)revious\n"
     ]
    },
    {
     "name": "stdout",
     "output_type": "stream",
     "text": [
      "n\n"
     ]
    },
    {
     "name": "stderr",
     "output_type": "stream",
     "text": [
      "own_name_clean : SOUSA LAURA \n",
      "\n",
      "own_name_clean : SOUSA, MARIA I. & MANUEL R. SOUSA\n",
      "\n",
      "16/10 positive, 12/10 negative\n",
      "Do these records refer to the same thing?\n",
      "(y)es / (n)o / (u)nsure / (f)inished / (p)revious\n"
     ]
    },
    {
     "name": "stdout",
     "output_type": "stream",
     "text": [
      "n\n"
     ]
    },
    {
     "name": "stderr",
     "output_type": "stream",
     "text": [
      "own_name_clean : KIERCE   \n",
      "\n",
      "own_name_clean : KIERCE PATRICK J JR\n",
      "\n",
      "16/10 positive, 13/10 negative\n",
      "Do these records refer to the same thing?\n",
      "(y)es / (n)o / (u)nsure / (f)inished / (p)revious\n"
     ]
    },
    {
     "name": "stdout",
     "output_type": "stream",
     "text": [
      "u\n"
     ]
    },
    {
     "name": "stderr",
     "output_type": "stream",
     "text": [
      "own_name_clean : LIU, HONG & TIEMAE ROQUERRE\n",
      "\n",
      "own_name_clean : LIU, HONG & TIEQUIN ROQUERRE\n",
      "\n",
      "16/10 positive, 13/10 negative\n",
      "Do these records refer to the same thing?\n",
      "(y)es / (n)o / (u)nsure / (f)inished / (p)revious\n"
     ]
    },
    {
     "name": "stdout",
     "output_type": "stream",
     "text": [
      "y\n"
     ]
    },
    {
     "name": "stderr",
     "output_type": "stream",
     "text": [
      "own_name_clean : CARREIRO LAURA\n",
      "\n",
      "own_name_clean : CARREIRO GIL\n",
      "\n",
      "17/10 positive, 13/10 negative\n",
      "Do these records refer to the same thing?\n",
      "(y)es / (n)o / (u)nsure / (f)inished / (p)revious\n"
     ]
    },
    {
     "name": "stdout",
     "output_type": "stream",
     "text": [
      "n\n"
     ]
    },
    {
     "name": "stderr",
     "output_type": "stream",
     "text": [
      "own_name_clean : YOGEL,  DAVID M. \n",
      "\n",
      "own_name_clean : YOGEL, DAVID M  OF\n",
      "\n",
      "17/10 positive, 14/10 negative\n",
      "Do these records refer to the same thing?\n",
      "(y)es / (n)o / (u)nsure / (f)inished / (p)revious\n"
     ]
    },
    {
     "name": "stdout",
     "output_type": "stream",
     "text": [
      "y\n"
     ]
    },
    {
     "name": "stderr",
     "output_type": "stream",
     "text": [
      "own_name_clean : ANDERSON ERIK A\n",
      "\n",
      "own_name_clean : ANDERSON, THOMAS D. & EVELYN G. ANDERSON\n",
      "\n",
      "18/10 positive, 14/10 negative\n",
      "Do these records refer to the same thing?\n",
      "(y)es / (n)o / (u)nsure / (f)inished / (p)revious\n"
     ]
    },
    {
     "name": "stdout",
     "output_type": "stream",
     "text": [
      "n\n"
     ]
    },
    {
     "name": "stderr",
     "output_type": "stream",
     "text": [
      "own_name_clean : LIN, YI\n",
      "\n",
      "own_name_clean : LIN, MARIA\n",
      "\n",
      "18/10 positive, 15/10 negative\n",
      "Do these records refer to the same thing?\n",
      "(y)es / (n)o / (u)nsure / (f)inished / (p)revious\n"
     ]
    },
    {
     "name": "stdout",
     "output_type": "stream",
     "text": [
      "n\n"
     ]
    },
    {
     "name": "stderr",
     "output_type": "stream",
     "text": [
      "own_name_clean : GALLAGHER HOLLY AVE \n",
      "\n",
      "own_name_clean : GALLAGHER COREY ANN\n",
      "\n",
      "18/10 positive, 16/10 negative\n",
      "Do these records refer to the same thing?\n",
      "(y)es / (n)o / (u)nsure / (f)inished / (p)revious\n"
     ]
    },
    {
     "name": "stdout",
     "output_type": "stream",
     "text": [
      "n\n"
     ]
    },
    {
     "name": "stderr",
     "output_type": "stream",
     "text": [
      "own_name_clean : 138 ANTRIM STREET \n",
      "\n",
      "own_name_clean : 138 WINTHROP STREET CONDOMINIUM\n",
      "\n",
      "18/10 positive, 17/10 negative\n",
      "Do these records refer to the same thing?\n",
      "(y)es / (n)o / (u)nsure / (f)inished / (p)revious\n"
     ]
    },
    {
     "name": "stdout",
     "output_type": "stream",
     "text": [
      "n\n"
     ]
    },
    {
     "name": "stderr",
     "output_type": "stream",
     "text": [
      "own_name_clean : FERNANDEZ LUIS\n",
      "\n",
      "own_name_clean : FERNANDEZ STEVEN\n",
      "\n",
      "18/10 positive, 18/10 negative\n",
      "Do these records refer to the same thing?\n",
      "(y)es / (n)o / (u)nsure / (f)inished / (p)revious\n"
     ]
    },
    {
     "name": "stdout",
     "output_type": "stream",
     "text": [
      "n\n"
     ]
    },
    {
     "name": "stderr",
     "output_type": "stream",
     "text": [
      "own_name_clean : ALVES JOHN P & MARIA M S\n",
      "\n",
      "own_name_clean : ALVES JOSEPH M\n",
      "\n",
      "18/10 positive, 19/10 negative\n",
      "Do these records refer to the same thing?\n",
      "(y)es / (n)o / (u)nsure / (f)inished / (p)revious\n"
     ]
    },
    {
     "name": "stdout",
     "output_type": "stream",
     "text": [
      "n\n"
     ]
    },
    {
     "name": "stderr",
     "output_type": "stream",
     "text": [
      "own_name_clean : CHAVES JORGE \n",
      "\n",
      "own_name_clean : CHAVES EDUARDO J & ERMELINDA L\n",
      "\n",
      "18/10 positive, 20/10 negative\n",
      "Do these records refer to the same thing?\n",
      "(y)es / (n)o / (u)nsure / (f)inished / (p)revious\n"
     ]
    },
    {
     "name": "stdout",
     "output_type": "stream",
     "text": [
      "n\n"
     ]
    },
    {
     "name": "stderr",
     "output_type": "stream",
     "text": [
      "own_name_clean : JOHNSON ENA G\n",
      "\n",
      "own_name_clean : JOHNSON, NATASHA\n",
      "\n",
      "18/10 positive, 21/10 negative\n",
      "Do these records refer to the same thing?\n",
      "(y)es / (n)o / (u)nsure / (f)inished / (p)revious\n"
     ]
    },
    {
     "name": "stdout",
     "output_type": "stream",
     "text": [
      "n\n"
     ]
    },
    {
     "name": "stderr",
     "output_type": "stream",
     "text": [
      "own_name_clean : PAPALUCA PATRICIA M \n",
      "\n",
      "own_name_clean : PAPPAS PATRICIA M\n",
      "\n",
      "18/10 positive, 22/10 negative\n",
      "Do these records refer to the same thing?\n",
      "(y)es / (n)o / (u)nsure / (f)inished / (p)revious\n"
     ]
    },
    {
     "name": "stdout",
     "output_type": "stream",
     "text": [
      "n\n"
     ]
    },
    {
     "name": "stderr",
     "output_type": "stream",
     "text": [
      "own_name_clean : TOLMAN, WARREN E. & CAROLYN B. TOLMAN\n",
      "\n",
      "own_name_clean : TOLMAN, CAROLYN B. & WARREN E. TOLMAN\n",
      "\n",
      "18/10 positive, 23/10 negative\n",
      "Do these records refer to the same thing?\n",
      "(y)es / (n)o / (u)nsure / (f)inished / (p)revious\n"
     ]
    },
    {
     "name": "stdout",
     "output_type": "stream",
     "text": [
      "y\n"
     ]
    },
    {
     "name": "stderr",
     "output_type": "stream",
     "text": [
      "own_name_clean : MARTINS, ALFREDO D.\n",
      "\n",
      "own_name_clean : MARTINS, ALFRED JR.\n",
      "\n",
      "19/10 positive, 23/10 negative\n",
      "Do these records refer to the same thing?\n",
      "(y)es / (n)o / (u)nsure / (f)inished / (p)revious\n"
     ]
    },
    {
     "name": "stdout",
     "output_type": "stream",
     "text": [
      "u\n"
     ]
    },
    {
     "name": "stderr",
     "output_type": "stream",
     "text": [
      "own_name_clean : HARDING, DONALD &  SHIRLEY A HARDING\n",
      "\n",
      "own_name_clean : HARDING GLENN S\n",
      "\n",
      "19/10 positive, 23/10 negative\n",
      "Do these records refer to the same thing?\n",
      "(y)es / (n)o / (u)nsure / (f)inished / (p)revious\n"
     ]
    },
    {
     "name": "stdout",
     "output_type": "stream",
     "text": [
      "n\n"
     ]
    },
    {
     "name": "stderr",
     "output_type": "stream",
     "text": [
      "own_name_clean : MCCARTHY MAURA\n",
      "\n",
      "own_name_clean : MCCARTHY CHRISTOPHER\n",
      "\n",
      "19/10 positive, 24/10 negative\n",
      "Do these records refer to the same thing?\n",
      "(y)es / (n)o / (u)nsure / (f)inished / (p)revious\n"
     ]
    },
    {
     "name": "stdout",
     "output_type": "stream",
     "text": [
      "n\n"
     ]
    },
    {
     "name": "stderr",
     "output_type": "stream",
     "text": [
      "own_name_clean : THE ROSANNE IWANICKI LIVING \n",
      "\n",
      "own_name_clean : THE SUN 1 \n",
      "\n",
      "19/10 positive, 25/10 negative\n",
      "Do these records refer to the same thing?\n",
      "(y)es / (n)o / (u)nsure / (f)inished / (p)revious\n"
     ]
    },
    {
     "name": "stdout",
     "output_type": "stream",
     "text": [
      "n\n"
     ]
    },
    {
     "name": "stderr",
     "output_type": "stream",
     "text": [
      "own_name_clean : BELL, STEPHEN A. & AMAYA O. BELL\n",
      "\n",
      "own_name_clean : BELL PEGGY\n",
      "\n",
      "19/10 positive, 26/10 negative\n",
      "Do these records refer to the same thing?\n",
      "(y)es / (n)o / (u)nsure / (f)inished / (p)revious\n"
     ]
    },
    {
     "name": "stdout",
     "output_type": "stream",
     "text": [
      "n\n"
     ]
    },
    {
     "name": "stderr",
     "output_type": "stream",
     "text": [
      "own_name_clean : LACROIX DAVID W\n",
      "\n",
      "own_name_clean : LACROIX, DIDIER & AGNES LACROIX\n",
      "\n",
      "19/10 positive, 27/10 negative\n",
      "Do these records refer to the same thing?\n",
      "(y)es / (n)o / (u)nsure / (f)inished / (p)revious\n"
     ]
    },
    {
     "name": "stdout",
     "output_type": "stream",
     "text": [
      "n\n"
     ]
    },
    {
     "name": "stderr",
     "output_type": "stream",
     "text": [
      "own_name_clean : SMITH DAVID M\n",
      "\n",
      "own_name_clean : SMITH, ALEXANDRA G. & STEPHEN R. ODOM\n",
      "\n",
      "19/10 positive, 28/10 negative\n",
      "Do these records refer to the same thing?\n",
      "(y)es / (n)o / (u)nsure / (f)inished / (p)revious\n"
     ]
    },
    {
     "name": "stdout",
     "output_type": "stream",
     "text": [
      "n\n"
     ]
    },
    {
     "name": "stderr",
     "output_type": "stream",
     "text": [
      "own_name_clean : DOMINIQUE PATTIN LIVING \n",
      "\n",
      "own_name_clean : DOMINIQUE JEAN W\n",
      "\n",
      "19/10 positive, 29/10 negative\n",
      "Do these records refer to the same thing?\n",
      "(y)es / (n)o / (u)nsure / (f)inished / (p)revious\n"
     ]
    },
    {
     "name": "stdout",
     "output_type": "stream",
     "text": [
      "n\n"
     ]
    },
    {
     "name": "stderr",
     "output_type": "stream",
     "text": [
      "own_name_clean : HUANG, JING FENG & JING YAO ZHANG\n",
      "\n",
      "own_name_clean : HUANG, CHANGLIN\n",
      "\n",
      "19/10 positive, 30/10 negative\n",
      "Do these records refer to the same thing?\n",
      "(y)es / (n)o / (u)nsure / (f)inished / (p)revious\n"
     ]
    },
    {
     "name": "stdout",
     "output_type": "stream",
     "text": [
      "n\n"
     ]
    },
    {
     "name": "stderr",
     "output_type": "stream",
     "text": [
      "own_name_clean : GILMAN, ARTHUR L., \n",
      "\n",
      "own_name_clean : GILMAN, RICHARD C.,  OF\n",
      "\n",
      "19/10 positive, 31/10 negative\n",
      "Do these records refer to the same thing?\n",
      "(y)es / (n)o / (u)nsure / (f)inished / (p)revious\n"
     ]
    },
    {
     "name": "stdout",
     "output_type": "stream",
     "text": [
      "n\n"
     ]
    },
    {
     "name": "stderr",
     "output_type": "stream",
     "text": [
      "own_name_clean : WANG, KAIYAN\n",
      "\n",
      "own_name_clean : WANG, KATHRYN\n",
      "\n",
      "19/10 positive, 32/10 negative\n",
      "Do these records refer to the same thing?\n",
      "(y)es / (n)o / (u)nsure / (f)inished / (p)revious\n"
     ]
    },
    {
     "name": "stdout",
     "output_type": "stream",
     "text": [
      "n\n"
     ]
    },
    {
     "name": "stderr",
     "output_type": "stream",
     "text": [
      "own_name_clean : CHOW, SHEUNG H., HUI-LING CHOW,\n",
      "\n",
      "own_name_clean : CHOW WENDY\n",
      "\n",
      "19/10 positive, 33/10 negative\n",
      "Do these records refer to the same thing?\n",
      "(y)es / (n)o / (u)nsure / (f)inished / (p)revious\n"
     ]
    },
    {
     "name": "stdout",
     "output_type": "stream",
     "text": [
      "n\n"
     ]
    },
    {
     "name": "stderr",
     "output_type": "stream",
     "text": [
      "own_name_clean : DYER, RICHARD\n",
      "\n",
      "own_name_clean : DYER, GEORGE & MARTHA DYER\n",
      "\n",
      "19/10 positive, 34/10 negative\n",
      "Do these records refer to the same thing?\n",
      "(y)es / (n)o / (u)nsure / (f)inished / (p)revious\n"
     ]
    },
    {
     "name": "stdout",
     "output_type": "stream",
     "text": [
      "n\n"
     ]
    },
    {
     "name": "stderr",
     "output_type": "stream",
     "text": [
      "own_name_clean : YOGEL, DAVID M. \n",
      "\n",
      "own_name_clean : YOGEL, ERIC \n",
      "\n",
      "19/10 positive, 35/10 negative\n",
      "Do these records refer to the same thing?\n",
      "(y)es / (n)o / (u)nsure / (f)inished / (p)revious\n"
     ]
    },
    {
     "name": "stdout",
     "output_type": "stream",
     "text": [
      "n\n"
     ]
    },
    {
     "name": "stderr",
     "output_type": "stream",
     "text": [
      "own_name_clean : DOHERTY PETER & ABRAHAMS JODI N\n",
      "\n",
      "own_name_clean : DOHERTY JOHN J JR\n",
      "\n",
      "19/10 positive, 36/10 negative\n",
      "Do these records refer to the same thing?\n",
      "(y)es / (n)o / (u)nsure / (f)inished / (p)revious\n"
     ]
    },
    {
     "name": "stdout",
     "output_type": "stream",
     "text": [
      "n\n"
     ]
    },
    {
     "name": "stderr",
     "output_type": "stream",
     "text": [
      "own_name_clean : HILL, CAROL\n",
      "\n",
      "own_name_clean : HILL, CLAUDIA\n",
      "\n",
      "19/10 positive, 37/10 negative\n",
      "Do these records refer to the same thing?\n",
      "(y)es / (n)o / (u)nsure / (f)inished / (p)revious\n"
     ]
    },
    {
     "name": "stdout",
     "output_type": "stream",
     "text": [
      "n\n"
     ]
    },
    {
     "name": "stderr",
     "output_type": "stream",
     "text": [
      "own_name_clean : HARPER, G. NEIL & ANNE YOST HARPER\n",
      "\n",
      "own_name_clean : HARPER, ROBIN D.\n",
      "\n",
      "19/10 positive, 38/10 negative\n",
      "Do these records refer to the same thing?\n",
      "(y)es / (n)o / (u)nsure / (f)inished / (p)revious\n"
     ]
    },
    {
     "name": "stdout",
     "output_type": "stream",
     "text": [
      "n\n"
     ]
    },
    {
     "name": "stderr",
     "output_type": "stream",
     "text": [
      "own_name_clean : SINGH, GEETA & DEEPAK SINGH\n",
      "\n",
      "own_name_clean : SINGH, MOHAN, \n",
      "\n",
      "19/10 positive, 39/10 negative\n",
      "Do these records refer to the same thing?\n",
      "(y)es / (n)o / (u)nsure / (f)inished / (p)revious\n"
     ]
    },
    {
     "name": "stdout",
     "output_type": "stream",
     "text": [
      "n\n"
     ]
    },
    {
     "name": "stderr",
     "output_type": "stream",
     "text": [
      "own_name_clean : LAMBERT, PETER J.& YUYING XIE\n",
      "\n",
      "own_name_clean : LAMBERT, DEBRA BIBA\n",
      "\n",
      "19/10 positive, 40/10 negative\n",
      "Do these records refer to the same thing?\n",
      "(y)es / (n)o / (u)nsure / (f)inished / (p)revious\n"
     ]
    },
    {
     "name": "stdout",
     "output_type": "stream",
     "text": [
      "n\n"
     ]
    },
    {
     "name": "stderr",
     "output_type": "stream",
     "text": [
      "own_name_clean : THE CATHERINE T LAHIFF \n",
      "\n",
      "own_name_clean : THE SHINE  \n",
      "\n",
      "19/10 positive, 41/10 negative\n",
      "Do these records refer to the same thing?\n",
      "(y)es / (n)o / (u)nsure / (f)inished / (p)revious\n"
     ]
    },
    {
     "name": "stdout",
     "output_type": "stream",
     "text": [
      "n\n"
     ]
    },
    {
     "name": "stderr",
     "output_type": "stream",
     "text": [
      "own_name_clean : RHOADS VICTOR\n",
      "\n",
      "own_name_clean : RHOADS, JOHN G. & SUSAN S. BEAN\n",
      "\n",
      "19/10 positive, 42/10 negative\n",
      "Do these records refer to the same thing?\n",
      "(y)es / (n)o / (u)nsure / (f)inished / (p)revious\n"
     ]
    },
    {
     "name": "stdout",
     "output_type": "stream",
     "text": [
      "n\n"
     ]
    },
    {
     "name": "stderr",
     "output_type": "stream",
     "text": [
      "own_name_clean : MCSHEFFERY, JAMES, &\n",
      "\n",
      "own_name_clean : MCSHEFFERY LAWRENCE & CHRISTINA\n",
      "\n",
      "19/10 positive, 43/10 negative\n",
      "Do these records refer to the same thing?\n",
      "(y)es / (n)o / (u)nsure / (f)inished / (p)revious\n"
     ]
    },
    {
     "name": "stdout",
     "output_type": "stream",
     "text": [
      "n\n"
     ]
    },
    {
     "name": "stderr",
     "output_type": "stream",
     "text": [
      "own_name_clean : SULLIVAN MICHAEL A & DIANNE D\n",
      "\n",
      "own_name_clean : SULLIVAN RICHARD C & ROSALIE C\n",
      "\n",
      "19/10 positive, 44/10 negative\n",
      "Do these records refer to the same thing?\n",
      "(y)es / (n)o / (u)nsure / (f)inished / (p)revious\n"
     ]
    },
    {
     "name": "stdout",
     "output_type": "stream",
     "text": [
      "n\n"
     ]
    },
    {
     "name": "stderr",
     "output_type": "stream",
     "text": [
      "own_name_clean : OLEARY, SUSAN\n",
      "\n",
      "own_name_clean : OLEARY, ROBERT &\n",
      "\n",
      "19/10 positive, 45/10 negative\n",
      "Do these records refer to the same thing?\n",
      "(y)es / (n)o / (u)nsure / (f)inished / (p)revious\n"
     ]
    },
    {
     "name": "stdout",
     "output_type": "stream",
     "text": [
      "n\n"
     ]
    },
    {
     "name": "stderr",
     "output_type": "stream",
     "text": [
      "own_name_clean : HOFFMAN, ANNE\n",
      "\n",
      "own_name_clean : HOFFMAN ALFRED J\n",
      "\n",
      "19/10 positive, 46/10 negative\n",
      "Do these records refer to the same thing?\n",
      "(y)es / (n)o / (u)nsure / (f)inished / (p)revious\n"
     ]
    },
    {
     "name": "stdout",
     "output_type": "stream",
     "text": [
      "n\n"
     ]
    },
    {
     "name": "stderr",
     "output_type": "stream",
     "text": [
      "own_name_clean : OBRIEN, KATHERINE T. & DANIEL E. O'BRIE\n",
      "\n",
      "own_name_clean : OBRIEN ROBERT LEO\n",
      "\n",
      "19/10 positive, 47/10 negative\n",
      "Do these records refer to the same thing?\n",
      "(y)es / (n)o / (u)nsure / (f)inished / (p)revious\n"
     ]
    },
    {
     "name": "stdout",
     "output_type": "stream",
     "text": [
      "n\n"
     ]
    },
    {
     "name": "stderr",
     "output_type": "stream",
     "text": [
      "own_name_clean : HARRIS MARY \n",
      "\n",
      "own_name_clean : HARRIS, JOY\n",
      "\n",
      "19/10 positive, 48/10 negative\n",
      "Do these records refer to the same thing?\n",
      "(y)es / (n)o / (u)nsure / (f)inished / (p)revious\n"
     ]
    },
    {
     "name": "stdout",
     "output_type": "stream",
     "text": [
      "n\n"
     ]
    },
    {
     "name": "stderr",
     "output_type": "stream",
     "text": [
      "own_name_clean : CHEN, LINAN\n",
      "\n",
      "own_name_clean : CHEN WILLIAM K & HENRY G\n",
      "\n",
      "19/10 positive, 49/10 negative\n",
      "Do these records refer to the same thing?\n",
      "(y)es / (n)o / (u)nsure / (f)inished / (p)revious\n"
     ]
    },
    {
     "name": "stdout",
     "output_type": "stream",
     "text": [
      "n\n"
     ]
    },
    {
     "name": "stderr",
     "output_type": "stream",
     "text": [
      "own_name_clean : THE 60 FOUNTAIN STREET  \n",
      "\n",
      "own_name_clean : THE SUN 1 \n",
      "\n",
      "19/10 positive, 50/10 negative\n",
      "Do these records refer to the same thing?\n",
      "(y)es / (n)o / (u)nsure / (f)inished / (p)revious\n"
     ]
    },
    {
     "name": "stdout",
     "output_type": "stream",
     "text": [
      "f\n"
     ]
    },
    {
     "name": "stderr",
     "output_type": "stream",
     "text": [
      "Finished labeling\n"
     ]
    }
   ],
   "source": [
    "dedupe.console_label(deduper)"
   ]
  },
  {
   "cell_type": "code",
   "execution_count": 74,
   "metadata": {},
   "outputs": [
    {
     "name": "stderr",
     "output_type": "stream",
     "text": [
      "INFO:rlr.crossvalidation:using cross validation to find optimum alpha...\n",
      "INFO:rlr.crossvalidation:optimum alpha: 0.001000, score 0.763677932268224\n",
      "INFO:dedupe.training:Final predicate set:\n",
      "INFO:dedupe.training:(SimplePredicate: (sameFiveCharStartPredicate, own_name_clean), SimplePredicate: (tokenFieldPredicate, own_name_clean))\n"
     ]
    }
   ],
   "source": [
    "deduper.train()\n",
    "with open('csv_example_training.json', 'w') as tf:\n",
    "    deduper.write_training(tf)\n",
    "with open('settings', 'wb') as sf:\n",
    "    deduper.write_settings(sf)"
   ]
  },
  {
   "cell_type": "code",
   "execution_count": 75,
   "metadata": {},
   "outputs": [
    {
     "name": "stdout",
     "output_type": "stream",
     "text": [
      "Clustering...\n"
     ]
    },
    {
     "name": "stderr",
     "output_type": "stream",
     "text": [
      "INFO:dedupe.blocking:10000, 0.1782162 seconds\n",
      "INFO:dedupe.blocking:20000, 0.3309222 seconds\n",
      "INFO:dedupe.blocking:30000, 0.4865912 seconds\n",
      "INFO:dedupe.blocking:40000, 0.6323362 seconds\n",
      "INFO:dedupe.blocking:50000, 0.7865862 seconds\n"
     ]
    },
    {
     "name": "stdout",
     "output_type": "stream",
     "text": [
      "# duplicate sets 47133\n"
     ]
    }
   ],
   "source": [
    "print('Clustering...')\n",
    "clustered_dupes = deduper.partition(df_dict, 0.5)\n",
    "print('# duplicate sets', len(clustered_dupes))"
   ]
  },
  {
   "cell_type": "code",
   "execution_count": 87,
   "metadata": {},
   "outputs": [],
   "source": [
    "rid = []\n",
    "clst = []\n",
    "conf = []\n",
    "count = []\n",
    "for cluster_id, (records, scores) in enumerate(clustered_dupes):\n",
    "    for record_id, score in zip(records, scores):\n",
    "        count.append(len(records))\n",
    "        rid.append(record_id)\n",
    "        clst.append(cluster_id)\n",
    "        conf.append(score)\n",
    "        \n",
    "clust = pd.DataFrame(list(zip(clst, conf, count)), \n",
    "                  columns =['clst', 'conf', 'count'],\n",
    "                  index = rid\n",
    "                 )\n",
    "df = df.join(clust)"
   ]
  },
  {
   "cell_type": "code",
   "execution_count": 82,
   "metadata": {},
   "outputs": [
    {
     "data": {
      "text/html": [
       "<div>\n",
       "<style scoped>\n",
       "    .dataframe tbody tr th:only-of-type {\n",
       "        vertical-align: middle;\n",
       "    }\n",
       "\n",
       "    .dataframe tbody tr th {\n",
       "        vertical-align: top;\n",
       "    }\n",
       "\n",
       "    .dataframe thead th {\n",
       "        text-align: right;\n",
       "    }\n",
       "</style>\n",
       "<table border=\"1\" class=\"dataframe\">\n",
       "  <thead>\n",
       "    <tr style=\"text-align: right;\">\n",
       "      <th></th>\n",
       "      <th>pid</th>\n",
       "      <th>own_name</th>\n",
       "      <th>own_add</th>\n",
       "      <th>own_city</th>\n",
       "      <th>own_state</th>\n",
       "      <th>own_zip</th>\n",
       "      <th>own_country</th>\n",
       "      <th>use</th>\n",
       "      <th>city</th>\n",
       "      <th>year</th>\n",
       "      <th>own_name_clean</th>\n",
       "      <th>clst</th>\n",
       "      <th>conf</th>\n",
       "      <th>count</th>\n",
       "    </tr>\n",
       "  </thead>\n",
       "  <tbody>\n",
       "    <tr>\n",
       "      <th>149</th>\n",
       "      <td>103_C_20</td>\n",
       "      <td>VENEZIANO JAMES M</td>\n",
       "      <td>PO BOX 556</td>\n",
       "      <td>SOMERVILLE</td>\n",
       "      <td>MA</td>\n",
       "      <td>02143</td>\n",
       "      <td>USA</td>\n",
       "      <td>1050</td>\n",
       "      <td>SOMERVILLE</td>\n",
       "      <td>2019</td>\n",
       "      <td>VENEZIANO JAMES M</td>\n",
       "      <td>159</td>\n",
       "      <td>0.977959</td>\n",
       "      <td>9</td>\n",
       "    </tr>\n",
       "    <tr>\n",
       "      <th>150</th>\n",
       "      <td>103_C_21</td>\n",
       "      <td>VENEZIANO JAMES M TRUSTEE</td>\n",
       "      <td>PO BOX 556</td>\n",
       "      <td>SOMERVILLE</td>\n",
       "      <td>MA</td>\n",
       "      <td>02143</td>\n",
       "      <td>USA</td>\n",
       "      <td>1110</td>\n",
       "      <td>SOMERVILLE</td>\n",
       "      <td>2019</td>\n",
       "      <td>VENEZIANO JAMES M</td>\n",
       "      <td>159</td>\n",
       "      <td>0.980873</td>\n",
       "      <td>9</td>\n",
       "    </tr>\n",
       "    <tr>\n",
       "      <th>151</th>\n",
       "      <td>103_C_22</td>\n",
       "      <td>VENEZIANO JAMES TRUSTEE</td>\n",
       "      <td>PO BOX 556</td>\n",
       "      <td>SOMERVILLE</td>\n",
       "      <td>MA</td>\n",
       "      <td>02143</td>\n",
       "      <td>USA</td>\n",
       "      <td>1050</td>\n",
       "      <td>SOMERVILLE</td>\n",
       "      <td>2019</td>\n",
       "      <td>VENEZIANO JAMES</td>\n",
       "      <td>159</td>\n",
       "      <td>0.976838</td>\n",
       "      <td>9</td>\n",
       "    </tr>\n",
       "    <tr>\n",
       "      <th>158</th>\n",
       "      <td>103_C_26</td>\n",
       "      <td>VENEZIANO JAMES M TRUSTEE</td>\n",
       "      <td>PO BOX 556</td>\n",
       "      <td>SOMERVILLE</td>\n",
       "      <td>MA</td>\n",
       "      <td>02143</td>\n",
       "      <td>USA</td>\n",
       "      <td>1110</td>\n",
       "      <td>SOMERVILLE</td>\n",
       "      <td>2019</td>\n",
       "      <td>VENEZIANO JAMES M</td>\n",
       "      <td>159</td>\n",
       "      <td>0.980873</td>\n",
       "      <td>9</td>\n",
       "    </tr>\n",
       "    <tr>\n",
       "      <th>234</th>\n",
       "      <td>103_G_13</td>\n",
       "      <td>DIRENZO R &amp; IOLANDA &amp; MCKENZIE D TRUSTEE</td>\n",
       "      <td>17 ROYALL ST</td>\n",
       "      <td>MEDFORD</td>\n",
       "      <td>MA</td>\n",
       "      <td>02155</td>\n",
       "      <td>None</td>\n",
       "      <td>1110</td>\n",
       "      <td>SOMERVILLE</td>\n",
       "      <td>2019</td>\n",
       "      <td>DIRENZO R &amp; IOLANDA &amp; MCKENZIE D</td>\n",
       "      <td>242</td>\n",
       "      <td>0.982204</td>\n",
       "      <td>6</td>\n",
       "    </tr>\n",
       "    <tr>\n",
       "      <th>...</th>\n",
       "      <td>...</td>\n",
       "      <td>...</td>\n",
       "      <td>...</td>\n",
       "      <td>...</td>\n",
       "      <td>...</td>\n",
       "      <td>...</td>\n",
       "      <td>...</td>\n",
       "      <td>...</td>\n",
       "      <td>...</td>\n",
       "      <td>...</td>\n",
       "      <td>...</td>\n",
       "      <td>...</td>\n",
       "      <td>...</td>\n",
       "      <td>...</td>\n",
       "    </tr>\n",
       "    <tr>\n",
       "      <th>63975</th>\n",
       "      <td>X-10_128</td>\n",
       "      <td>BARROS JOSE D &amp; MARIA</td>\n",
       "      <td>252 HIGH ST</td>\n",
       "      <td>MEDFORD</td>\n",
       "      <td>MA</td>\n",
       "      <td>02155</td>\n",
       "      <td>USA</td>\n",
       "      <td>1040</td>\n",
       "      <td>MEDFORD</td>\n",
       "      <td>2019</td>\n",
       "      <td>BARROS JOSE D &amp; MARIA</td>\n",
       "      <td>197</td>\n",
       "      <td>0.687651</td>\n",
       "      <td>6</td>\n",
       "    </tr>\n",
       "    <tr>\n",
       "      <th>64070</th>\n",
       "      <td>X-10_96</td>\n",
       "      <td>SANTOS MANUEL C</td>\n",
       "      <td>20 HIGGINS AVE</td>\n",
       "      <td>MEDFORD</td>\n",
       "      <td>MA</td>\n",
       "      <td>02155</td>\n",
       "      <td>USA</td>\n",
       "      <td>1040</td>\n",
       "      <td>MEDFORD</td>\n",
       "      <td>2019</td>\n",
       "      <td>SANTOS MANUEL C</td>\n",
       "      <td>42</td>\n",
       "      <td>0.915227</td>\n",
       "      <td>6</td>\n",
       "    </tr>\n",
       "    <tr>\n",
       "      <th>64272</th>\n",
       "      <td>Y-10_23</td>\n",
       "      <td>LACOURT FOUNDATION LLC</td>\n",
       "      <td>30 COLLEGE AVE</td>\n",
       "      <td>SOMERVILLE</td>\n",
       "      <td>MA</td>\n",
       "      <td>02144</td>\n",
       "      <td>USA</td>\n",
       "      <td>1040</td>\n",
       "      <td>MEDFORD</td>\n",
       "      <td>2019</td>\n",
       "      <td>LACOURT FOUNDATION</td>\n",
       "      <td>1254</td>\n",
       "      <td>0.976714</td>\n",
       "      <td>20</td>\n",
       "    </tr>\n",
       "    <tr>\n",
       "      <th>64324</th>\n",
       "      <td>Y-10_59</td>\n",
       "      <td>MAHER DAVID F</td>\n",
       "      <td>962 BROADWAY</td>\n",
       "      <td>SOMERVILLE</td>\n",
       "      <td>MA</td>\n",
       "      <td>02144</td>\n",
       "      <td>USA</td>\n",
       "      <td>1040</td>\n",
       "      <td>MEDFORD</td>\n",
       "      <td>2019</td>\n",
       "      <td>MAHER DAVID F</td>\n",
       "      <td>1202</td>\n",
       "      <td>0.825011</td>\n",
       "      <td>9</td>\n",
       "    </tr>\n",
       "    <tr>\n",
       "      <th>64511</th>\n",
       "      <td>Y-11_7702</td>\n",
       "      <td>DOHERTY JOHN C &amp; DENISE SHEA</td>\n",
       "      <td>69 CARMEL RD</td>\n",
       "      <td>ANDOVER</td>\n",
       "      <td>MA</td>\n",
       "      <td>01810</td>\n",
       "      <td>USA</td>\n",
       "      <td>1021</td>\n",
       "      <td>MEDFORD</td>\n",
       "      <td>2019</td>\n",
       "      <td>DOHERTY JOHN C &amp; DENISE SHEA</td>\n",
       "      <td>59</td>\n",
       "      <td>0.752541</td>\n",
       "      <td>7</td>\n",
       "    </tr>\n",
       "  </tbody>\n",
       "</table>\n",
       "<p>2145 rows × 14 columns</p>\n",
       "</div>"
      ],
      "text/plain": [
       "             pid                                  own_name         own_add  \\\n",
       "149     103_C_20                         VENEZIANO JAMES M      PO BOX 556   \n",
       "150     103_C_21                 VENEZIANO JAMES M TRUSTEE      PO BOX 556   \n",
       "151     103_C_22                   VENEZIANO JAMES TRUSTEE      PO BOX 556   \n",
       "158     103_C_26                 VENEZIANO JAMES M TRUSTEE      PO BOX 556   \n",
       "234     103_G_13  DIRENZO R & IOLANDA & MCKENZIE D TRUSTEE    17 ROYALL ST   \n",
       "...          ...                                       ...             ...   \n",
       "63975   X-10_128                     BARROS JOSE D & MARIA     252 HIGH ST   \n",
       "64070    X-10_96                           SANTOS MANUEL C  20 HIGGINS AVE   \n",
       "64272    Y-10_23                    LACOURT FOUNDATION LLC  30 COLLEGE AVE   \n",
       "64324    Y-10_59                             MAHER DAVID F    962 BROADWAY   \n",
       "64511  Y-11_7702              DOHERTY JOHN C & DENISE SHEA    69 CARMEL RD   \n",
       "\n",
       "         own_city own_state own_zip own_country   use        city  year  \\\n",
       "149    SOMERVILLE        MA   02143         USA  1050  SOMERVILLE  2019   \n",
       "150    SOMERVILLE        MA   02143         USA  1110  SOMERVILLE  2019   \n",
       "151    SOMERVILLE        MA   02143         USA  1050  SOMERVILLE  2019   \n",
       "158    SOMERVILLE        MA   02143         USA  1110  SOMERVILLE  2019   \n",
       "234       MEDFORD        MA   02155        None  1110  SOMERVILLE  2019   \n",
       "...           ...       ...     ...         ...   ...         ...   ...   \n",
       "63975     MEDFORD        MA   02155         USA  1040     MEDFORD  2019   \n",
       "64070     MEDFORD        MA   02155         USA  1040     MEDFORD  2019   \n",
       "64272  SOMERVILLE        MA   02144         USA  1040     MEDFORD  2019   \n",
       "64324  SOMERVILLE        MA   02144         USA  1040     MEDFORD  2019   \n",
       "64511     ANDOVER        MA   01810         USA  1021     MEDFORD  2019   \n",
       "\n",
       "                          own_name_clean  clst      conf  count  \n",
       "149                    VENEZIANO JAMES M   159  0.977959      9  \n",
       "150                   VENEZIANO JAMES M    159  0.980873      9  \n",
       "151                     VENEZIANO JAMES    159  0.976838      9  \n",
       "158                   VENEZIANO JAMES M    159  0.980873      9  \n",
       "234    DIRENZO R & IOLANDA & MCKENZIE D    242  0.982204      6  \n",
       "...                                  ...   ...       ...    ...  \n",
       "63975              BARROS JOSE D & MARIA   197  0.687651      6  \n",
       "64070                    SANTOS MANUEL C    42  0.915227      6  \n",
       "64272                LACOURT FOUNDATION   1254  0.976714     20  \n",
       "64324                      MAHER DAVID F  1202  0.825011      9  \n",
       "64511       DOHERTY JOHN C & DENISE SHEA    59  0.752541      7  \n",
       "\n",
       "[2145 rows x 14 columns]"
      ]
     },
     "execution_count": 82,
     "metadata": {},
     "output_type": "execute_result"
    }
   ],
   "source": [
    "df[df['own_name']  5]"
   ]
  },
  {
   "cell_type": "code",
   "execution_count": 91,
   "metadata": {},
   "outputs": [],
   "source": [
    "df['pid'] = df['pid'].replace('_', '-', regex=True)\n",
    "df.set_index('pid')\n",
    "df.head()\n",
    "df.to_csv('parcels_clustered.csv')"
   ]
  },
  {
   "cell_type": "code",
   "execution_count": null,
   "metadata": {},
   "outputs": [],
   "source": []
  }
 ],
 "metadata": {
  "kernelspec": {
   "display_name": "Python 3",
   "language": "python",
   "name": "python3"
  },
  "language_info": {
   "codemirror_mode": {
    "name": "ipython",
    "version": 3
   },
   "file_extension": ".py",
   "mimetype": "text/x-python",
   "name": "python",
   "nbconvert_exporter": "python",
   "pygments_lexer": "ipython3",
   "version": "3.6.9"
  }
 },
 "nbformat": 4,
 "nbformat_minor": 4
}
